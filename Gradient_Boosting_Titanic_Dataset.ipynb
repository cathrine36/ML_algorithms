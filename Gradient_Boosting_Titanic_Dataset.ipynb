{
  "nbformat": 4,
  "nbformat_minor": 0,
  "metadata": {
    "colab": {
      "name": " Gradient Boosting Titanic Dataset.ipynb",
      "provenance": [],
      "collapsed_sections": [],
      "include_colab_link": true
    },
    "kernelspec": {
      "name": "python3",
      "display_name": "Python 3"
    }
  },
  "cells": [
    {
      "cell_type": "markdown",
      "metadata": {
        "id": "view-in-github",
        "colab_type": "text"
      },
      "source": [
        "<a href=\"https://colab.research.google.com/github/cathrine36/ML_algorithms/blob/master/Gradient_Boosting_Titanic_Dataset.ipynb\" target=\"_parent\"><img src=\"https://colab.research.google.com/assets/colab-badge.svg\" alt=\"Open In Colab\"/></a>"
      ]
    },
    {
      "cell_type": "code",
      "metadata": {
        "id": "Z0IhcoQGuT5k"
      },
      "source": [
        "import pandas as pd"
      ],
      "execution_count": null,
      "outputs": []
    },
    {
      "cell_type": "code",
      "metadata": {
        "id": "WBPWPJFWuW34"
      },
      "source": [
        "df_train = pd.read_csv(\"https://raw.githubusercontent.com/soaicbe/ml/master/titanic/train.csv\")\n",
        "df_test = pd.read_csv(\"https://raw.githubusercontent.com/soaicbe/ml/master/titanic/test.csv\")"
      ],
      "execution_count": null,
      "outputs": []
    },
    {
      "cell_type": "code",
      "metadata": {
        "id": "ZaQllNthuvIy",
        "colab": {
          "base_uri": "https://localhost:8080/",
          "height": 271
        },
        "outputId": "f1ac847f-f5c8-4823-fc6f-fc6290fbc814"
      },
      "source": [
        "df_train.head()"
      ],
      "execution_count": null,
      "outputs": [
        {
          "output_type": "execute_result",
          "data": {
            "text/html": [
              "<div>\n",
              "<style scoped>\n",
              "    .dataframe tbody tr th:only-of-type {\n",
              "        vertical-align: middle;\n",
              "    }\n",
              "\n",
              "    .dataframe tbody tr th {\n",
              "        vertical-align: top;\n",
              "    }\n",
              "\n",
              "    .dataframe thead th {\n",
              "        text-align: right;\n",
              "    }\n",
              "</style>\n",
              "<table border=\"1\" class=\"dataframe\">\n",
              "  <thead>\n",
              "    <tr style=\"text-align: right;\">\n",
              "      <th></th>\n",
              "      <th>PassengerId</th>\n",
              "      <th>Survived</th>\n",
              "      <th>Pclass</th>\n",
              "      <th>Name</th>\n",
              "      <th>Sex</th>\n",
              "      <th>Age</th>\n",
              "      <th>SibSp</th>\n",
              "      <th>Parch</th>\n",
              "      <th>Ticket</th>\n",
              "      <th>Fare</th>\n",
              "      <th>Cabin</th>\n",
              "      <th>Embarked</th>\n",
              "    </tr>\n",
              "  </thead>\n",
              "  <tbody>\n",
              "    <tr>\n",
              "      <th>0</th>\n",
              "      <td>1</td>\n",
              "      <td>0</td>\n",
              "      <td>3</td>\n",
              "      <td>Braund, Mr. Owen Harris</td>\n",
              "      <td>male</td>\n",
              "      <td>22.0</td>\n",
              "      <td>1</td>\n",
              "      <td>0</td>\n",
              "      <td>A/5 21171</td>\n",
              "      <td>7.2500</td>\n",
              "      <td>NaN</td>\n",
              "      <td>S</td>\n",
              "    </tr>\n",
              "    <tr>\n",
              "      <th>1</th>\n",
              "      <td>2</td>\n",
              "      <td>1</td>\n",
              "      <td>1</td>\n",
              "      <td>Cumings, Mrs. John Bradley (Florence Briggs Th...</td>\n",
              "      <td>female</td>\n",
              "      <td>38.0</td>\n",
              "      <td>1</td>\n",
              "      <td>0</td>\n",
              "      <td>PC 17599</td>\n",
              "      <td>71.2833</td>\n",
              "      <td>C85</td>\n",
              "      <td>C</td>\n",
              "    </tr>\n",
              "    <tr>\n",
              "      <th>2</th>\n",
              "      <td>3</td>\n",
              "      <td>1</td>\n",
              "      <td>3</td>\n",
              "      <td>Heikkinen, Miss. Laina</td>\n",
              "      <td>female</td>\n",
              "      <td>26.0</td>\n",
              "      <td>0</td>\n",
              "      <td>0</td>\n",
              "      <td>STON/O2. 3101282</td>\n",
              "      <td>7.9250</td>\n",
              "      <td>NaN</td>\n",
              "      <td>S</td>\n",
              "    </tr>\n",
              "    <tr>\n",
              "      <th>3</th>\n",
              "      <td>4</td>\n",
              "      <td>1</td>\n",
              "      <td>1</td>\n",
              "      <td>Futrelle, Mrs. Jacques Heath (Lily May Peel)</td>\n",
              "      <td>female</td>\n",
              "      <td>35.0</td>\n",
              "      <td>1</td>\n",
              "      <td>0</td>\n",
              "      <td>113803</td>\n",
              "      <td>53.1000</td>\n",
              "      <td>C123</td>\n",
              "      <td>S</td>\n",
              "    </tr>\n",
              "    <tr>\n",
              "      <th>4</th>\n",
              "      <td>5</td>\n",
              "      <td>0</td>\n",
              "      <td>3</td>\n",
              "      <td>Allen, Mr. William Henry</td>\n",
              "      <td>male</td>\n",
              "      <td>35.0</td>\n",
              "      <td>0</td>\n",
              "      <td>0</td>\n",
              "      <td>373450</td>\n",
              "      <td>8.0500</td>\n",
              "      <td>NaN</td>\n",
              "      <td>S</td>\n",
              "    </tr>\n",
              "  </tbody>\n",
              "</table>\n",
              "</div>"
            ],
            "text/plain": [
              "   PassengerId  Survived  Pclass  ...     Fare Cabin  Embarked\n",
              "0            1         0       3  ...   7.2500   NaN         S\n",
              "1            2         1       1  ...  71.2833   C85         C\n",
              "2            3         1       3  ...   7.9250   NaN         S\n",
              "3            4         1       1  ...  53.1000  C123         S\n",
              "4            5         0       3  ...   8.0500   NaN         S\n",
              "\n",
              "[5 rows x 12 columns]"
            ]
          },
          "metadata": {
            "tags": []
          },
          "execution_count": 24
        }
      ]
    },
    {
      "cell_type": "code",
      "metadata": {
        "id": "kaKCTt7tuxxd",
        "colab": {
          "base_uri": "https://localhost:8080/"
        },
        "outputId": "2cbd921c-bb0c-4091-e090-7ac7304577e4"
      },
      "source": [
        "df_train.columns"
      ],
      "execution_count": null,
      "outputs": [
        {
          "output_type": "execute_result",
          "data": {
            "text/plain": [
              "Index(['PassengerId', 'Survived', 'Pclass', 'Name', 'Sex', 'Age', 'SibSp',\n",
              "       'Parch', 'Ticket', 'Fare', 'Cabin', 'Embarked'],\n",
              "      dtype='object')"
            ]
          },
          "metadata": {
            "tags": []
          },
          "execution_count": 25
        }
      ]
    },
    {
      "cell_type": "code",
      "metadata": {
        "id": "usGEozfmu4_J",
        "colab": {
          "base_uri": "https://localhost:8080/"
        },
        "outputId": "44b19be4-c740-40d5-b999-5f1e0c3c1932"
      },
      "source": [
        "len(df_train)"
      ],
      "execution_count": null,
      "outputs": [
        {
          "output_type": "execute_result",
          "data": {
            "text/plain": [
              "891"
            ]
          },
          "metadata": {
            "tags": []
          },
          "execution_count": 26
        }
      ]
    },
    {
      "cell_type": "code",
      "metadata": {
        "id": "y6EyUiObu1hk",
        "colab": {
          "base_uri": "https://localhost:8080/"
        },
        "outputId": "2d2becfc-2022-497a-f42d-069372ebb45c"
      },
      "source": [
        "dataset = df_train[['Pclass', 'Sex', 'Age', 'SibSp', 'Parch', 'Survived']]\n",
        "print(\"Total \", len(dataset))\n",
        "print(dataset.isnull().sum())"
      ],
      "execution_count": null,
      "outputs": [
        {
          "output_type": "stream",
          "text": [
            "Total  891\n",
            "Pclass        0\n",
            "Sex           0\n",
            "Age         177\n",
            "SibSp         0\n",
            "Parch         0\n",
            "Survived      0\n",
            "dtype: int64\n"
          ],
          "name": "stdout"
        }
      ]
    },
    {
      "cell_type": "code",
      "metadata": {
        "id": "vZHDj4hWw_ON",
        "colab": {
          "base_uri": "https://localhost:8080/"
        },
        "outputId": "691f9cac-2db9-4217-f1ba-bd7e9b69b31a"
      },
      "source": [
        "# dataset = dataset.dropna()\n",
        "# print(len(dataset))\n",
        "dataset.fillna(value=0.0, inplace=True)\n"
      ],
      "execution_count": null,
      "outputs": [
        {
          "output_type": "stream",
          "text": [
            "/usr/local/lib/python3.6/dist-packages/pandas/core/frame.py:4327: SettingWithCopyWarning: \n",
            "A value is trying to be set on a copy of a slice from a DataFrame\n",
            "\n",
            "See the caveats in the documentation: https://pandas.pydata.org/pandas-docs/stable/user_guide/indexing.html#returning-a-view-versus-a-copy\n",
            "  downcast=downcast,\n"
          ],
          "name": "stderr"
        }
      ]
    },
    {
      "cell_type": "code",
      "metadata": {
        "id": "lbTqNDaW1zJY"
      },
      "source": [
        "X = dataset.drop(labels=['Survived'], axis=1)\n",
        "y = dataset.Survived"
      ],
      "execution_count": null,
      "outputs": []
    },
    {
      "cell_type": "code",
      "metadata": {
        "id": "nABd-Hv-zEfv",
        "colab": {
          "base_uri": "https://localhost:8080/"
        },
        "outputId": "c46c1655-82fe-4ff4-af55-fc063f86db7d"
      },
      "source": [
        "X.Sex.value_counts()"
      ],
      "execution_count": null,
      "outputs": [
        {
          "output_type": "execute_result",
          "data": {
            "text/plain": [
              "male      577\n",
              "female    314\n",
              "Name: Sex, dtype: int64"
            ]
          },
          "metadata": {
            "tags": []
          },
          "execution_count": 64
        }
      ]
    },
    {
      "cell_type": "code",
      "metadata": {
        "id": "uyxbThjBx2G_"
      },
      "source": [
        "gender_map = {'male':0, 'female':1}"
      ],
      "execution_count": null,
      "outputs": []
    },
    {
      "cell_type": "code",
      "metadata": {
        "id": "J-P12yj_yNYL"
      },
      "source": [
        "X['Sex'] = X.Sex.map(gender_map)"
      ],
      "execution_count": null,
      "outputs": []
    },
    {
      "cell_type": "code",
      "metadata": {
        "id": "QfWrFwYbyTE1",
        "colab": {
          "base_uri": "https://localhost:8080/"
        },
        "outputId": "64da3fdf-ed7d-4e37-ff57-586b1393b32f"
      },
      "source": [
        "X.Sex.value_counts()"
      ],
      "execution_count": null,
      "outputs": [
        {
          "output_type": "execute_result",
          "data": {
            "text/plain": [
              "0    577\n",
              "1    314\n",
              "Name: Sex, dtype: int64"
            ]
          },
          "metadata": {
            "tags": []
          },
          "execution_count": 67
        }
      ]
    },
    {
      "cell_type": "code",
      "metadata": {
        "id": "hUd2Jqd2wik3",
        "colab": {
          "base_uri": "https://localhost:8080/",
          "height": 203
        },
        "outputId": "6807d687-25e1-4beb-c445-826e8022fff3"
      },
      "source": [
        "X.head()"
      ],
      "execution_count": null,
      "outputs": [
        {
          "output_type": "execute_result",
          "data": {
            "text/html": [
              "<div>\n",
              "<style scoped>\n",
              "    .dataframe tbody tr th:only-of-type {\n",
              "        vertical-align: middle;\n",
              "    }\n",
              "\n",
              "    .dataframe tbody tr th {\n",
              "        vertical-align: top;\n",
              "    }\n",
              "\n",
              "    .dataframe thead th {\n",
              "        text-align: right;\n",
              "    }\n",
              "</style>\n",
              "<table border=\"1\" class=\"dataframe\">\n",
              "  <thead>\n",
              "    <tr style=\"text-align: right;\">\n",
              "      <th></th>\n",
              "      <th>Pclass</th>\n",
              "      <th>Sex</th>\n",
              "      <th>Age</th>\n",
              "      <th>SibSp</th>\n",
              "      <th>Parch</th>\n",
              "    </tr>\n",
              "  </thead>\n",
              "  <tbody>\n",
              "    <tr>\n",
              "      <th>0</th>\n",
              "      <td>3</td>\n",
              "      <td>0</td>\n",
              "      <td>22.0</td>\n",
              "      <td>1</td>\n",
              "      <td>0</td>\n",
              "    </tr>\n",
              "    <tr>\n",
              "      <th>1</th>\n",
              "      <td>1</td>\n",
              "      <td>1</td>\n",
              "      <td>38.0</td>\n",
              "      <td>1</td>\n",
              "      <td>0</td>\n",
              "    </tr>\n",
              "    <tr>\n",
              "      <th>2</th>\n",
              "      <td>3</td>\n",
              "      <td>1</td>\n",
              "      <td>26.0</td>\n",
              "      <td>0</td>\n",
              "      <td>0</td>\n",
              "    </tr>\n",
              "    <tr>\n",
              "      <th>3</th>\n",
              "      <td>1</td>\n",
              "      <td>1</td>\n",
              "      <td>35.0</td>\n",
              "      <td>1</td>\n",
              "      <td>0</td>\n",
              "    </tr>\n",
              "    <tr>\n",
              "      <th>4</th>\n",
              "      <td>3</td>\n",
              "      <td>0</td>\n",
              "      <td>35.0</td>\n",
              "      <td>0</td>\n",
              "      <td>0</td>\n",
              "    </tr>\n",
              "  </tbody>\n",
              "</table>\n",
              "</div>"
            ],
            "text/plain": [
              "   Pclass  Sex   Age  SibSp  Parch\n",
              "0       3    0  22.0      1      0\n",
              "1       1    1  38.0      1      0\n",
              "2       3    1  26.0      0      0\n",
              "3       1    1  35.0      1      0\n",
              "4       3    0  35.0      0      0"
            ]
          },
          "metadata": {
            "tags": []
          },
          "execution_count": 68
        }
      ]
    },
    {
      "cell_type": "code",
      "metadata": {
        "id": "IzuXkfiitBXW"
      },
      "source": [
        "# transform data\n",
        "from sklearn.preprocessing import MinMaxScaler, StandardScaler\n",
        "\n",
        "scaler = MinMaxScaler()\n",
        "X_scale = scaler.fit_transform(X)\n"
      ],
      "execution_count": null,
      "outputs": []
    },
    {
      "cell_type": "code",
      "metadata": {
        "id": "SwZv5gemybC-",
        "colab": {
          "base_uri": "https://localhost:8080/"
        },
        "outputId": "3c3797e6-b1a8-4fdf-f0ae-b0f665421b27"
      },
      "source": [
        "from sklearn.model_selection import train_test_split\n",
        "X_train, X_test, y_train, y_test = train_test_split(X_scale,y,train_size=0.8)\n",
        "print(\"Total\", len(X))\n",
        "print(\"Train size \", len(X_train))\n",
        "print(\"Test size \", len(X_test))"
      ],
      "execution_count": null,
      "outputs": [
        {
          "output_type": "stream",
          "text": [
            "Total 891\n",
            "Train size  712\n",
            "Test size  179\n"
          ],
          "name": "stdout"
        }
      ]
    },
    {
      "cell_type": "code",
      "metadata": {
        "id": "epokyg2Y06f_",
        "colab": {
          "base_uri": "https://localhost:8080/"
        },
        "outputId": "5b190839-c241-44f7-d788-38e30b872be3"
      },
      "source": [
        "from sklearn.svm import SVC\n",
        "model = SVC(kernel='rbf', C=1)\n",
        "model.fit(X_train, y_train)\n",
        "y_predicted = model.predict(X_test)\n",
        "print(\"Train data\", model.score(X_train,y_train))\n",
        "print(\"Test data\" , model.score(X_test,y_test))\n"
      ],
      "execution_count": null,
      "outputs": [
        {
          "output_type": "stream",
          "text": [
            "Train data 0.8103932584269663\n",
            "Test data 0.8435754189944135\n"
          ],
          "name": "stdout"
        }
      ]
    },
    {
      "cell_type": "code",
      "metadata": {
        "id": "Ve4QkqIh2W5B",
        "colab": {
          "base_uri": "https://localhost:8080/"
        },
        "outputId": "0fac5ed6-caca-4a7c-f532-7849eb8f2fd1"
      },
      "source": [
        "from sklearn.svm import SVC\n",
        "model = SVC(kernel='rbf', C=100)\n",
        "model.fit(X_train, y_train)\n",
        "y_predicted = model.predict(X_test)\n",
        "print(\"Train data\", model.score(X_train,y_train))\n",
        "print(\"Test data\" , model.score(X_test,y_test))\n"
      ],
      "execution_count": null,
      "outputs": [
        {
          "output_type": "stream",
          "text": [
            "Train data 0.8441011235955056\n",
            "Test data 0.7988826815642458\n"
          ],
          "name": "stdout"
        }
      ]
    },
    {
      "cell_type": "code",
      "metadata": {
        "id": "ipq4yILy2J7m",
        "colab": {
          "base_uri": "https://localhost:8080/"
        },
        "outputId": "8326577f-3834-49d8-ec66-d4a696303bc1"
      },
      "source": [
        "from sklearn.svm import SVC\n",
        "model = SVC(kernel='rbf', C=1000)\n",
        "model.fit(X_train, y_train)\n",
        "y_predicted = model.predict(X_test)\n",
        "print(\"Train data\", model.score(X_train,y_train))\n",
        "print(\"Test data\" , model.score(X_test,y_test))\n"
      ],
      "execution_count": null,
      "outputs": [
        {
          "output_type": "stream",
          "text": [
            "Train data 0.8581460674157303\n",
            "Test data 0.8100558659217877\n"
          ],
          "name": "stdout"
        }
      ]
    },
    {
      "cell_type": "code",
      "metadata": {
        "colab": {
          "base_uri": "https://localhost:8080/"
        },
        "id": "0tWKstpkvgA-",
        "outputId": "66214b1c-0e21-447c-b412-9b6da0f2973e"
      },
      "source": [
        "from sklearn.svm import SVC\n",
        "model = SVC(kernel='rbf', C=10000)\n",
        "model.fit(X_train, y_train)\n",
        "y_predicted = model.predict(X_test)\n",
        "print(\"Train data\", model.score(X_train,y_train))\n",
        "print(\"Test data\" , model.score(X_test,y_test))\n"
      ],
      "execution_count": null,
      "outputs": [
        {
          "output_type": "stream",
          "text": [
            "Train data 0.8595505617977528\n",
            "Test data 0.8156424581005587\n"
          ],
          "name": "stdout"
        }
      ]
    },
    {
      "cell_type": "code",
      "metadata": {
        "id": "-yTohlU72RDK",
        "colab": {
          "base_uri": "https://localhost:8080/"
        },
        "outputId": "adf03d4d-63d7-4bc5-91a0-95fa670af9fc"
      },
      "source": [
        "from sklearn.metrics import confusion_matrix\n",
        "cm = confusion_matrix(y_test, y_predicted)\n",
        "cm"
      ],
      "execution_count": null,
      "outputs": [
        {
          "output_type": "execute_result",
          "data": {
            "text/plain": [
              "array([[91, 17],\n",
              "       [16, 55]])"
            ]
          },
          "metadata": {
            "tags": []
          },
          "execution_count": 82
        }
      ]
    },
    {
      "cell_type": "code",
      "metadata": {
        "id": "bTTICn4_2S6L",
        "colab": {
          "base_uri": "https://localhost:8080/",
          "height": 245
        },
        "outputId": "e44b1d1b-e7ce-4d0b-82e4-681c4b2ab782"
      },
      "source": [
        "%matplotlib inline\n",
        "import matplotlib.pyplot as plt\n",
        "import seaborn as sn\n",
        "plt.figure(figsize=(4,3))\n",
        "sn.heatmap(cm, annot=True)\n",
        "plt.xlabel('Predicted')\n",
        "plt.ylabel('Truth')"
      ],
      "execution_count": null,
      "outputs": [
        {
          "output_type": "execute_result",
          "data": {
            "text/plain": [
              "Text(15.0, 0.5, 'Truth')"
            ]
          },
          "metadata": {
            "tags": []
          },
          "execution_count": 83
        },
        {
          "output_type": "display_data",
          "data": {
            "image/png": "[encoded data removed]",
            "text/plain": [
              "<Figure size 288x216 with 2 Axes>"
            ]
          },
          "metadata": {
            "tags": [],
            "needs_background": "light"
          }
        }
      ]
    },
    {
      "cell_type": "code",
      "metadata": {
        "id": "4GzD6VPNtOnh"
      },
      "source": [
        "from sklearn.ensemble import GradientBoostingClassifier\n",
        "from sklearn.metrics import classification_report, confusion_matrix, roc_curve, auc"
      ],
      "execution_count": null,
      "outputs": []
    },
    {
      "cell_type": "code",
      "metadata": {
        "colab": {
          "base_uri": "https://localhost:8080/"
        },
        "id": "bFdPGWD1tO4Y",
        "outputId": "c28df8e1-0874-43d5-c264-c66b5598b918"
      },
      "source": [
        "# train with Gradient Boosting algorithm\n",
        "# compute the accuracy scores on train and validation sets when training with different learning rates\n",
        "\n",
        "learning_rates = [0.05, 0.1, 0.25, 0.5, 0.75, 1]\n",
        "n_estimators = [20,30,40,50,60,70,80,90,100]\n",
        "\n",
        "for learning_rate in learning_rates:\n",
        "  for n_estimator in n_estimators:\n",
        "    gb = GradientBoostingClassifier(n_estimators=n_estimator, learning_rate = learning_rate, max_features=2, max_depth = 2, random_state = 0)\n",
        "    gb.fit(X_train, y_train)\n",
        "    print(\"Learning rate: \", learning_rate, \"n_estimator\", n_estimator)\n",
        "    print(\"Accuracy score (training): {0:.3f}\".format(gb.score(X_train, y_train)))\n",
        "    print(\"Accuracy score (validation): {0:.3f}\".format(gb.score(X_test, y_test)))\n",
        "    print()"
      ],
      "execution_count": null,
      "outputs": [
        {
          "output_type": "stream",
          "text": [
            "Learning rate:  0.05 n_estimator 20\n",
            "Accuracy score (training): 0.787\n",
            "Accuracy score (validation): 0.782\n",
            "\n",
            "Learning rate:  0.05 n_estimator 30\n",
            "Accuracy score (training): 0.787\n",
            "Accuracy score (validation): 0.782\n",
            "\n",
            "Learning rate:  0.05 n_estimator 40\n",
            "Accuracy score (training): 0.795\n",
            "Accuracy score (validation): 0.788\n",
            "\n",
            "Learning rate:  0.05 n_estimator 50\n",
            "Accuracy score (training): 0.802\n",
            "Accuracy score (validation): 0.816\n",
            "\n",
            "Learning rate:  0.05 n_estimator 60\n",
            "Accuracy score (training): 0.809\n",
            "Accuracy score (validation): 0.838\n",
            "\n",
            "Learning rate:  0.05 n_estimator 70\n",
            "Accuracy score (training): 0.803\n",
            "Accuracy score (validation): 0.849\n",
            "\n",
            "Learning rate:  0.05 n_estimator 80\n",
            "Accuracy score (training): 0.801\n",
            "Accuracy score (validation): 0.860\n",
            "\n",
            "Learning rate:  0.05 n_estimator 90\n",
            "Accuracy score (training): 0.801\n",
            "Accuracy score (validation): 0.855\n",
            "\n",
            "Learning rate:  0.05 n_estimator 100\n",
            "Accuracy score (training): 0.805\n",
            "Accuracy score (validation): 0.866\n",
            "\n",
            "Learning rate:  0.1 n_estimator 20\n",
            "Accuracy score (training): 0.802\n",
            "Accuracy score (validation): 0.849\n",
            "\n",
            "Learning rate:  0.1 n_estimator 30\n",
            "Accuracy score (training): 0.805\n",
            "Accuracy score (validation): 0.832\n",
            "\n",
            "Learning rate:  0.1 n_estimator 40\n",
            "Accuracy score (training): 0.812\n",
            "Accuracy score (validation): 0.832\n",
            "\n",
            "Learning rate:  0.1 n_estimator 50\n",
            "Accuracy score (training): 0.813\n",
            "Accuracy score (validation): 0.855\n",
            "\n",
            "Learning rate:  0.1 n_estimator 60\n",
            "Accuracy score (training): 0.815\n",
            "Accuracy score (validation): 0.844\n",
            "\n",
            "Learning rate:  0.1 n_estimator 70\n",
            "Accuracy score (training): 0.815\n",
            "Accuracy score (validation): 0.844\n",
            "\n",
            "Learning rate:  0.1 n_estimator 80\n",
            "Accuracy score (training): 0.819\n",
            "Accuracy score (validation): 0.849\n",
            "\n",
            "Learning rate:  0.1 n_estimator 90\n",
            "Accuracy score (training): 0.826\n",
            "Accuracy score (validation): 0.849\n",
            "\n",
            "Learning rate:  0.1 n_estimator 100\n",
            "Accuracy score (training): 0.826\n",
            "Accuracy score (validation): 0.849\n",
            "\n",
            "Learning rate:  0.25 n_estimator 20\n",
            "Accuracy score (training): 0.812\n",
            "Accuracy score (validation): 0.844\n",
            "\n",
            "Learning rate:  0.25 n_estimator 30\n",
            "Accuracy score (training): 0.830\n",
            "Accuracy score (validation): 0.827\n",
            "\n",
            "Learning rate:  0.25 n_estimator 40\n",
            "Accuracy score (training): 0.838\n",
            "Accuracy score (validation): 0.821\n",
            "\n",
            "Learning rate:  0.25 n_estimator 50\n",
            "Accuracy score (training): 0.847\n",
            "Accuracy score (validation): 0.838\n",
            "\n",
            "Learning rate:  0.25 n_estimator 60\n",
            "Accuracy score (training): 0.857\n",
            "Accuracy score (validation): 0.827\n",
            "\n",
            "Learning rate:  0.25 n_estimator 70\n",
            "Accuracy score (training): 0.855\n",
            "Accuracy score (validation): 0.816\n",
            "\n",
            "Learning rate:  0.25 n_estimator 80\n",
            "Accuracy score (training): 0.858\n",
            "Accuracy score (validation): 0.816\n",
            "\n",
            "Learning rate:  0.25 n_estimator 90\n",
            "Accuracy score (training): 0.858\n",
            "Accuracy score (validation): 0.799\n",
            "\n",
            "Learning rate:  0.25 n_estimator 100\n",
            "Accuracy score (training): 0.860\n",
            "Accuracy score (validation): 0.804\n",
            "\n",
            "Learning rate:  0.5 n_estimator 20\n",
            "Accuracy score (training): 0.826\n",
            "Accuracy score (validation): 0.832\n",
            "\n",
            "Learning rate:  0.5 n_estimator 30\n",
            "Accuracy score (training): 0.858\n",
            "Accuracy score (validation): 0.810\n",
            "\n",
            "Learning rate:  0.5 n_estimator 40\n",
            "Accuracy score (training): 0.860\n",
            "Accuracy score (validation): 0.799\n",
            "\n",
            "Learning rate:  0.5 n_estimator 50\n",
            "Accuracy score (training): 0.860\n",
            "Accuracy score (validation): 0.793\n",
            "\n",
            "Learning rate:  0.5 n_estimator 60\n",
            "Accuracy score (training): 0.864\n",
            "Accuracy score (validation): 0.816\n",
            "\n",
            "Learning rate:  0.5 n_estimator 70\n",
            "Accuracy score (training): 0.868\n",
            "Accuracy score (validation): 0.810\n",
            "\n",
            "Learning rate:  0.5 n_estimator 80\n",
            "Accuracy score (training): 0.869\n",
            "Accuracy score (validation): 0.804\n",
            "\n",
            "Learning rate:  0.5 n_estimator 90\n",
            "Accuracy score (training): 0.871\n",
            "Accuracy score (validation): 0.804\n",
            "\n",
            "Learning rate:  0.5 n_estimator 100\n",
            "Accuracy score (training): 0.868\n",
            "Accuracy score (validation): 0.810\n",
            "\n",
            "Learning rate:  0.75 n_estimator 20\n",
            "Accuracy score (training): 0.844\n",
            "Accuracy score (validation): 0.804\n",
            "\n",
            "Learning rate:  0.75 n_estimator 30\n",
            "Accuracy score (training): 0.847\n",
            "Accuracy score (validation): 0.810\n",
            "\n",
            "Learning rate:  0.75 n_estimator 40\n",
            "Accuracy score (training): 0.857\n",
            "Accuracy score (validation): 0.816\n",
            "\n",
            "Learning rate:  0.75 n_estimator 50\n",
            "Accuracy score (training): 0.864\n",
            "Accuracy score (validation): 0.793\n",
            "\n",
            "Learning rate:  0.75 n_estimator 60\n",
            "Accuracy score (training): 0.864\n",
            "Accuracy score (validation): 0.810\n",
            "\n",
            "Learning rate:  0.75 n_estimator 70\n",
            "Accuracy score (training): 0.869\n",
            "Accuracy score (validation): 0.804\n",
            "\n",
            "Learning rate:  0.75 n_estimator 80\n",
            "Accuracy score (training): 0.871\n",
            "Accuracy score (validation): 0.799\n",
            "\n",
            "Learning rate:  0.75 n_estimator 90\n",
            "Accuracy score (training): 0.876\n",
            "Accuracy score (validation): 0.788\n",
            "\n",
            "Learning rate:  0.75 n_estimator 100\n",
            "Accuracy score (training): 0.879\n",
            "Accuracy score (validation): 0.788\n",
            "\n",
            "Learning rate:  1 n_estimator 20\n",
            "Accuracy score (training): 0.843\n",
            "Accuracy score (validation): 0.838\n",
            "\n",
            "Learning rate:  1 n_estimator 30\n",
            "Accuracy score (training): 0.854\n",
            "Accuracy score (validation): 0.821\n",
            "\n",
            "Learning rate:  1 n_estimator 40\n",
            "Accuracy score (training): 0.860\n",
            "Accuracy score (validation): 0.810\n",
            "\n",
            "Learning rate:  1 n_estimator 50\n",
            "Accuracy score (training): 0.862\n",
            "Accuracy score (validation): 0.804\n",
            "\n",
            "Learning rate:  1 n_estimator 60\n",
            "Accuracy score (training): 0.869\n",
            "Accuracy score (validation): 0.810\n",
            "\n",
            "Learning rate:  1 n_estimator 70\n",
            "Accuracy score (training): 0.876\n",
            "Accuracy score (validation): 0.827\n",
            "\n",
            "Learning rate:  1 n_estimator 80\n",
            "Accuracy score (training): 0.871\n",
            "Accuracy score (validation): 0.821\n",
            "\n",
            "Learning rate:  1 n_estimator 90\n",
            "Accuracy score (training): 0.879\n",
            "Accuracy score (validation): 0.810\n",
            "\n",
            "Learning rate:  1 n_estimator 100\n",
            "Accuracy score (training): 0.878\n",
            "Accuracy score (validation): 0.799\n",
            "\n"
          ],
          "name": "stdout"
        }
      ]
    },
    {
      "cell_type": "code",
      "metadata": {
        "colab": {
          "base_uri": "https://localhost:8080/"
        },
        "id": "K2j_4Jc8tPEj",
        "outputId": "67b805d2-9832-4882-c0a2-2aa8b2b7bf93"
      },
      "source": [
        "# Output confusion matrix and classification report of Gradient Boosting algorithm on validation set\n",
        "\n",
        "gb = GradientBoostingClassifier(n_estimators=20, learning_rate = 0.5, max_features=2, max_depth = 2, random_state = 0)\n",
        "gb.fit(X_train, y_train)\n",
        "predictions = gb.predict(X_test)\n",
        "\n",
        "print(\"Confusion Matrix:\")\n",
        "print(confusion_matrix(y_test, predictions))\n",
        "print()\n",
        "print(\"Classification Report\")\n",
        "print(classification_report(y_test, predictions))"
      ],
      "execution_count": null,
      "outputs": [
        {
          "output_type": "stream",
          "text": [
            "Confusion Matrix:\n",
            "[[95 13]\n",
            " [17 54]]\n",
            "\n",
            "Classification Report\n",
            "              precision    recall  f1-score   support\n",
            "\n",
            "           0       0.85      0.88      0.86       108\n",
            "           1       0.81      0.76      0.78        71\n",
            "\n",
            "    accuracy                           0.83       179\n",
            "   macro avg       0.83      0.82      0.82       179\n",
            "weighted avg       0.83      0.83      0.83       179\n",
            "\n"
          ],
          "name": "stdout"
        }
      ]
    },
    {
      "cell_type": "code",
      "metadata": {
        "colab": {
          "base_uri": "https://localhost:8080/"
        },
        "id": "llYlFtxtteQL",
        "outputId": "0ddaee7c-fe20-473d-e10c-fd7a23b05c6f"
      },
      "source": [
        "# ROC curve and Area-Under-Curve (AUC)\n",
        "\n",
        "y_scores_gb = gb.decision_function(X_test)\n",
        "fpr_gb, tpr_gb, _ = roc_curve(y_test, y_scores_gb)\n",
        "roc_auc_gb = auc(fpr_gb, tpr_gb)\n",
        "\n",
        "print(\"Area under ROC curve = {:0.2f}\".format(roc_auc_gb))"
      ],
      "execution_count": null,
      "outputs": [
        {
          "output_type": "stream",
          "text": [
            "Area under ROC curve = 0.88\n"
          ],
          "name": "stdout"
        }
      ]
    },
    {
      "cell_type": "code",
      "metadata": {
        "id": "s8tBhzR45hxr"
      },
      "source": [
        ""
      ],
      "execution_count": null,
      "outputs": []
    }
  ]
}