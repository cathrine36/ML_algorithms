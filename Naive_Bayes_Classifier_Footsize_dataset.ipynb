{
  "nbformat": 4,
  "nbformat_minor": 0,
  "metadata": {
    "colab": {
      "name": "Naive Bayes Classifier_Footsize_dataset.ipynb",
      "provenance": [],
      "include_colab_link": true
    },
    "kernelspec": {
      "name": "python3",
      "display_name": "Python 3"
    }
  },
  "cells": [
    {
      "cell_type": "markdown",
      "metadata": {
        "id": "view-in-github",
        "colab_type": "text"
      },
      "source": [
        "<a href=\"https://colab.research.google.com/github/cathrine36/ML_algorithms/blob/master/Naive_Bayes_Classifier_Footsize_dataset.ipynb\" target=\"_parent\"><img src=\"https://colab.research.google.com/assets/colab-badge.svg\" alt=\"Open In Colab\"/></a>"
      ]
    },
    {
      "cell_type": "code",
      "metadata": {
        "id": "B_ddWntCIMhN"
      },
      "source": [
        "import pandas as pd\n",
        "import numpy as np"
      ],
      "execution_count": null,
      "outputs": []
    },
    {
      "cell_type": "code",
      "metadata": {
        "id": "3RNIG15yIQmV",
        "colab": {
          "base_uri": "https://localhost:8080/",
          "height": 284
        },
        "outputId": "bc13ec38-66dd-47bc-dce2-44f87b6ea541"
      },
      "source": [
        "# Create an empty dataframe\n",
        "data = pd.DataFrame()\n",
        "\n",
        "# Create our target variable\n",
        "data['Gender'] = ['male','male','male','male','female','female','female','female']\n",
        "\n",
        "# Create our feature variables\n",
        "data['Height'] = [6,5.92,5.58,5.92,5,5.5,5.42,5.75]\n",
        "data['Weight'] = [180,190,170,165,100,150,130,150]\n",
        "data['Foot_Size'] = [12,11,12,10,6,8,7,9]\n",
        "\n",
        "# View the data\n",
        "data"
      ],
      "execution_count": null,
      "outputs": [
        {
          "output_type": "execute_result",
          "data": {
            "text/html": [
              "<div>\n",
              "<style scoped>\n",
              "    .dataframe tbody tr th:only-of-type {\n",
              "        vertical-align: middle;\n",
              "    }\n",
              "\n",
              "    .dataframe tbody tr th {\n",
              "        vertical-align: top;\n",
              "    }\n",
              "\n",
              "    .dataframe thead th {\n",
              "        text-align: right;\n",
              "    }\n",
              "</style>\n",
              "<table border=\"1\" class=\"dataframe\">\n",
              "  <thead>\n",
              "    <tr style=\"text-align: right;\">\n",
              "      <th></th>\n",
              "      <th>Gender</th>\n",
              "      <th>Height</th>\n",
              "      <th>Weight</th>\n",
              "      <th>Foot_Size</th>\n",
              "    </tr>\n",
              "  </thead>\n",
              "  <tbody>\n",
              "    <tr>\n",
              "      <th>0</th>\n",
              "      <td>male</td>\n",
              "      <td>6.00</td>\n",
              "      <td>180</td>\n",
              "      <td>12</td>\n",
              "    </tr>\n",
              "    <tr>\n",
              "      <th>1</th>\n",
              "      <td>male</td>\n",
              "      <td>5.92</td>\n",
              "      <td>190</td>\n",
              "      <td>11</td>\n",
              "    </tr>\n",
              "    <tr>\n",
              "      <th>2</th>\n",
              "      <td>male</td>\n",
              "      <td>5.58</td>\n",
              "      <td>170</td>\n",
              "      <td>12</td>\n",
              "    </tr>\n",
              "    <tr>\n",
              "      <th>3</th>\n",
              "      <td>male</td>\n",
              "      <td>5.92</td>\n",
              "      <td>165</td>\n",
              "      <td>10</td>\n",
              "    </tr>\n",
              "    <tr>\n",
              "      <th>4</th>\n",
              "      <td>female</td>\n",
              "      <td>5.00</td>\n",
              "      <td>100</td>\n",
              "      <td>6</td>\n",
              "    </tr>\n",
              "    <tr>\n",
              "      <th>5</th>\n",
              "      <td>female</td>\n",
              "      <td>5.50</td>\n",
              "      <td>150</td>\n",
              "      <td>8</td>\n",
              "    </tr>\n",
              "    <tr>\n",
              "      <th>6</th>\n",
              "      <td>female</td>\n",
              "      <td>5.42</td>\n",
              "      <td>130</td>\n",
              "      <td>7</td>\n",
              "    </tr>\n",
              "    <tr>\n",
              "      <th>7</th>\n",
              "      <td>female</td>\n",
              "      <td>5.75</td>\n",
              "      <td>150</td>\n",
              "      <td>9</td>\n",
              "    </tr>\n",
              "  </tbody>\n",
              "</table>\n",
              "</div>"
            ],
            "text/plain": [
              "   Gender  Height  Weight  Foot_Size\n",
              "0    male    6.00     180         12\n",
              "1    male    5.92     190         11\n",
              "2    male    5.58     170         12\n",
              "3    male    5.92     165         10\n",
              "4  female    5.00     100          6\n",
              "5  female    5.50     150          8\n",
              "6  female    5.42     130          7\n",
              "7  female    5.75     150          9"
            ]
          },
          "metadata": {
            "tags": []
          },
          "execution_count": 2
        }
      ]
    },
    {
      "cell_type": "code",
      "metadata": {
        "id": "RsDzdsyUL64c"
      },
      "source": [
        "import seaborn as sns"
      ],
      "execution_count": null,
      "outputs": []
    },
    {
      "cell_type": "code",
      "metadata": {
        "id": "QGwgJ9IpDf4n"
      },
      "source": [
        "P(data|class) = P(6.0 | Male)"
      ],
      "execution_count": null,
      "outputs": []
    },
    {
      "cell_type": "code",
      "metadata": {
        "id": "Mxto_NTPL8BC",
        "colab": {
          "base_uri": "https://localhost:8080/",
          "height": 386
        },
        "outputId": "f2fb318e-f057-45f2-afa2-9adcb1bafcc2"
      },
      "source": [
        "sns.displot(data, x=\"Height\", hue=\"Gender\", kind=\"kde\")"
      ],
      "execution_count": null,
      "outputs": [
        {
          "output_type": "execute_result",
          "data": {
            "text/plain": [
              "<seaborn.axisgrid.FacetGrid at 0x7f86d3348438>"
            ]
          },
          "metadata": {
            "tags": []
          },
          "execution_count": 5
        },
        {
          "output_type": "display_data",
          "data": {
            "image/png": "[encoded data removed]",
            "text/plain": [
              "<Figure size 430.5x360 with 1 Axes>"
            ]
          },
          "metadata": {
            "tags": [],
            "needs_background": "light"
          }
        }
      ]
    },
    {
      "cell_type": "code",
      "metadata": {
        "id": "ivaBQCgmL8Hx",
        "colab": {
          "base_uri": "https://localhost:8080/",
          "height": 386
        },
        "outputId": "0585f670-27d5-4727-d1e1-c05d1fe207e4"
      },
      "source": [
        "sns.displot(data, x=\"Weight\", hue=\"Gender\", kind=\"kde\")"
      ],
      "execution_count": null,
      "outputs": [
        {
          "output_type": "execute_result",
          "data": {
            "text/plain": [
              "<seaborn.axisgrid.FacetGrid at 0x7f86d332e390>"
            ]
          },
          "metadata": {
            "tags": []
          },
          "execution_count": 6
        },
        {
          "output_type": "display_data",
          "data": {
            "image/png": "[encoded data removed]",
            "text/plain": [
              "<Figure size 430.5x360 with 1 Axes>"
            ]
          },
          "metadata": {
            "tags": [],
            "needs_background": "light"
          }
        }
      ]
    },
    {
      "cell_type": "code",
      "metadata": {
        "id": "WS7BqpERMMAL",
        "colab": {
          "base_uri": "https://localhost:8080/",
          "height": 386
        },
        "outputId": "fac63dee-dce2-4c4d-caeb-731b7b267551"
      },
      "source": [
        "sns.displot(data, x=\"Foot_Size\", hue=\"Gender\", kind=\"kde\")"
      ],
      "execution_count": null,
      "outputs": [
        {
          "output_type": "execute_result",
          "data": {
            "text/plain": [
              "<seaborn.axisgrid.FacetGrid at 0x7f86d25fe978>"
            ]
          },
          "metadata": {
            "tags": []
          },
          "execution_count": 7
        },
        {
          "output_type": "display_data",
          "data": {
            "image/png": "[encoded data removed]",
            "text/plain": [
              "<Figure size 430.5x360 with 1 Axes>"
            ]
          },
          "metadata": {
            "tags": [],
            "needs_background": "light"
          }
        }
      ]
    },
    {
      "cell_type": "code",
      "metadata": {
        "id": "U3EBUYAdIR4V",
        "colab": {
          "base_uri": "https://localhost:8080/",
          "height": 77
        },
        "outputId": "c16d1577-873b-493e-913a-3cbde63273f4"
      },
      "source": [
        "# Create an empty dataframe\n",
        "person = pd.DataFrame()\n",
        "\n",
        "# Create some feature values for this single row\n",
        "person['Height'] = [6]\n",
        "person['Weight'] = [130]\n",
        "person['Foot_Size'] = [8]\n",
        "\n",
        "# View the data \n",
        "person"
      ],
      "execution_count": null,
      "outputs": [
        {
          "output_type": "execute_result",
          "data": {
            "text/html": [
              "<div>\n",
              "<style scoped>\n",
              "    .dataframe tbody tr th:only-of-type {\n",
              "        vertical-align: middle;\n",
              "    }\n",
              "\n",
              "    .dataframe tbody tr th {\n",
              "        vertical-align: top;\n",
              "    }\n",
              "\n",
              "    .dataframe thead th {\n",
              "        text-align: right;\n",
              "    }\n",
              "</style>\n",
              "<table border=\"1\" class=\"dataframe\">\n",
              "  <thead>\n",
              "    <tr style=\"text-align: right;\">\n",
              "      <th></th>\n",
              "      <th>Height</th>\n",
              "      <th>Weight</th>\n",
              "      <th>Foot_Size</th>\n",
              "    </tr>\n",
              "  </thead>\n",
              "  <tbody>\n",
              "    <tr>\n",
              "      <th>0</th>\n",
              "      <td>6</td>\n",
              "      <td>130</td>\n",
              "      <td>8</td>\n",
              "    </tr>\n",
              "  </tbody>\n",
              "</table>\n",
              "</div>"
            ],
            "text/plain": [
              "   Height  Weight  Foot_Size\n",
              "0       6     130          8"
            ]
          },
          "metadata": {
            "tags": []
          },
          "execution_count": 8
        }
      ]
    },
    {
      "cell_type": "code",
      "metadata": {
        "id": "r_ySBJw-IT3p",
        "colab": {
          "base_uri": "https://localhost:8080/"
        },
        "outputId": "74e8c56b-e1b2-4074-9026-9ac65e1718c2"
      },
      "source": [
        "# Number of males\n",
        "n_male = data['Gender'][data['Gender'] == 'male'].count()\n",
        "\n",
        "# Number of females\n",
        "n_female = data['Gender'][data['Gender'] == 'female'].count()\n",
        "\n",
        "# Total rows\n",
        "total_ppl = data['Gender'].count()\n",
        "\n",
        "print(n_male, n_female, total_ppl)"
      ],
      "execution_count": null,
      "outputs": [
        {
          "output_type": "stream",
          "text": [
            "4 4 8\n"
          ],
          "name": "stdout"
        }
      ]
    },
    {
      "cell_type": "code",
      "metadata": {
        "id": "2Muc0WvIIWRZ",
        "colab": {
          "base_uri": "https://localhost:8080/"
        },
        "outputId": "ec86ca52-8147-49b2-e56a-8691865c3db0"
      },
      "source": [
        "# Number of males divided by the total rows\n",
        "P_male = n_male/total_ppl\n",
        "\n",
        "# Number of females divided by the total rows\n",
        "P_female = n_female/total_ppl\n",
        "\n",
        "print(P_male,P_female )"
      ],
      "execution_count": null,
      "outputs": [
        {
          "output_type": "stream",
          "text": [
            "0.5 0.5\n"
          ],
          "name": "stdout"
        }
      ]
    },
    {
      "cell_type": "code",
      "metadata": {
        "id": "iAp1k7_EIX-L",
        "colab": {
          "base_uri": "https://localhost:8080/",
          "height": 136
        },
        "outputId": "17ec82ff-9ece-4524-d4c8-bf6a62d109f5"
      },
      "source": [
        "# Group the data by gender and calculate the means of each feature\n",
        "data_means = data.groupby('Gender').mean()\n",
        "\n",
        "# View the values\n",
        "data_means"
      ],
      "execution_count": null,
      "outputs": [
        {
          "output_type": "execute_result",
          "data": {
            "text/html": [
              "<div>\n",
              "<style scoped>\n",
              "    .dataframe tbody tr th:only-of-type {\n",
              "        vertical-align: middle;\n",
              "    }\n",
              "\n",
              "    .dataframe tbody tr th {\n",
              "        vertical-align: top;\n",
              "    }\n",
              "\n",
              "    .dataframe thead th {\n",
              "        text-align: right;\n",
              "    }\n",
              "</style>\n",
              "<table border=\"1\" class=\"dataframe\">\n",
              "  <thead>\n",
              "    <tr style=\"text-align: right;\">\n",
              "      <th></th>\n",
              "      <th>Height</th>\n",
              "      <th>Weight</th>\n",
              "      <th>Foot_Size</th>\n",
              "    </tr>\n",
              "    <tr>\n",
              "      <th>Gender</th>\n",
              "      <th></th>\n",
              "      <th></th>\n",
              "      <th></th>\n",
              "    </tr>\n",
              "  </thead>\n",
              "  <tbody>\n",
              "    <tr>\n",
              "      <th>female</th>\n",
              "      <td>5.4175</td>\n",
              "      <td>132.50</td>\n",
              "      <td>7.50</td>\n",
              "    </tr>\n",
              "    <tr>\n",
              "      <th>male</th>\n",
              "      <td>5.8550</td>\n",
              "      <td>176.25</td>\n",
              "      <td>11.25</td>\n",
              "    </tr>\n",
              "  </tbody>\n",
              "</table>\n",
              "</div>"
            ],
            "text/plain": [
              "        Height  Weight  Foot_Size\n",
              "Gender                           \n",
              "female  5.4175  132.50       7.50\n",
              "male    5.8550  176.25      11.25"
            ]
          },
          "metadata": {
            "tags": []
          },
          "execution_count": 13
        }
      ]
    },
    {
      "cell_type": "code",
      "metadata": {
        "id": "q1xVW1_rIZaY",
        "colab": {
          "base_uri": "https://localhost:8080/",
          "height": 136
        },
        "outputId": "237a3419-be53-43b1-a6b5-f5eacd679e44"
      },
      "source": [
        "# Group the data by gender and calculate the variance of each feature\n",
        "data_variance = data.groupby('Gender').var()\n",
        "\n",
        "# View the values\n",
        "data_variance"
      ],
      "execution_count": null,
      "outputs": [
        {
          "output_type": "execute_result",
          "data": {
            "text/html": [
              "<div>\n",
              "<style scoped>\n",
              "    .dataframe tbody tr th:only-of-type {\n",
              "        vertical-align: middle;\n",
              "    }\n",
              "\n",
              "    .dataframe tbody tr th {\n",
              "        vertical-align: top;\n",
              "    }\n",
              "\n",
              "    .dataframe thead th {\n",
              "        text-align: right;\n",
              "    }\n",
              "</style>\n",
              "<table border=\"1\" class=\"dataframe\">\n",
              "  <thead>\n",
              "    <tr style=\"text-align: right;\">\n",
              "      <th></th>\n",
              "      <th>Height</th>\n",
              "      <th>Weight</th>\n",
              "      <th>Foot_Size</th>\n",
              "    </tr>\n",
              "    <tr>\n",
              "      <th>Gender</th>\n",
              "      <th></th>\n",
              "      <th></th>\n",
              "      <th></th>\n",
              "    </tr>\n",
              "  </thead>\n",
              "  <tbody>\n",
              "    <tr>\n",
              "      <th>female</th>\n",
              "      <td>0.097225</td>\n",
              "      <td>558.333333</td>\n",
              "      <td>1.666667</td>\n",
              "    </tr>\n",
              "    <tr>\n",
              "      <th>male</th>\n",
              "      <td>0.035033</td>\n",
              "      <td>122.916667</td>\n",
              "      <td>0.916667</td>\n",
              "    </tr>\n",
              "  </tbody>\n",
              "</table>\n",
              "</div>"
            ],
            "text/plain": [
              "          Height      Weight  Foot_Size\n",
              "Gender                                 \n",
              "female  0.097225  558.333333   1.666667\n",
              "male    0.035033  122.916667   0.916667"
            ]
          },
          "metadata": {
            "tags": []
          },
          "execution_count": 14
        }
      ]
    },
    {
      "cell_type": "code",
      "metadata": {
        "id": "RhyQZgqPE7lF",
        "colab": {
          "base_uri": "https://localhost:8080/"
        },
        "outputId": "e5324515-f593-4cb6-80cf-8e73af4cd82a"
      },
      "source": [
        "data_means['Height'][data_variance.index == 'male'].values[0]"
      ],
      "execution_count": null,
      "outputs": [
        {
          "output_type": "execute_result",
          "data": {
            "text/plain": [
              "5.855"
            ]
          },
          "metadata": {
            "tags": []
          },
          "execution_count": 17
        }
      ]
    },
    {
      "cell_type": "code",
      "metadata": {
        "id": "0bkzqyQ6IaqD"
      },
      "source": [
        "# Means for male\n",
        "male_height_mean = data_means['Height'][data_variance.index == 'male'].values[0]\n",
        "male_weight_mean = data_means['Weight'][data_variance.index == 'male'].values[0]\n",
        "male_footsize_mean = data_means['Foot_Size'][data_variance.index == 'male'].values[0]\n",
        "\n",
        "# Variance for male\n",
        "male_height_variance = data_variance['Height'][data_variance.index == 'male'].values[0]\n",
        "male_weight_variance = data_variance['Weight'][data_variance.index == 'male'].values[0]\n",
        "male_footsize_variance = data_variance['Foot_Size'][data_variance.index == 'male'].values[0]\n",
        "\n",
        "# Means for female\n",
        "female_height_mean = data_means['Height'][data_variance.index == 'female'].values[0]\n",
        "female_weight_mean = data_means['Weight'][data_variance.index == 'female'].values[0]\n",
        "female_footsize_mean = data_means['Foot_Size'][data_variance.index == 'female'].values[0]\n",
        "\n",
        "# Variance for female\n",
        "female_height_variance = data_variance['Height'][data_variance.index == 'female'].values[0]\n",
        "female_weight_variance = data_variance['Weight'][data_variance.index == 'female'].values[0]\n",
        "female_footsize_variance = data_variance['Foot_Size'][data_variance.index == 'female'].values[0]"
      ],
      "execution_count": null,
      "outputs": []
    },
    {
      "cell_type": "code",
      "metadata": {
        "id": "EF_kHckGIcKv"
      },
      "source": [
        "# Create a function that calculates p(x | y):\n",
        "def p_x_given_y(x, mean_y, variance_y):\n",
        "\n",
        "    # Input the arguments into a probability density function\n",
        "    p = 1/(np.sqrt(2*np.pi*variance_y)) * np.exp((-(x-mean_y)**2)/(2*variance_y))\n",
        "    \n",
        "    # return p\n",
        "    return p"
      ],
      "execution_count": null,
      "outputs": []
    },
    {
      "cell_type": "code",
      "metadata": {
        "id": "E8DE92oPGPBh",
        "colab": {
          "base_uri": "https://localhost:8080/",
          "height": 77
        },
        "outputId": "429cf5f3-17b1-465c-ca8c-11565bd82b17"
      },
      "source": [
        "person"
      ],
      "execution_count": null,
      "outputs": [
        {
          "output_type": "execute_result",
          "data": {
            "text/html": [
              "<div>\n",
              "<style scoped>\n",
              "    .dataframe tbody tr th:only-of-type {\n",
              "        vertical-align: middle;\n",
              "    }\n",
              "\n",
              "    .dataframe tbody tr th {\n",
              "        vertical-align: top;\n",
              "    }\n",
              "\n",
              "    .dataframe thead th {\n",
              "        text-align: right;\n",
              "    }\n",
              "</style>\n",
              "<table border=\"1\" class=\"dataframe\">\n",
              "  <thead>\n",
              "    <tr style=\"text-align: right;\">\n",
              "      <th></th>\n",
              "      <th>Height</th>\n",
              "      <th>Weight</th>\n",
              "      <th>Foot_Size</th>\n",
              "    </tr>\n",
              "  </thead>\n",
              "  <tbody>\n",
              "    <tr>\n",
              "      <th>0</th>\n",
              "      <td>6</td>\n",
              "      <td>130</td>\n",
              "      <td>8</td>\n",
              "    </tr>\n",
              "  </tbody>\n",
              "</table>\n",
              "</div>"
            ],
            "text/plain": [
              "   Height  Weight  Foot_Size\n",
              "0       6     130          8"
            ]
          },
          "metadata": {
            "tags": []
          },
          "execution_count": 20
        }
      ]
    },
    {
      "cell_type": "code",
      "metadata": {
        "id": "YknhGeNGId4g",
        "colab": {
          "base_uri": "https://localhost:8080/"
        },
        "outputId": "3c788f15-10e6-41f2-ae5d-48aa84be4478"
      },
      "source": [
        "# Numerator of the posterior if the unclassified observation is a male\n",
        "P_male * \\\n",
        "p_x_given_y(person['Height'][0], male_height_mean, male_height_variance) * \\\n",
        "p_x_given_y(person['Weight'][0], male_weight_mean, male_weight_variance) * \\\n",
        "p_x_given_y(person['Foot_Size'][0], male_footsize_mean, male_footsize_variance)"
      ],
      "execution_count": null,
      "outputs": [
        {
          "output_type": "execute_result",
          "data": {
            "text/plain": [
              "6.197071843878078e-09"
            ]
          },
          "metadata": {
            "tags": []
          },
          "execution_count": 33
        }
      ]
    },
    {
      "cell_type": "code",
      "metadata": {
        "id": "F9nqBgdsIfJ-",
        "colab": {
          "base_uri": "https://localhost:8080/"
        },
        "outputId": "500d9b83-99de-4fe5-950b-42385f0f1f4b"
      },
      "source": [
        "# Numerator of the posterior if the unclassified observation is a female\n",
        "P_female * \\\n",
        "p_x_given_y(person['Height'][0], female_height_mean, female_height_variance) * \\\n",
        "p_x_given_y(person['Weight'][0], female_weight_mean, female_weight_variance) * \\\n",
        "p_x_given_y(person['Foot_Size'][0], female_footsize_mean, female_footsize_variance)"
      ],
      "execution_count": null,
      "outputs": [
        {
          "output_type": "execute_result",
          "data": {
            "text/plain": [
              "0.0005377909183630018"
            ]
          },
          "metadata": {
            "tags": []
          },
          "execution_count": 34
        }
      ]
    },
    {
      "cell_type": "code",
      "metadata": {
        "id": "PnC5W0OeIgcx",
        "colab": {
          "base_uri": "https://localhost:8080/"
        },
        "outputId": "45a4bd4b-3ece-4586-941f-9810565476bd"
      },
      "source": [
        "# Numerator of the posterior if the unclassified observation is a male\n",
        "P_male * \\\n",
        "p_x_given_y(data['Height'], male_height_mean, male_height_variance) * \\\n",
        "p_x_given_y(data['Weight'], male_weight_mean, male_weight_variance) * \\\n",
        "p_x_given_y(data['Foot_Size'], male_footsize_mean, male_footsize_variance)"
      ],
      "execution_count": null,
      "outputs": [
        {
          "output_type": "execute_result",
          "data": {
            "text/plain": [
              "0    8.225011e-03\n",
              "1    6.738343e-03\n",
              "2    3.408345e-03\n",
              "3    3.833850e-03\n",
              "4    7.446670e-24\n",
              "5    5.046218e-07\n",
              "6    9.396640e-12\n",
              "7    5.231839e-05\n",
              "dtype: float64"
            ]
          },
          "metadata": {
            "tags": []
          },
          "execution_count": 21
        }
      ]
    },
    {
      "cell_type": "code",
      "metadata": {
        "id": "aZ0ddXqnI0zH",
        "colab": {
          "base_uri": "https://localhost:8080/"
        },
        "outputId": "33e0979e-7ff9-43ac-9e54-aaa5ff1fe086"
      },
      "source": [
        "# Numerator of the posterior if the unclassified observation is a female\n",
        "P_female * \\\n",
        "p_x_given_y(data['Height'], female_height_mean, female_height_variance) * \\\n",
        "p_x_given_y(data['Weight'], female_weight_mean, female_weight_variance) * \\\n",
        "p_x_given_y(data['Foot_Size'], female_footsize_mean, female_footsize_variance)"
      ],
      "execution_count": null,
      "outputs": [
        {
          "output_type": "execute_result",
          "data": {
            "text/plain": [
              "0    1.777361e-07\n",
              "1    1.195582e-06\n",
              "2    1.901974e-06\n",
              "3    5.424759e-05\n",
              "4    2.692711e-04\n",
              "5    2.272792e-03\n",
              "6    3.079096e-03\n",
              "7    7.315811e-04\n",
              "dtype: float64"
            ]
          },
          "metadata": {
            "tags": []
          },
          "execution_count": 22
        }
      ]
    },
    {
      "cell_type": "code",
      "metadata": {
        "id": "iNKeZe-dMtXG"
      },
      "source": [
        "gender_map = {'male':0, 'female':1}\n",
        "data['Gender_Class'] = data.Gender.map(gender_map)"
      ],
      "execution_count": null,
      "outputs": []
    },
    {
      "cell_type": "code",
      "metadata": {
        "id": "CtAj7QWGM1vw",
        "colab": {
          "base_uri": "https://localhost:8080/",
          "height": 284
        },
        "outputId": "03984242-f503-44fc-9ead-54bd694aa90a"
      },
      "source": [
        "data"
      ],
      "execution_count": null,
      "outputs": [
        {
          "output_type": "execute_result",
          "data": {
            "text/html": [
              "<div>\n",
              "<style scoped>\n",
              "    .dataframe tbody tr th:only-of-type {\n",
              "        vertical-align: middle;\n",
              "    }\n",
              "\n",
              "    .dataframe tbody tr th {\n",
              "        vertical-align: top;\n",
              "    }\n",
              "\n",
              "    .dataframe thead th {\n",
              "        text-align: right;\n",
              "    }\n",
              "</style>\n",
              "<table border=\"1\" class=\"dataframe\">\n",
              "  <thead>\n",
              "    <tr style=\"text-align: right;\">\n",
              "      <th></th>\n",
              "      <th>Gender</th>\n",
              "      <th>Height</th>\n",
              "      <th>Weight</th>\n",
              "      <th>Foot_Size</th>\n",
              "      <th>Gender_Class</th>\n",
              "    </tr>\n",
              "  </thead>\n",
              "  <tbody>\n",
              "    <tr>\n",
              "      <th>0</th>\n",
              "      <td>male</td>\n",
              "      <td>6.00</td>\n",
              "      <td>180</td>\n",
              "      <td>12</td>\n",
              "      <td>0</td>\n",
              "    </tr>\n",
              "    <tr>\n",
              "      <th>1</th>\n",
              "      <td>male</td>\n",
              "      <td>5.92</td>\n",
              "      <td>190</td>\n",
              "      <td>11</td>\n",
              "      <td>0</td>\n",
              "    </tr>\n",
              "    <tr>\n",
              "      <th>2</th>\n",
              "      <td>male</td>\n",
              "      <td>5.58</td>\n",
              "      <td>170</td>\n",
              "      <td>12</td>\n",
              "      <td>0</td>\n",
              "    </tr>\n",
              "    <tr>\n",
              "      <th>3</th>\n",
              "      <td>male</td>\n",
              "      <td>5.92</td>\n",
              "      <td>165</td>\n",
              "      <td>10</td>\n",
              "      <td>0</td>\n",
              "    </tr>\n",
              "    <tr>\n",
              "      <th>4</th>\n",
              "      <td>female</td>\n",
              "      <td>5.00</td>\n",
              "      <td>100</td>\n",
              "      <td>6</td>\n",
              "      <td>1</td>\n",
              "    </tr>\n",
              "    <tr>\n",
              "      <th>5</th>\n",
              "      <td>female</td>\n",
              "      <td>5.50</td>\n",
              "      <td>150</td>\n",
              "      <td>8</td>\n",
              "      <td>1</td>\n",
              "    </tr>\n",
              "    <tr>\n",
              "      <th>6</th>\n",
              "      <td>female</td>\n",
              "      <td>5.42</td>\n",
              "      <td>130</td>\n",
              "      <td>7</td>\n",
              "      <td>1</td>\n",
              "    </tr>\n",
              "    <tr>\n",
              "      <th>7</th>\n",
              "      <td>female</td>\n",
              "      <td>5.75</td>\n",
              "      <td>150</td>\n",
              "      <td>9</td>\n",
              "      <td>1</td>\n",
              "    </tr>\n",
              "  </tbody>\n",
              "</table>\n",
              "</div>"
            ],
            "text/plain": [
              "   Gender  Height  Weight  Foot_Size  Gender_Class\n",
              "0    male    6.00     180         12             0\n",
              "1    male    5.92     190         11             0\n",
              "2    male    5.58     170         12             0\n",
              "3    male    5.92     165         10             0\n",
              "4  female    5.00     100          6             1\n",
              "5  female    5.50     150          8             1\n",
              "6  female    5.42     130          7             1\n",
              "7  female    5.75     150          9             1"
            ]
          },
          "metadata": {
            "tags": []
          },
          "execution_count": 24
        }
      ]
    },
    {
      "cell_type": "code",
      "metadata": {
        "id": "KCsBTRI5MrH2"
      },
      "source": [
        "X = data.drop(['Gender', 'Gender_Class'], axis='columns')\n",
        "y = data.Gender_Class"
      ],
      "execution_count": null,
      "outputs": []
    },
    {
      "cell_type": "code",
      "metadata": {
        "id": "k2VcLh_yI8JP",
        "colab": {
          "base_uri": "https://localhost:8080/"
        },
        "outputId": "3ddb22fb-1cb8-4145-f91f-9df461f122e0"
      },
      "source": [
        "# training the model on training set \n",
        "from sklearn.naive_bayes import GaussianNB \n",
        "gnb = GaussianNB() \n",
        "gnb.fit(X, y) \n"
      ],
      "execution_count": null,
      "outputs": [
        {
          "output_type": "execute_result",
          "data": {
            "text/plain": [
              "GaussianNB(priors=None, var_smoothing=1e-09)"
            ]
          },
          "metadata": {
            "tags": []
          },
          "execution_count": 26
        }
      ]
    },
    {
      "cell_type": "code",
      "metadata": {
        "id": "vHcqPXEWNF-7",
        "colab": {
          "base_uri": "https://localhost:8080/"
        },
        "outputId": "ad14b1d9-c9e5-48b4-ddf0-8ddf6dffbc59"
      },
      "source": [
        "gnb.predict_proba(X)"
      ],
      "execution_count": null,
      "outputs": [
        {
          "output_type": "execute_result",
          "data": {
            "text/plain": [
              "array([[9.99998986e-01, 1.01445397e-06],\n",
              "       [9.99983196e-01, 1.68038574e-05],\n",
              "       [9.99922576e-01, 7.74235684e-05],\n",
              "       [9.94264878e-01, 5.73512181e-03],\n",
              "       [4.96397091e-27, 1.00000000e+00],\n",
              "       [7.97744776e-06, 9.99992023e-01],\n",
              "       [2.62668990e-12, 1.00000000e+00],\n",
              "       [1.73074914e-02, 9.82692509e-01]])"
            ]
          },
          "metadata": {
            "tags": []
          },
          "execution_count": 27
        }
      ]
    },
    {
      "cell_type": "code",
      "metadata": {
        "id": "oT2vS_joNJP6"
      },
      "source": [
        ""
      ],
      "execution_count": null,
      "outputs": []
    }
  ]
}