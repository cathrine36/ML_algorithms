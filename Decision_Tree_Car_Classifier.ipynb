{
  "nbformat": 4,
  "nbformat_minor": 0,
  "metadata": {
    "colab": {
      "name": " Decision Tree Car Classifier.ipynb",
      "provenance": [],
      "include_colab_link": true
    },
    "kernelspec": {
      "name": "python3",
      "display_name": "Python 3"
    }
  },
  "cells": [
    {
      "cell_type": "markdown",
      "metadata": {
        "id": "view-in-github",
        "colab_type": "text"
      },
      "source": [
        "<a href=\"https://colab.research.google.com/github/cathrine36/ML_algorithms/blob/master/Decision_Tree_Car_Classifier.ipynb\" target=\"_parent\"><img src=\"https://colab.research.google.com/assets/colab-badge.svg\" alt=\"Open In Colab\"/></a>"
      ]
    },
    {
      "cell_type": "code",
      "metadata": {
        "id": "B45KFeZNeo_A"
      },
      "source": [
        "import os\n",
        "import numpy as np\n",
        "import pandas as pd\n",
        "import matplotlib.pyplot as plt"
      ],
      "execution_count": null,
      "outputs": []
    },
    {
      "cell_type": "code",
      "metadata": {
        "id": "42y6K1wze4uW",
        "colab": {
          "base_uri": "https://localhost:8080/",
          "height": 408
        },
        "outputId": "63cfeb18-2699-41a8-ce69-f77680c192cf"
      },
      "source": [
        "data = pd.read_csv('https://raw.githubusercontent.com/soaicbe/ml/master/car_data/car.data',names=['buying','maint','doors','persons','lug_boot','safety','class'])\n",
        "data"
      ],
      "execution_count": null,
      "outputs": [
        {
          "output_type": "execute_result",
          "data": {
            "text/html": [
              "<div>\n",
              "<style scoped>\n",
              "    .dataframe tbody tr th:only-of-type {\n",
              "        vertical-align: middle;\n",
              "    }\n",
              "\n",
              "    .dataframe tbody tr th {\n",
              "        vertical-align: top;\n",
              "    }\n",
              "\n",
              "    .dataframe thead th {\n",
              "        text-align: right;\n",
              "    }\n",
              "</style>\n",
              "<table border=\"1\" class=\"dataframe\">\n",
              "  <thead>\n",
              "    <tr style=\"text-align: right;\">\n",
              "      <th></th>\n",
              "      <th>buying</th>\n",
              "      <th>maint</th>\n",
              "      <th>doors</th>\n",
              "      <th>persons</th>\n",
              "      <th>lug_boot</th>\n",
              "      <th>safety</th>\n",
              "      <th>class</th>\n",
              "    </tr>\n",
              "  </thead>\n",
              "  <tbody>\n",
              "    <tr>\n",
              "      <th>0</th>\n",
              "      <td>vhigh</td>\n",
              "      <td>vhigh</td>\n",
              "      <td>2</td>\n",
              "      <td>2</td>\n",
              "      <td>small</td>\n",
              "      <td>low</td>\n",
              "      <td>unacc</td>\n",
              "    </tr>\n",
              "    <tr>\n",
              "      <th>1</th>\n",
              "      <td>vhigh</td>\n",
              "      <td>vhigh</td>\n",
              "      <td>2</td>\n",
              "      <td>2</td>\n",
              "      <td>small</td>\n",
              "      <td>med</td>\n",
              "      <td>unacc</td>\n",
              "    </tr>\n",
              "    <tr>\n",
              "      <th>2</th>\n",
              "      <td>vhigh</td>\n",
              "      <td>vhigh</td>\n",
              "      <td>2</td>\n",
              "      <td>2</td>\n",
              "      <td>small</td>\n",
              "      <td>high</td>\n",
              "      <td>unacc</td>\n",
              "    </tr>\n",
              "    <tr>\n",
              "      <th>3</th>\n",
              "      <td>vhigh</td>\n",
              "      <td>vhigh</td>\n",
              "      <td>2</td>\n",
              "      <td>2</td>\n",
              "      <td>med</td>\n",
              "      <td>low</td>\n",
              "      <td>unacc</td>\n",
              "    </tr>\n",
              "    <tr>\n",
              "      <th>4</th>\n",
              "      <td>vhigh</td>\n",
              "      <td>vhigh</td>\n",
              "      <td>2</td>\n",
              "      <td>2</td>\n",
              "      <td>med</td>\n",
              "      <td>med</td>\n",
              "      <td>unacc</td>\n",
              "    </tr>\n",
              "    <tr>\n",
              "      <th>...</th>\n",
              "      <td>...</td>\n",
              "      <td>...</td>\n",
              "      <td>...</td>\n",
              "      <td>...</td>\n",
              "      <td>...</td>\n",
              "      <td>...</td>\n",
              "      <td>...</td>\n",
              "    </tr>\n",
              "    <tr>\n",
              "      <th>1723</th>\n",
              "      <td>low</td>\n",
              "      <td>low</td>\n",
              "      <td>5more</td>\n",
              "      <td>more</td>\n",
              "      <td>med</td>\n",
              "      <td>med</td>\n",
              "      <td>good</td>\n",
              "    </tr>\n",
              "    <tr>\n",
              "      <th>1724</th>\n",
              "      <td>low</td>\n",
              "      <td>low</td>\n",
              "      <td>5more</td>\n",
              "      <td>more</td>\n",
              "      <td>med</td>\n",
              "      <td>high</td>\n",
              "      <td>vgood</td>\n",
              "    </tr>\n",
              "    <tr>\n",
              "      <th>1725</th>\n",
              "      <td>low</td>\n",
              "      <td>low</td>\n",
              "      <td>5more</td>\n",
              "      <td>more</td>\n",
              "      <td>big</td>\n",
              "      <td>low</td>\n",
              "      <td>unacc</td>\n",
              "    </tr>\n",
              "    <tr>\n",
              "      <th>1726</th>\n",
              "      <td>low</td>\n",
              "      <td>low</td>\n",
              "      <td>5more</td>\n",
              "      <td>more</td>\n",
              "      <td>big</td>\n",
              "      <td>med</td>\n",
              "      <td>good</td>\n",
              "    </tr>\n",
              "    <tr>\n",
              "      <th>1727</th>\n",
              "      <td>low</td>\n",
              "      <td>low</td>\n",
              "      <td>5more</td>\n",
              "      <td>more</td>\n",
              "      <td>big</td>\n",
              "      <td>high</td>\n",
              "      <td>vgood</td>\n",
              "    </tr>\n",
              "  </tbody>\n",
              "</table>\n",
              "<p>1728 rows × 7 columns</p>\n",
              "</div>"
            ],
            "text/plain": [
              "     buying  maint  doors persons lug_boot safety  class\n",
              "0     vhigh  vhigh      2       2    small    low  unacc\n",
              "1     vhigh  vhigh      2       2    small    med  unacc\n",
              "2     vhigh  vhigh      2       2    small   high  unacc\n",
              "3     vhigh  vhigh      2       2      med    low  unacc\n",
              "4     vhigh  vhigh      2       2      med    med  unacc\n",
              "...     ...    ...    ...     ...      ...    ...    ...\n",
              "1723    low    low  5more    more      med    med   good\n",
              "1724    low    low  5more    more      med   high  vgood\n",
              "1725    low    low  5more    more      big    low  unacc\n",
              "1726    low    low  5more    more      big    med   good\n",
              "1727    low    low  5more    more      big   high  vgood\n",
              "\n",
              "[1728 rows x 7 columns]"
            ]
          },
          "metadata": {
            "tags": []
          },
          "execution_count": 2
        }
      ]
    },
    {
      "cell_type": "code",
      "metadata": {
        "id": "kRTuliH1iqpv",
        "colab": {
          "base_uri": "https://localhost:8080/"
        },
        "outputId": "c8fe0c0a-9043-4c79-85da-46d3754138f4"
      },
      "source": [
        "class_names = data['class'].unique()\n",
        "class_names"
      ],
      "execution_count": null,
      "outputs": [
        {
          "output_type": "execute_result",
          "data": {
            "text/plain": [
              "array(['unacc', 'acc', 'vgood', 'good'], dtype=object)"
            ]
          },
          "metadata": {
            "tags": []
          },
          "execution_count": 3
        }
      ]
    },
    {
      "cell_type": "code",
      "metadata": {
        "id": "Sp6ESiQafAjW",
        "colab": {
          "base_uri": "https://localhost:8080/"
        },
        "outputId": "bdcec355-a589-42ce-f385-cedfd8397550"
      },
      "source": [
        "data['class'].value_counts()"
      ],
      "execution_count": null,
      "outputs": [
        {
          "output_type": "execute_result",
          "data": {
            "text/plain": [
              "unacc    1210\n",
              "acc       384\n",
              "good       69\n",
              "vgood      65\n",
              "Name: class, dtype: int64"
            ]
          },
          "metadata": {
            "tags": []
          },
          "execution_count": 4
        }
      ]
    },
    {
      "cell_type": "code",
      "metadata": {
        "id": "-2cBk0D5fLy2",
        "colab": {
          "base_uri": "https://localhost:8080/"
        },
        "outputId": "3e8684de-98ba-4955-e92a-91404d5c25aa"
      },
      "source": [
        "data.dtypes"
      ],
      "execution_count": null,
      "outputs": [
        {
          "output_type": "execute_result",
          "data": {
            "text/plain": [
              "buying      object\n",
              "maint       object\n",
              "doors       object\n",
              "persons     object\n",
              "lug_boot    object\n",
              "safety      object\n",
              "class       object\n",
              "dtype: object"
            ]
          },
          "metadata": {
            "tags": []
          },
          "execution_count": 5
        }
      ]
    },
    {
      "cell_type": "code",
      "metadata": {
        "id": "UCpESk0Xfwei",
        "colab": {
          "base_uri": "https://localhost:8080/"
        },
        "outputId": "cb20b95e-355f-43bf-c407-f01f2cc9df01"
      },
      "source": [
        "data['buying'].value_counts()"
      ],
      "execution_count": null,
      "outputs": [
        {
          "output_type": "execute_result",
          "data": {
            "text/plain": [
              "med      432\n",
              "low      432\n",
              "vhigh    432\n",
              "high     432\n",
              "Name: buying, dtype: int64"
            ]
          },
          "metadata": {
            "tags": []
          },
          "execution_count": 6
        }
      ]
    },
    {
      "cell_type": "code",
      "metadata": {
        "id": "7Bk0u6QlgCSv",
        "colab": {
          "base_uri": "https://localhost:8080/"
        },
        "outputId": "7dff5b93-7269-4b6f-bb85-ae404df7b150"
      },
      "source": [
        "data['safety'].unique()"
      ],
      "execution_count": null,
      "outputs": [
        {
          "output_type": "execute_result",
          "data": {
            "text/plain": [
              "array(['low', 'med', 'high'], dtype=object)"
            ]
          },
          "metadata": {
            "tags": []
          },
          "execution_count": 7
        }
      ]
    },
    {
      "cell_type": "code",
      "metadata": {
        "id": "mR8MQc_2gHyt",
        "colab": {
          "base_uri": "https://localhost:8080/"
        },
        "outputId": "b3a12565-a812-491b-a3d6-c222b78bab93"
      },
      "source": [
        "data['doors'].unique()"
      ],
      "execution_count": null,
      "outputs": [
        {
          "output_type": "execute_result",
          "data": {
            "text/plain": [
              "array(['2', '3', '4', '5more'], dtype=object)"
            ]
          },
          "metadata": {
            "tags": []
          },
          "execution_count": 8
        }
      ]
    },
    {
      "cell_type": "code",
      "metadata": {
        "id": "MqsJiGuqgNUZ",
        "colab": {
          "base_uri": "https://localhost:8080/"
        },
        "outputId": "d931b30e-d8ca-4f6e-916d-f5127a83a4ee"
      },
      "source": [
        "data[data['doors'] == '3'].count()"
      ],
      "execution_count": null,
      "outputs": [
        {
          "output_type": "execute_result",
          "data": {
            "text/plain": [
              "buying      432\n",
              "maint       432\n",
              "doors       432\n",
              "persons     432\n",
              "lug_boot    432\n",
              "safety      432\n",
              "class       432\n",
              "dtype: int64"
            ]
          },
          "metadata": {
            "tags": []
          },
          "execution_count": 9
        }
      ]
    },
    {
      "cell_type": "code",
      "metadata": {
        "id": "qd7RGZmiggZx",
        "colab": {
          "base_uri": "https://localhost:8080/"
        },
        "outputId": "d1e9fea3-a617-46f5-f4d1-eea1d37ca606"
      },
      "source": [
        "data.shape"
      ],
      "execution_count": null,
      "outputs": [
        {
          "output_type": "execute_result",
          "data": {
            "text/plain": [
              "(1728, 7)"
            ]
          },
          "metadata": {
            "tags": []
          },
          "execution_count": 64
        }
      ]
    },
    {
      "cell_type": "code",
      "metadata": {
        "id": "FCWt6wYmgcej",
        "colab": {
          "base_uri": "https://localhost:8080/",
          "height": 402
        },
        "outputId": "04bf027f-f280-4269-f439-4dd865e43731"
      },
      "source": [
        "data.dropna()"
      ],
      "execution_count": null,
      "outputs": [
        {
          "output_type": "execute_result",
          "data": {
            "text/html": [
              "<div>\n",
              "<style scoped>\n",
              "    .dataframe tbody tr th:only-of-type {\n",
              "        vertical-align: middle;\n",
              "    }\n",
              "\n",
              "    .dataframe tbody tr th {\n",
              "        vertical-align: top;\n",
              "    }\n",
              "\n",
              "    .dataframe thead th {\n",
              "        text-align: right;\n",
              "    }\n",
              "</style>\n",
              "<table border=\"1\" class=\"dataframe\">\n",
              "  <thead>\n",
              "    <tr style=\"text-align: right;\">\n",
              "      <th></th>\n",
              "      <th>buying</th>\n",
              "      <th>maint</th>\n",
              "      <th>doors</th>\n",
              "      <th>persons</th>\n",
              "      <th>lug_boot</th>\n",
              "      <th>safety</th>\n",
              "      <th>class</th>\n",
              "    </tr>\n",
              "  </thead>\n",
              "  <tbody>\n",
              "    <tr>\n",
              "      <th>0</th>\n",
              "      <td>vhigh</td>\n",
              "      <td>vhigh</td>\n",
              "      <td>2</td>\n",
              "      <td>2</td>\n",
              "      <td>small</td>\n",
              "      <td>low</td>\n",
              "      <td>unacc</td>\n",
              "    </tr>\n",
              "    <tr>\n",
              "      <th>1</th>\n",
              "      <td>vhigh</td>\n",
              "      <td>vhigh</td>\n",
              "      <td>2</td>\n",
              "      <td>2</td>\n",
              "      <td>small</td>\n",
              "      <td>med</td>\n",
              "      <td>unacc</td>\n",
              "    </tr>\n",
              "    <tr>\n",
              "      <th>2</th>\n",
              "      <td>vhigh</td>\n",
              "      <td>vhigh</td>\n",
              "      <td>2</td>\n",
              "      <td>2</td>\n",
              "      <td>small</td>\n",
              "      <td>high</td>\n",
              "      <td>unacc</td>\n",
              "    </tr>\n",
              "    <tr>\n",
              "      <th>3</th>\n",
              "      <td>vhigh</td>\n",
              "      <td>vhigh</td>\n",
              "      <td>2</td>\n",
              "      <td>2</td>\n",
              "      <td>med</td>\n",
              "      <td>low</td>\n",
              "      <td>unacc</td>\n",
              "    </tr>\n",
              "    <tr>\n",
              "      <th>4</th>\n",
              "      <td>vhigh</td>\n",
              "      <td>vhigh</td>\n",
              "      <td>2</td>\n",
              "      <td>2</td>\n",
              "      <td>med</td>\n",
              "      <td>med</td>\n",
              "      <td>unacc</td>\n",
              "    </tr>\n",
              "    <tr>\n",
              "      <th>...</th>\n",
              "      <td>...</td>\n",
              "      <td>...</td>\n",
              "      <td>...</td>\n",
              "      <td>...</td>\n",
              "      <td>...</td>\n",
              "      <td>...</td>\n",
              "      <td>...</td>\n",
              "    </tr>\n",
              "    <tr>\n",
              "      <th>1723</th>\n",
              "      <td>low</td>\n",
              "      <td>low</td>\n",
              "      <td>5more</td>\n",
              "      <td>more</td>\n",
              "      <td>med</td>\n",
              "      <td>med</td>\n",
              "      <td>good</td>\n",
              "    </tr>\n",
              "    <tr>\n",
              "      <th>1724</th>\n",
              "      <td>low</td>\n",
              "      <td>low</td>\n",
              "      <td>5more</td>\n",
              "      <td>more</td>\n",
              "      <td>med</td>\n",
              "      <td>high</td>\n",
              "      <td>vgood</td>\n",
              "    </tr>\n",
              "    <tr>\n",
              "      <th>1725</th>\n",
              "      <td>low</td>\n",
              "      <td>low</td>\n",
              "      <td>5more</td>\n",
              "      <td>more</td>\n",
              "      <td>big</td>\n",
              "      <td>low</td>\n",
              "      <td>unacc</td>\n",
              "    </tr>\n",
              "    <tr>\n",
              "      <th>1726</th>\n",
              "      <td>low</td>\n",
              "      <td>low</td>\n",
              "      <td>5more</td>\n",
              "      <td>more</td>\n",
              "      <td>big</td>\n",
              "      <td>med</td>\n",
              "      <td>good</td>\n",
              "    </tr>\n",
              "    <tr>\n",
              "      <th>1727</th>\n",
              "      <td>low</td>\n",
              "      <td>low</td>\n",
              "      <td>5more</td>\n",
              "      <td>more</td>\n",
              "      <td>big</td>\n",
              "      <td>high</td>\n",
              "      <td>vgood</td>\n",
              "    </tr>\n",
              "  </tbody>\n",
              "</table>\n",
              "<p>1728 rows × 7 columns</p>\n",
              "</div>"
            ],
            "text/plain": [
              "     buying  maint  doors persons lug_boot safety  class\n",
              "0     vhigh  vhigh      2       2    small    low  unacc\n",
              "1     vhigh  vhigh      2       2    small    med  unacc\n",
              "2     vhigh  vhigh      2       2    small   high  unacc\n",
              "3     vhigh  vhigh      2       2      med    low  unacc\n",
              "4     vhigh  vhigh      2       2      med    med  unacc\n",
              "...     ...    ...    ...     ...      ...    ...    ...\n",
              "1723    low    low  5more    more      med    med   good\n",
              "1724    low    low  5more    more      med   high  vgood\n",
              "1725    low    low  5more    more      big    low  unacc\n",
              "1726    low    low  5more    more      big    med   good\n",
              "1727    low    low  5more    more      big   high  vgood\n",
              "\n",
              "[1728 rows x 7 columns]"
            ]
          },
          "metadata": {
            "tags": []
          },
          "execution_count": 65
        }
      ]
    },
    {
      "cell_type": "code",
      "metadata": {
        "id": "L8IcNx2_gihS",
        "colab": {
          "base_uri": "https://localhost:8080/"
        },
        "outputId": "7e2e94fb-a964-45f4-9c32-70c17e4cd630"
      },
      "source": [
        "data.info(10)"
      ],
      "execution_count": null,
      "outputs": [
        {
          "output_type": "stream",
          "text": [
            "<class 'pandas.core.frame.DataFrame'>\n",
            "RangeIndex: 1728 entries, 0 to 1727\n",
            "Data columns (total 7 columns):\n",
            " #   Column    Non-Null Count  Dtype \n",
            "---  ------    --------------  ----- \n",
            " 0   buying    1728 non-null   object\n",
            " 1   maint     1728 non-null   object\n",
            " 2   doors     1728 non-null   object\n",
            " 3   persons   1728 non-null   object\n",
            " 4   lug_boot  1728 non-null   object\n",
            " 5   safety    1728 non-null   object\n",
            " 6   class     1728 non-null   object\n",
            "dtypes: object(7)\n",
            "memory usage: 94.6+ KB\n"
          ],
          "name": "stdout"
        }
      ]
    },
    {
      "cell_type": "code",
      "metadata": {
        "id": "KOGgMAULglWu",
        "colab": {
          "base_uri": "https://localhost:8080/",
          "height": 166
        },
        "outputId": "08f236c1-a3f8-4230-9330-ae9041d1223b"
      },
      "source": [
        "data.describe()"
      ],
      "execution_count": null,
      "outputs": [
        {
          "output_type": "execute_result",
          "data": {
            "text/html": [
              "<div>\n",
              "<style scoped>\n",
              "    .dataframe tbody tr th:only-of-type {\n",
              "        vertical-align: middle;\n",
              "    }\n",
              "\n",
              "    .dataframe tbody tr th {\n",
              "        vertical-align: top;\n",
              "    }\n",
              "\n",
              "    .dataframe thead th {\n",
              "        text-align: right;\n",
              "    }\n",
              "</style>\n",
              "<table border=\"1\" class=\"dataframe\">\n",
              "  <thead>\n",
              "    <tr style=\"text-align: right;\">\n",
              "      <th></th>\n",
              "      <th>buying</th>\n",
              "      <th>maint</th>\n",
              "      <th>doors</th>\n",
              "      <th>persons</th>\n",
              "      <th>lug_boot</th>\n",
              "      <th>safety</th>\n",
              "      <th>class</th>\n",
              "    </tr>\n",
              "  </thead>\n",
              "  <tbody>\n",
              "    <tr>\n",
              "      <th>count</th>\n",
              "      <td>1728</td>\n",
              "      <td>1728</td>\n",
              "      <td>1728</td>\n",
              "      <td>1728</td>\n",
              "      <td>1728</td>\n",
              "      <td>1728</td>\n",
              "      <td>1728</td>\n",
              "    </tr>\n",
              "    <tr>\n",
              "      <th>unique</th>\n",
              "      <td>4</td>\n",
              "      <td>4</td>\n",
              "      <td>4</td>\n",
              "      <td>3</td>\n",
              "      <td>3</td>\n",
              "      <td>3</td>\n",
              "      <td>4</td>\n",
              "    </tr>\n",
              "    <tr>\n",
              "      <th>top</th>\n",
              "      <td>high</td>\n",
              "      <td>high</td>\n",
              "      <td>4</td>\n",
              "      <td>4</td>\n",
              "      <td>small</td>\n",
              "      <td>high</td>\n",
              "      <td>unacc</td>\n",
              "    </tr>\n",
              "    <tr>\n",
              "      <th>freq</th>\n",
              "      <td>432</td>\n",
              "      <td>432</td>\n",
              "      <td>432</td>\n",
              "      <td>576</td>\n",
              "      <td>576</td>\n",
              "      <td>576</td>\n",
              "      <td>1210</td>\n",
              "    </tr>\n",
              "  </tbody>\n",
              "</table>\n",
              "</div>"
            ],
            "text/plain": [
              "       buying maint doors persons lug_boot safety  class\n",
              "count    1728  1728  1728    1728     1728   1728   1728\n",
              "unique      4     4     4       3        3      3      4\n",
              "top      high  high     4       4    small   high  unacc\n",
              "freq      432   432   432     576      576    576   1210"
            ]
          },
          "metadata": {
            "tags": []
          },
          "execution_count": 67
        }
      ]
    },
    {
      "cell_type": "code",
      "metadata": {
        "id": "9P1p28q1gomp",
        "colab": {
          "base_uri": "https://localhost:8080/"
        },
        "outputId": "a1214a84-db96-41df-c414-7bc4ced6ecb3"
      },
      "source": [
        "pd.factorize(data['class'])"
      ],
      "execution_count": null,
      "outputs": [
        {
          "output_type": "execute_result",
          "data": {
            "text/plain": [
              "(array([0, 0, 0, ..., 0, 3, 2]),\n",
              " Index(['unacc', 'acc', 'vgood', 'good'], dtype='object'))"
            ]
          },
          "metadata": {
            "tags": []
          },
          "execution_count": 68
        }
      ]
    },
    {
      "cell_type": "code",
      "metadata": {
        "id": "MN6pEYQohON7",
        "colab": {
          "base_uri": "https://localhost:8080/"
        },
        "outputId": "b58daaf6-b53a-45df-f0e7-3af71ed1eb4e"
      },
      "source": [
        "data['class'].unique()"
      ],
      "execution_count": null,
      "outputs": [
        {
          "output_type": "execute_result",
          "data": {
            "text/plain": [
              "array(['unacc', 'acc', 'vgood', 'good'], dtype=object)"
            ]
          },
          "metadata": {
            "tags": []
          },
          "execution_count": 69
        }
      ]
    },
    {
      "cell_type": "code",
      "metadata": {
        "id": "Ag8K_i1VhaSz",
        "colab": {
          "base_uri": "https://localhost:8080/"
        },
        "outputId": "af691d11-b677-4e53-df62-5c028545240b"
      },
      "source": [
        "data['doors'].unique()"
      ],
      "execution_count": null,
      "outputs": [
        {
          "output_type": "execute_result",
          "data": {
            "text/plain": [
              "array(['2', '3', '4', '5more'], dtype=object)"
            ]
          },
          "metadata": {
            "tags": []
          },
          "execution_count": 70
        }
      ]
    },
    {
      "cell_type": "code",
      "metadata": {
        "id": "e50ysSzXhfkt",
        "colab": {
          "base_uri": "https://localhost:8080/"
        },
        "outputId": "75d73b6b-eee8-4c56-c780-d69810454136"
      },
      "source": [
        "data['class'],class_names = pd.factorize(data['class'])\n",
        "\n",
        "print(class_names)"
      ],
      "execution_count": null,
      "outputs": [
        {
          "output_type": "stream",
          "text": [
            "Index(['unacc', 'acc', 'vgood', 'good'], dtype='object')\n"
          ],
          "name": "stdout"
        }
      ]
    },
    {
      "cell_type": "code",
      "metadata": {
        "id": "gtHd_Bw5hmjL"
      },
      "source": [
        "data['buying'],_ = pd.factorize(data['buying'])\n",
        "data['maint'],_ = pd.factorize(data['maint'])\n",
        "data['doors'],_ = pd.factorize(data['doors'])\n",
        "data['persons'],_ = pd.factorize(data['persons'])\n",
        "data['lug_boot'],_ = pd.factorize(data['lug_boot'])\n",
        "data['safety'],_ = pd.factorize(data['safety'])\n",
        "data['class'],_ = pd.factorize(data['class'])"
      ],
      "execution_count": null,
      "outputs": []
    },
    {
      "cell_type": "code",
      "metadata": {
        "id": "meJluGe8htpE",
        "colab": {
          "base_uri": "https://localhost:8080/",
          "height": 195
        },
        "outputId": "39e5b3e2-7319-4486-98eb-1a65c7539ad4"
      },
      "source": [
        "data.head()"
      ],
      "execution_count": null,
      "outputs": [
        {
          "output_type": "execute_result",
          "data": {
            "text/html": [
              "<div>\n",
              "<style scoped>\n",
              "    .dataframe tbody tr th:only-of-type {\n",
              "        vertical-align: middle;\n",
              "    }\n",
              "\n",
              "    .dataframe tbody tr th {\n",
              "        vertical-align: top;\n",
              "    }\n",
              "\n",
              "    .dataframe thead th {\n",
              "        text-align: right;\n",
              "    }\n",
              "</style>\n",
              "<table border=\"1\" class=\"dataframe\">\n",
              "  <thead>\n",
              "    <tr style=\"text-align: right;\">\n",
              "      <th></th>\n",
              "      <th>buying</th>\n",
              "      <th>maint</th>\n",
              "      <th>doors</th>\n",
              "      <th>persons</th>\n",
              "      <th>lug_boot</th>\n",
              "      <th>safety</th>\n",
              "      <th>class</th>\n",
              "    </tr>\n",
              "  </thead>\n",
              "  <tbody>\n",
              "    <tr>\n",
              "      <th>0</th>\n",
              "      <td>0</td>\n",
              "      <td>0</td>\n",
              "      <td>0</td>\n",
              "      <td>0</td>\n",
              "      <td>0</td>\n",
              "      <td>0</td>\n",
              "      <td>0</td>\n",
              "    </tr>\n",
              "    <tr>\n",
              "      <th>1</th>\n",
              "      <td>0</td>\n",
              "      <td>0</td>\n",
              "      <td>0</td>\n",
              "      <td>0</td>\n",
              "      <td>0</td>\n",
              "      <td>1</td>\n",
              "      <td>0</td>\n",
              "    </tr>\n",
              "    <tr>\n",
              "      <th>2</th>\n",
              "      <td>0</td>\n",
              "      <td>0</td>\n",
              "      <td>0</td>\n",
              "      <td>0</td>\n",
              "      <td>0</td>\n",
              "      <td>2</td>\n",
              "      <td>0</td>\n",
              "    </tr>\n",
              "    <tr>\n",
              "      <th>3</th>\n",
              "      <td>0</td>\n",
              "      <td>0</td>\n",
              "      <td>0</td>\n",
              "      <td>0</td>\n",
              "      <td>1</td>\n",
              "      <td>0</td>\n",
              "      <td>0</td>\n",
              "    </tr>\n",
              "    <tr>\n",
              "      <th>4</th>\n",
              "      <td>0</td>\n",
              "      <td>0</td>\n",
              "      <td>0</td>\n",
              "      <td>0</td>\n",
              "      <td>1</td>\n",
              "      <td>1</td>\n",
              "      <td>0</td>\n",
              "    </tr>\n",
              "  </tbody>\n",
              "</table>\n",
              "</div>"
            ],
            "text/plain": [
              "   buying  maint  doors  persons  lug_boot  safety  class\n",
              "0       0      0      0        0         0       0      0\n",
              "1       0      0      0        0         0       1      0\n",
              "2       0      0      0        0         0       2      0\n",
              "3       0      0      0        0         1       0      0\n",
              "4       0      0      0        0         1       1      0"
            ]
          },
          "metadata": {
            "tags": []
          },
          "execution_count": 73
        }
      ]
    },
    {
      "cell_type": "code",
      "metadata": {
        "id": "J0jqfpmvhvAY",
        "colab": {
          "base_uri": "https://localhost:8080/",
          "height": 254
        },
        "outputId": "42d0ea2a-98a9-408d-9007-3a11674ff1b0"
      },
      "source": [
        "data.corr()"
      ],
      "execution_count": null,
      "outputs": [
        {
          "output_type": "execute_result",
          "data": {
            "text/html": [
              "<div>\n",
              "<style scoped>\n",
              "    .dataframe tbody tr th:only-of-type {\n",
              "        vertical-align: middle;\n",
              "    }\n",
              "\n",
              "    .dataframe tbody tr th {\n",
              "        vertical-align: top;\n",
              "    }\n",
              "\n",
              "    .dataframe thead th {\n",
              "        text-align: right;\n",
              "    }\n",
              "</style>\n",
              "<table border=\"1\" class=\"dataframe\">\n",
              "  <thead>\n",
              "    <tr style=\"text-align: right;\">\n",
              "      <th></th>\n",
              "      <th>buying</th>\n",
              "      <th>maint</th>\n",
              "      <th>doors</th>\n",
              "      <th>persons</th>\n",
              "      <th>lug_boot</th>\n",
              "      <th>safety</th>\n",
              "      <th>class</th>\n",
              "    </tr>\n",
              "  </thead>\n",
              "  <tbody>\n",
              "    <tr>\n",
              "      <th>buying</th>\n",
              "      <td>1.000000</td>\n",
              "      <td>0.000000</td>\n",
              "      <td>0.000000</td>\n",
              "      <td>0.000000</td>\n",
              "      <td>0.000000</td>\n",
              "      <td>0.000000</td>\n",
              "      <td>0.286532</td>\n",
              "    </tr>\n",
              "    <tr>\n",
              "      <th>maint</th>\n",
              "      <td>0.000000</td>\n",
              "      <td>1.000000</td>\n",
              "      <td>0.000000</td>\n",
              "      <td>0.000000</td>\n",
              "      <td>0.000000</td>\n",
              "      <td>0.000000</td>\n",
              "      <td>0.254656</td>\n",
              "    </tr>\n",
              "    <tr>\n",
              "      <th>doors</th>\n",
              "      <td>0.000000</td>\n",
              "      <td>0.000000</td>\n",
              "      <td>1.000000</td>\n",
              "      <td>0.000000</td>\n",
              "      <td>0.000000</td>\n",
              "      <td>0.000000</td>\n",
              "      <td>0.056475</td>\n",
              "    </tr>\n",
              "    <tr>\n",
              "      <th>persons</th>\n",
              "      <td>0.000000</td>\n",
              "      <td>0.000000</td>\n",
              "      <td>0.000000</td>\n",
              "      <td>1.000000</td>\n",
              "      <td>0.000000</td>\n",
              "      <td>0.000000</td>\n",
              "      <td>0.336842</td>\n",
              "    </tr>\n",
              "    <tr>\n",
              "      <th>lug_boot</th>\n",
              "      <td>0.000000</td>\n",
              "      <td>0.000000</td>\n",
              "      <td>0.000000</td>\n",
              "      <td>0.000000</td>\n",
              "      <td>1.000000</td>\n",
              "      <td>0.000000</td>\n",
              "      <td>0.121453</td>\n",
              "    </tr>\n",
              "    <tr>\n",
              "      <th>safety</th>\n",
              "      <td>0.000000</td>\n",
              "      <td>0.000000</td>\n",
              "      <td>0.000000</td>\n",
              "      <td>0.000000</td>\n",
              "      <td>0.000000</td>\n",
              "      <td>1.000000</td>\n",
              "      <td>0.402313</td>\n",
              "    </tr>\n",
              "    <tr>\n",
              "      <th>class</th>\n",
              "      <td>0.286532</td>\n",
              "      <td>0.254656</td>\n",
              "      <td>0.056475</td>\n",
              "      <td>0.336842</td>\n",
              "      <td>0.121453</td>\n",
              "      <td>0.402313</td>\n",
              "      <td>1.000000</td>\n",
              "    </tr>\n",
              "  </tbody>\n",
              "</table>\n",
              "</div>"
            ],
            "text/plain": [
              "            buying     maint     doors   persons  lug_boot    safety     class\n",
              "buying    1.000000  0.000000  0.000000  0.000000  0.000000  0.000000  0.286532\n",
              "maint     0.000000  1.000000  0.000000  0.000000  0.000000  0.000000  0.254656\n",
              "doors     0.000000  0.000000  1.000000  0.000000  0.000000  0.000000  0.056475\n",
              "persons   0.000000  0.000000  0.000000  1.000000  0.000000  0.000000  0.336842\n",
              "lug_boot  0.000000  0.000000  0.000000  0.000000  1.000000  0.000000  0.121453\n",
              "safety    0.000000  0.000000  0.000000  0.000000  0.000000  1.000000  0.402313\n",
              "class     0.286532  0.254656  0.056475  0.336842  0.121453  0.402313  1.000000"
            ]
          },
          "metadata": {
            "tags": []
          },
          "execution_count": 74
        }
      ]
    },
    {
      "cell_type": "code",
      "metadata": {
        "id": "U3jY9RNshy1h"
      },
      "source": [
        "X = data.drop(['class'], axis='columns')\n",
        "y = data['class']"
      ],
      "execution_count": null,
      "outputs": []
    },
    {
      "cell_type": "code",
      "metadata": {
        "id": "MqieawZyh7_T"
      },
      "source": [
        "from sklearn.model_selection import train_test_split \n",
        "X_train, X_test, y_train, y_test = train_test_split(X, y, test_size=0.3, random_state=0)"
      ],
      "execution_count": null,
      "outputs": []
    },
    {
      "cell_type": "code",
      "metadata": {
        "id": "x6O7TclTh9S3",
        "colab": {
          "base_uri": "https://localhost:8080/"
        },
        "outputId": "f855b312-819f-41c7-acc4-ea777dee8b19"
      },
      "source": [
        "from sklearn import tree, metrics\n",
        "dtree = tree.DecisionTreeClassifier(criterion='gini') # entrophy or gini\n",
        "dtree.fit(X_train, y_train)"
      ],
      "execution_count": null,
      "outputs": [
        {
          "output_type": "execute_result",
          "data": {
            "text/plain": [
              "DecisionTreeClassifier(ccp_alpha=0.0, class_weight=None, criterion='gini',\n",
              "                       max_depth=None, max_features=None, max_leaf_nodes=None,\n",
              "                       min_impurity_decrease=0.0, min_impurity_split=None,\n",
              "                       min_samples_leaf=1, min_samples_split=2,\n",
              "                       min_weight_fraction_leaf=0.0, presort='deprecated',\n",
              "                       random_state=None, splitter='best')"
            ]
          },
          "metadata": {
            "tags": []
          },
          "execution_count": 77
        }
      ]
    },
    {
      "cell_type": "code",
      "metadata": {
        "id": "qHLg-hh1h_PE",
        "colab": {
          "base_uri": "https://localhost:8080/"
        },
        "outputId": "e6c9c18c-731a-4acf-a703-6c6a18968633"
      },
      "source": [
        "y_train_pred = dtree.predict(X_train)\n",
        "\n",
        "accuracy = metrics.accuracy_score(y_train, y_train_pred)\n",
        "print('Train accuracy: {:.2f}'.format(accuracy))"
      ],
      "execution_count": null,
      "outputs": [
        {
          "output_type": "stream",
          "text": [
            "Train accuracy: 1.00\n"
          ],
          "name": "stdout"
        }
      ]
    },
    {
      "cell_type": "code",
      "metadata": {
        "id": "KO-jRTzjiB8V",
        "colab": {
          "base_uri": "https://localhost:8080/"
        },
        "outputId": "a27db0d7-8c1f-49ad-9e17-3666cb5e52a6"
      },
      "source": [
        "y_pred = dtree.predict(X_test)\n",
        "\n",
        "accuracy = metrics.accuracy_score(y_test, y_pred)\n",
        "print('Test accuracy: {:.2f}'.format(accuracy))"
      ],
      "execution_count": null,
      "outputs": [
        {
          "output_type": "stream",
          "text": [
            "Test accuracy: 0.97\n"
          ],
          "name": "stdout"
        }
      ]
    },
    {
      "cell_type": "markdown",
      "metadata": {
        "id": "D2fvN2I9Ztfb"
      },
      "source": [
        "## Evaluation Metrics"
      ]
    },
    {
      "cell_type": "code",
      "metadata": {
        "id": "2se9aYgkZgl_",
        "colab": {
          "base_uri": "https://localhost:8080/"
        },
        "outputId": "d064369b-68f0-4344-d744-9f69fccb79d6"
      },
      "source": [
        "from sklearn.metrics import classification_report, confusion_matrix\n",
        "y_hat = dtree.predict(X_test)\n",
        "print(classification_report(y_test, y_hat))"
      ],
      "execution_count": null,
      "outputs": [
        {
          "output_type": "stream",
          "text": [
            "              precision    recall  f1-score   support\n",
            "\n",
            "           0       0.98      1.00      0.99       363\n",
            "           1       0.97      0.91      0.94       115\n",
            "           2       1.00      0.94      0.97        16\n",
            "           3       0.86      0.96      0.91        25\n",
            "\n",
            "    accuracy                           0.97       519\n",
            "   macro avg       0.95      0.95      0.95       519\n",
            "weighted avg       0.98      0.97      0.97       519\n",
            "\n"
          ],
          "name": "stdout"
        }
      ]
    },
    {
      "cell_type": "code",
      "metadata": {
        "id": "gW2PtexaZlmY",
        "colab": {
          "base_uri": "https://localhost:8080/"
        },
        "outputId": "4ed16921-6e4a-48b6-b1d0-4828fc991ced"
      },
      "source": [
        "cm = confusion_matrix(y_test, y_hat)\n",
        "cm"
      ],
      "execution_count": null,
      "outputs": [
        {
          "output_type": "execute_result",
          "data": {
            "text/plain": [
              "array([[362,   1,   0,   0],\n",
              "       [  6, 105,   0,   4],\n",
              "       [  0,   1,  15,   0],\n",
              "       [  0,   1,   0,  24]])"
            ]
          },
          "metadata": {
            "tags": []
          },
          "execution_count": 84
        }
      ]
    },
    {
      "cell_type": "code",
      "metadata": {
        "id": "GPG0D8h6Zo9z",
        "colab": {
          "base_uri": "https://localhost:8080/",
          "height": 242
        },
        "outputId": "5015a03a-c8cd-4f2c-a540-fe18f363ba73"
      },
      "source": [
        "%matplotlib inline\n",
        "import matplotlib.pyplot as plt\n",
        "import seaborn as sn\n",
        "plt.figure(figsize=(4,3))\n",
        "sn.heatmap(cm, annot=True)\n",
        "plt.xlabel('Predicted')\n",
        "plt.ylabel('Truth')"
      ],
      "execution_count": null,
      "outputs": [
        {
          "output_type": "execute_result",
          "data": {
            "text/plain": [
              "Text(15.0, 0.5, 'Truth')"
            ]
          },
          "metadata": {
            "tags": []
          },
          "execution_count": 85
        },
        {
          "output_type": "display_data",
          "data": {
            "image/png": "[encoded data removed]",
            "text/plain": [
              "<Figure size 288x216 with 2 Axes>"
            ]
          },
          "metadata": {
            "tags": [],
            "needs_background": "light"
          }
        }
      ]
    },
    {
      "cell_type": "markdown",
      "metadata": {
        "id": "X2Nk08yIZpll"
      },
      "source": [
        "## GraphViz"
      ]
    },
    {
      "cell_type": "code",
      "metadata": {
        "id": "0GxLcqOSiEsG",
        "colab": {
          "base_uri": "https://localhost:8080/",
          "height": 1000
        },
        "outputId": "32b9202f-dcca-4f14-a999-4263749afa21"
      },
      "source": [
        "import graphviz\n",
        "feature_names = X.columns\n",
        "\n",
        "dot_data = tree.export_graphviz(dtree, out_file=None, filled=True, rounded=True,\n",
        "                                feature_names=feature_names,  \n",
        "                                class_names=str(class_names))\n",
        "graph = graphviz.Source(dot_data)  \n",
        "graph"
      ],
      "execution_count": null,
      "outputs": [
        {
          "output_type": "execute_result",
          "data": {
            "text/plain": [
              "<graphviz.files.Source at 0x7fde1dd824a8>"
            ],
            "image/svg+xml": "<?xml version=\"1.0\" encoding=\"UTF-8\" standalone=\"no\"?>\n<!DOCTYPE svg PUBLIC \"-//W3C//DTD SVG 1.1//EN\"\n \"http://www.w3.org/Graphics/SVG/1.1/DTD/svg11.dtd\">\n<!-- Generated by graphviz version 2.40.1 (20161225.0304)\n -->\n<!-- Title: Tree Pages: 1 -->\n<svg width=\"4655pt\" height=\"1385pt\"\n viewBox=\"0.00 0.00 4655.00 1385.00\" xmlns=\"http://www.w3.org/2000/svg\" xmlns:xlink=\"http://www.w3.org/1999/xlink\">\n<g id=\"graph0\" class=\"graph\" transform=\"scale(1 1) rotate(0) translate(4 1381)\">\n<title>Tree</title>\n<polygon fill=\"#ffffff\" stroke=\"transparent\" points=\"-4,4 -4,-1381 4651,-1381 4651,4 -4,4\"/>\n<!-- 0 -->\n<g id=\"node1\" class=\"node\">\n<title>0</title>\n<path fill=\"#efb285\" stroke=\"#000000\" d=\"M1295.5,-1377C1295.5,-1377 1139.5,-1377 1139.5,-1377 1133.5,-1377 1127.5,-1371 1127.5,-1365 1127.5,-1365 1127.5,-1306 1127.5,-1306 1127.5,-1300 1133.5,-1294 1139.5,-1294 1139.5,-1294 1295.5,-1294 1295.5,-1294 1301.5,-1294 1307.5,-1300 1307.5,-1306 1307.5,-1306 1307.5,-1365 1307.5,-1365 1307.5,-1371 1301.5,-1377 1295.5,-1377\"/>\n<text text-anchor=\"middle\" x=\"1217.5\" y=\"-1361.8\" font-family=\"Helvetica,sans-Serif\" font-size=\"14.00\" fill=\"#000000\">safety &lt;= 0.5</text>\n<text text-anchor=\"middle\" x=\"1217.5\" y=\"-1346.8\" font-family=\"Helvetica,sans-Serif\" font-size=\"14.00\" fill=\"#000000\">gini = 0.457</text>\n<text text-anchor=\"middle\" x=\"1217.5\" y=\"-1331.8\" font-family=\"Helvetica,sans-Serif\" font-size=\"14.00\" fill=\"#000000\">samples = 1209</text>\n<text text-anchor=\"middle\" x=\"1217.5\" y=\"-1316.8\" font-family=\"Helvetica,sans-Serif\" font-size=\"14.00\" fill=\"#000000\">value = [847, 269, 49, 44]</text>\n<text text-anchor=\"middle\" x=\"1217.5\" y=\"-1301.8\" font-family=\"Helvetica,sans-Serif\" font-size=\"14.00\" fill=\"#000000\">class = I</text>\n</g>\n<!-- 1 -->\n<g id=\"node2\" class=\"node\">\n<title>1</title>\n<path fill=\"#e58139\" stroke=\"#000000\" d=\"M1188,-1250.5C1188,-1250.5 1065,-1250.5 1065,-1250.5 1059,-1250.5 1053,-1244.5 1053,-1238.5 1053,-1238.5 1053,-1194.5 1053,-1194.5 1053,-1188.5 1059,-1182.5 1065,-1182.5 1065,-1182.5 1188,-1182.5 1188,-1182.5 1194,-1182.5 1200,-1188.5 1200,-1194.5 1200,-1194.5 1200,-1238.5 1200,-1238.5 1200,-1244.5 1194,-1250.5 1188,-1250.5\"/>\n<text text-anchor=\"middle\" x=\"1126.5\" y=\"-1235.3\" font-family=\"Helvetica,sans-Serif\" font-size=\"14.00\" fill=\"#000000\">gini = 0.0</text>\n<text text-anchor=\"middle\" x=\"1126.5\" y=\"-1220.3\" font-family=\"Helvetica,sans-Serif\" font-size=\"14.00\" fill=\"#000000\">samples = 411</text>\n<text text-anchor=\"middle\" x=\"1126.5\" y=\"-1205.3\" font-family=\"Helvetica,sans-Serif\" font-size=\"14.00\" fill=\"#000000\">value = [411, 0, 0, 0]</text>\n<text text-anchor=\"middle\" x=\"1126.5\" y=\"-1190.3\" font-family=\"Helvetica,sans-Serif\" font-size=\"14.00\" fill=\"#000000\">class = I</text>\n</g>\n<!-- 0&#45;&gt;1 -->\n<g id=\"edge1\" class=\"edge\">\n<title>0&#45;&gt;1</title>\n<path fill=\"none\" stroke=\"#000000\" d=\"M1185.6726,-1293.8796C1177.0116,-1282.5536 1167.6219,-1270.2748 1158.928,-1258.9058\"/>\n<polygon fill=\"#000000\" stroke=\"#000000\" points=\"1161.5956,-1256.6324 1152.7408,-1250.8149 1156.0351,-1260.8846 1161.5956,-1256.6324\"/>\n<text text-anchor=\"middle\" x=\"1149.4367\" y=\"-1271.8956\" font-family=\"Helvetica,sans-Serif\" font-size=\"14.00\" fill=\"#000000\">True</text>\n</g>\n<!-- 2 -->\n<g id=\"node3\" class=\"node\">\n<title>2</title>\n<path fill=\"#f7d7c0\" stroke=\"#000000\" d=\"M1386.5,-1258C1386.5,-1258 1230.5,-1258 1230.5,-1258 1224.5,-1258 1218.5,-1252 1218.5,-1246 1218.5,-1246 1218.5,-1187 1218.5,-1187 1218.5,-1181 1224.5,-1175 1230.5,-1175 1230.5,-1175 1386.5,-1175 1386.5,-1175 1392.5,-1175 1398.5,-1181 1398.5,-1187 1398.5,-1187 1398.5,-1246 1398.5,-1246 1398.5,-1252 1392.5,-1258 1386.5,-1258\"/>\n<text text-anchor=\"middle\" x=\"1308.5\" y=\"-1242.8\" font-family=\"Helvetica,sans-Serif\" font-size=\"14.00\" fill=\"#000000\">persons &lt;= 0.5</text>\n<text text-anchor=\"middle\" x=\"1308.5\" y=\"-1227.8\" font-family=\"Helvetica,sans-Serif\" font-size=\"14.00\" fill=\"#000000\">gini = 0.581</text>\n<text text-anchor=\"middle\" x=\"1308.5\" y=\"-1212.8\" font-family=\"Helvetica,sans-Serif\" font-size=\"14.00\" fill=\"#000000\">samples = 798</text>\n<text text-anchor=\"middle\" x=\"1308.5\" y=\"-1197.8\" font-family=\"Helvetica,sans-Serif\" font-size=\"14.00\" fill=\"#000000\">value = [436, 269, 49, 44]</text>\n<text text-anchor=\"middle\" x=\"1308.5\" y=\"-1182.8\" font-family=\"Helvetica,sans-Serif\" font-size=\"14.00\" fill=\"#000000\">class = I</text>\n</g>\n<!-- 0&#45;&gt;2 -->\n<g id=\"edge2\" class=\"edge\">\n<title>0&#45;&gt;2</title>\n<path fill=\"none\" stroke=\"#000000\" d=\"M1249.3274,-1293.8796C1256.1457,-1284.9633 1263.4156,-1275.4565 1270.4421,-1266.268\"/>\n<polygon fill=\"#000000\" stroke=\"#000000\" points=\"1273.2425,-1268.3678 1276.5368,-1258.2981 1267.682,-1264.1156 1273.2425,-1268.3678\"/>\n<text text-anchor=\"middle\" x=\"1279.8409\" y=\"-1279.3788\" font-family=\"Helvetica,sans-Serif\" font-size=\"14.00\" fill=\"#000000\">False</text>\n</g>\n<!-- 3 -->\n<g id=\"node4\" class=\"node\">\n<title>3</title>\n<path fill=\"#e58139\" stroke=\"#000000\" d=\"M1279,-1131.5C1279,-1131.5 1156,-1131.5 1156,-1131.5 1150,-1131.5 1144,-1125.5 1144,-1119.5 1144,-1119.5 1144,-1075.5 1144,-1075.5 1144,-1069.5 1150,-1063.5 1156,-1063.5 1156,-1063.5 1279,-1063.5 1279,-1063.5 1285,-1063.5 1291,-1069.5 1291,-1075.5 1291,-1075.5 1291,-1119.5 1291,-1119.5 1291,-1125.5 1285,-1131.5 1279,-1131.5\"/>\n<text text-anchor=\"middle\" x=\"1217.5\" y=\"-1116.3\" font-family=\"Helvetica,sans-Serif\" font-size=\"14.00\" fill=\"#000000\">gini = 0.0</text>\n<text text-anchor=\"middle\" x=\"1217.5\" y=\"-1101.3\" font-family=\"Helvetica,sans-Serif\" font-size=\"14.00\" fill=\"#000000\">samples = 263</text>\n<text text-anchor=\"middle\" x=\"1217.5\" y=\"-1086.3\" font-family=\"Helvetica,sans-Serif\" font-size=\"14.00\" fill=\"#000000\">value = [263, 0, 0, 0]</text>\n<text text-anchor=\"middle\" x=\"1217.5\" y=\"-1071.3\" font-family=\"Helvetica,sans-Serif\" font-size=\"14.00\" fill=\"#000000\">class = I</text>\n</g>\n<!-- 2&#45;&gt;3 -->\n<g id=\"edge3\" class=\"edge\">\n<title>2&#45;&gt;3</title>\n<path fill=\"none\" stroke=\"#000000\" d=\"M1276.6726,-1174.8796C1268.0116,-1163.5536 1258.6219,-1151.2748 1249.928,-1139.9058\"/>\n<polygon fill=\"#000000\" stroke=\"#000000\" points=\"1252.5956,-1137.6324 1243.7408,-1131.8149 1247.0351,-1141.8846 1252.5956,-1137.6324\"/>\n</g>\n<!-- 4 -->\n<g id=\"node5\" class=\"node\">\n<title>4</title>\n<path fill=\"#cef8ca\" stroke=\"#000000\" d=\"M1477.5,-1139C1477.5,-1139 1321.5,-1139 1321.5,-1139 1315.5,-1139 1309.5,-1133 1309.5,-1127 1309.5,-1127 1309.5,-1068 1309.5,-1068 1309.5,-1062 1315.5,-1056 1321.5,-1056 1321.5,-1056 1477.5,-1056 1477.5,-1056 1483.5,-1056 1489.5,-1062 1489.5,-1068 1489.5,-1068 1489.5,-1127 1489.5,-1127 1489.5,-1133 1483.5,-1139 1477.5,-1139\"/>\n<text text-anchor=\"middle\" x=\"1399.5\" y=\"-1123.8\" font-family=\"Helvetica,sans-Serif\" font-size=\"14.00\" fill=\"#000000\">buying &lt;= 1.5</text>\n<text text-anchor=\"middle\" x=\"1399.5\" y=\"-1108.8\" font-family=\"Helvetica,sans-Serif\" font-size=\"14.00\" fill=\"#000000\">gini = 0.627</text>\n<text text-anchor=\"middle\" x=\"1399.5\" y=\"-1093.8\" font-family=\"Helvetica,sans-Serif\" font-size=\"14.00\" fill=\"#000000\">samples = 535</text>\n<text text-anchor=\"middle\" x=\"1399.5\" y=\"-1078.8\" font-family=\"Helvetica,sans-Serif\" font-size=\"14.00\" fill=\"#000000\">value = [173, 269, 49, 44]</text>\n<text text-anchor=\"middle\" x=\"1399.5\" y=\"-1063.8\" font-family=\"Helvetica,sans-Serif\" font-size=\"14.00\" fill=\"#000000\">class = n</text>\n</g>\n<!-- 2&#45;&gt;4 -->\n<g id=\"edge4\" class=\"edge\">\n<title>2&#45;&gt;4</title>\n<path fill=\"none\" stroke=\"#000000\" d=\"M1340.3274,-1174.8796C1347.1457,-1165.9633 1354.4156,-1156.4565 1361.4421,-1147.268\"/>\n<polygon fill=\"#000000\" stroke=\"#000000\" points=\"1364.2425,-1149.3678 1367.5368,-1139.2981 1358.682,-1145.1156 1364.2425,-1149.3678\"/>\n</g>\n<!-- 5 -->\n<g id=\"node6\" class=\"node\">\n<title>5</title>\n<path fill=\"#fffdfc\" stroke=\"#000000\" d=\"M1082.5,-1020C1082.5,-1020 942.5,-1020 942.5,-1020 936.5,-1020 930.5,-1014 930.5,-1008 930.5,-1008 930.5,-949 930.5,-949 930.5,-943 936.5,-937 942.5,-937 942.5,-937 1082.5,-937 1082.5,-937 1088.5,-937 1094.5,-943 1094.5,-949 1094.5,-949 1094.5,-1008 1094.5,-1008 1094.5,-1014 1088.5,-1020 1082.5,-1020\"/>\n<text text-anchor=\"middle\" x=\"1012.5\" y=\"-1004.8\" font-family=\"Helvetica,sans-Serif\" font-size=\"14.00\" fill=\"#000000\">maint &lt;= 1.5</text>\n<text text-anchor=\"middle\" x=\"1012.5\" y=\"-989.8\" font-family=\"Helvetica,sans-Serif\" font-size=\"14.00\" fill=\"#000000\">gini = 0.5</text>\n<text text-anchor=\"middle\" x=\"1012.5\" y=\"-974.8\" font-family=\"Helvetica,sans-Serif\" font-size=\"14.00\" fill=\"#000000\">samples = 278</text>\n<text text-anchor=\"middle\" x=\"1012.5\" y=\"-959.8\" font-family=\"Helvetica,sans-Serif\" font-size=\"14.00\" fill=\"#000000\">value = [140, 138, 0, 0]</text>\n<text text-anchor=\"middle\" x=\"1012.5\" y=\"-944.8\" font-family=\"Helvetica,sans-Serif\" font-size=\"14.00\" fill=\"#000000\">class = I</text>\n</g>\n<!-- 4&#45;&gt;5 -->\n<g id=\"edge5\" class=\"edge\">\n<title>4&#45;&gt;5</title>\n<path fill=\"none\" stroke=\"#000000\" d=\"M1309.4898,-1059.5161C1306.1293,-1058.2987 1302.7914,-1057.1221 1299.5,-1056 1235.3288,-1034.1232 1161.4452,-1014.2915 1104.7135,-1000.1665\"/>\n<polygon fill=\"#000000\" stroke=\"#000000\" points=\"1105.2341,-996.6898 1094.6861,-997.6847 1103.5523,-1003.4848 1105.2341,-996.6898\"/>\n</g>\n<!-- 46 -->\n<g id=\"node47\" class=\"node\">\n<title>46</title>\n<path fill=\"#b6f5b1\" stroke=\"#000000\" d=\"M2053.5,-1020C2053.5,-1020 1905.5,-1020 1905.5,-1020 1899.5,-1020 1893.5,-1014 1893.5,-1008 1893.5,-1008 1893.5,-949 1893.5,-949 1893.5,-943 1899.5,-937 1905.5,-937 1905.5,-937 2053.5,-937 2053.5,-937 2059.5,-937 2065.5,-943 2065.5,-949 2065.5,-949 2065.5,-1008 2065.5,-1008 2065.5,-1014 2059.5,-1020 2053.5,-1020\"/>\n<text text-anchor=\"middle\" x=\"1979.5\" y=\"-1004.8\" font-family=\"Helvetica,sans-Serif\" font-size=\"14.00\" fill=\"#000000\">maint &lt;= 1.5</text>\n<text text-anchor=\"middle\" x=\"1979.5\" y=\"-989.8\" font-family=\"Helvetica,sans-Serif\" font-size=\"14.00\" fill=\"#000000\">gini = 0.658</text>\n<text text-anchor=\"middle\" x=\"1979.5\" y=\"-974.8\" font-family=\"Helvetica,sans-Serif\" font-size=\"14.00\" fill=\"#000000\">samples = 257</text>\n<text text-anchor=\"middle\" x=\"1979.5\" y=\"-959.8\" font-family=\"Helvetica,sans-Serif\" font-size=\"14.00\" fill=\"#000000\">value = [33, 131, 49, 44]</text>\n<text text-anchor=\"middle\" x=\"1979.5\" y=\"-944.8\" font-family=\"Helvetica,sans-Serif\" font-size=\"14.00\" fill=\"#000000\">class = n</text>\n</g>\n<!-- 4&#45;&gt;46 -->\n<g id=\"edge46\" class=\"edge\">\n<title>4&#45;&gt;46</title>\n<path fill=\"none\" stroke=\"#000000\" d=\"M1489.8066,-1078.9716C1596.6364,-1057.0531 1773.7481,-1020.7146 1883.1492,-998.2685\"/>\n<polygon fill=\"#000000\" stroke=\"#000000\" points=\"1884.1005,-1001.6463 1893.193,-996.2078 1882.6936,-994.7892 1884.1005,-1001.6463\"/>\n</g>\n<!-- 6 -->\n<g id=\"node7\" class=\"node\">\n<title>6</title>\n<path fill=\"#eba069\" stroke=\"#000000\" d=\"M612,-901C612,-901 481,-901 481,-901 475,-901 469,-895 469,-889 469,-889 469,-830 469,-830 469,-824 475,-818 481,-818 481,-818 612,-818 612,-818 618,-818 624,-824 624,-830 624,-830 624,-889 624,-889 624,-895 618,-901 612,-901\"/>\n<text text-anchor=\"middle\" x=\"546.5\" y=\"-885.8\" font-family=\"Helvetica,sans-Serif\" font-size=\"14.00\" fill=\"#000000\">buying &lt;= 0.5</text>\n<text text-anchor=\"middle\" x=\"546.5\" y=\"-870.8\" font-family=\"Helvetica,sans-Serif\" font-size=\"14.00\" fill=\"#000000\">gini = 0.315</text>\n<text text-anchor=\"middle\" x=\"546.5\" y=\"-855.8\" font-family=\"Helvetica,sans-Serif\" font-size=\"14.00\" fill=\"#000000\">samples = 133</text>\n<text text-anchor=\"middle\" x=\"546.5\" y=\"-840.8\" font-family=\"Helvetica,sans-Serif\" font-size=\"14.00\" fill=\"#000000\">value = [107, 26, 0, 0]</text>\n<text text-anchor=\"middle\" x=\"546.5\" y=\"-825.8\" font-family=\"Helvetica,sans-Serif\" font-size=\"14.00\" fill=\"#000000\">class = I</text>\n</g>\n<!-- 5&#45;&gt;6 -->\n<g id=\"edge6\" class=\"edge\">\n<title>5&#45;&gt;6</title>\n<path fill=\"none\" stroke=\"#000000\" d=\"M930.2612,-957.4991C847.0689,-936.2547 718.9395,-903.535 633.934,-881.8276\"/>\n<polygon fill=\"#000000\" stroke=\"#000000\" points=\"634.6002,-878.3854 624.0451,-879.3023 632.8682,-885.1678 634.6002,-878.3854\"/>\n</g>\n<!-- 27 -->\n<g id=\"node28\" class=\"node\">\n<title>27</title>\n<path fill=\"#7ded73\" stroke=\"#000000\" d=\"M1078,-901C1078,-901 947,-901 947,-901 941,-901 935,-895 935,-889 935,-889 935,-830 935,-830 935,-824 941,-818 947,-818 947,-818 1078,-818 1078,-818 1084,-818 1090,-824 1090,-830 1090,-830 1090,-889 1090,-889 1090,-895 1084,-901 1078,-901\"/>\n<text text-anchor=\"middle\" x=\"1012.5\" y=\"-885.8\" font-family=\"Helvetica,sans-Serif\" font-size=\"14.00\" fill=\"#000000\">lug_boot &lt;= 0.5</text>\n<text text-anchor=\"middle\" x=\"1012.5\" y=\"-870.8\" font-family=\"Helvetica,sans-Serif\" font-size=\"14.00\" fill=\"#000000\">gini = 0.352</text>\n<text text-anchor=\"middle\" x=\"1012.5\" y=\"-855.8\" font-family=\"Helvetica,sans-Serif\" font-size=\"14.00\" fill=\"#000000\">samples = 145</text>\n<text text-anchor=\"middle\" x=\"1012.5\" y=\"-840.8\" font-family=\"Helvetica,sans-Serif\" font-size=\"14.00\" fill=\"#000000\">value = [33, 112, 0, 0]</text>\n<text text-anchor=\"middle\" x=\"1012.5\" y=\"-825.8\" font-family=\"Helvetica,sans-Serif\" font-size=\"14.00\" fill=\"#000000\">class = n</text>\n</g>\n<!-- 5&#45;&gt;27 -->\n<g id=\"edge27\" class=\"edge\">\n<title>5&#45;&gt;27</title>\n<path fill=\"none\" stroke=\"#000000\" d=\"M1012.5,-936.8796C1012.5,-928.6838 1012.5,-919.9891 1012.5,-911.5013\"/>\n<polygon fill=\"#000000\" stroke=\"#000000\" points=\"1016.0001,-911.298 1012.5,-901.2981 1009.0001,-911.2981 1016.0001,-911.298\"/>\n</g>\n<!-- 7 -->\n<g id=\"node8\" class=\"node\">\n<title>7</title>\n<path fill=\"#e58139\" stroke=\"#000000\" d=\"M443,-774.5C443,-774.5 328,-774.5 328,-774.5 322,-774.5 316,-768.5 316,-762.5 316,-762.5 316,-718.5 316,-718.5 316,-712.5 322,-706.5 328,-706.5 328,-706.5 443,-706.5 443,-706.5 449,-706.5 455,-712.5 455,-718.5 455,-718.5 455,-762.5 455,-762.5 455,-768.5 449,-774.5 443,-774.5\"/>\n<text text-anchor=\"middle\" x=\"385.5\" y=\"-759.3\" font-family=\"Helvetica,sans-Serif\" font-size=\"14.00\" fill=\"#000000\">gini = 0.0</text>\n<text text-anchor=\"middle\" x=\"385.5\" y=\"-744.3\" font-family=\"Helvetica,sans-Serif\" font-size=\"14.00\" fill=\"#000000\">samples = 69</text>\n<text text-anchor=\"middle\" x=\"385.5\" y=\"-729.3\" font-family=\"Helvetica,sans-Serif\" font-size=\"14.00\" fill=\"#000000\">value = [69, 0, 0, 0]</text>\n<text text-anchor=\"middle\" x=\"385.5\" y=\"-714.3\" font-family=\"Helvetica,sans-Serif\" font-size=\"14.00\" fill=\"#000000\">class = I</text>\n</g>\n<!-- 6&#45;&gt;7 -->\n<g id=\"edge7\" class=\"edge\">\n<title>6&#45;&gt;7</title>\n<path fill=\"none\" stroke=\"#000000\" d=\"M490.19,-817.8796C473.8968,-805.8368 456.1461,-792.7167 439.9675,-780.7586\"/>\n<polygon fill=\"#000000\" stroke=\"#000000\" points=\"441.7886,-777.7524 431.6665,-774.623 437.6279,-783.3816 441.7886,-777.7524\"/>\n</g>\n<!-- 8 -->\n<g id=\"node9\" class=\"node\">\n<title>8</title>\n<path fill=\"#f7d7c0\" stroke=\"#000000\" d=\"M608,-782C608,-782 485,-782 485,-782 479,-782 473,-776 473,-770 473,-770 473,-711 473,-711 473,-705 479,-699 485,-699 485,-699 608,-699 608,-699 614,-699 620,-705 620,-711 620,-711 620,-770 620,-770 620,-776 614,-782 608,-782\"/>\n<text text-anchor=\"middle\" x=\"546.5\" y=\"-766.8\" font-family=\"Helvetica,sans-Serif\" font-size=\"14.00\" fill=\"#000000\">maint &lt;= 0.5</text>\n<text text-anchor=\"middle\" x=\"546.5\" y=\"-751.8\" font-family=\"Helvetica,sans-Serif\" font-size=\"14.00\" fill=\"#000000\">gini = 0.482</text>\n<text text-anchor=\"middle\" x=\"546.5\" y=\"-736.8\" font-family=\"Helvetica,sans-Serif\" font-size=\"14.00\" fill=\"#000000\">samples = 64</text>\n<text text-anchor=\"middle\" x=\"546.5\" y=\"-721.8\" font-family=\"Helvetica,sans-Serif\" font-size=\"14.00\" fill=\"#000000\">value = [38, 26, 0, 0]</text>\n<text text-anchor=\"middle\" x=\"546.5\" y=\"-706.8\" font-family=\"Helvetica,sans-Serif\" font-size=\"14.00\" fill=\"#000000\">class = I</text>\n</g>\n<!-- 6&#45;&gt;8 -->\n<g id=\"edge8\" class=\"edge\">\n<title>6&#45;&gt;8</title>\n<path fill=\"none\" stroke=\"#000000\" d=\"M546.5,-817.8796C546.5,-809.6838 546.5,-800.9891 546.5,-792.5013\"/>\n<polygon fill=\"#000000\" stroke=\"#000000\" points=\"550.0001,-792.298 546.5,-782.2981 543.0001,-792.2981 550.0001,-792.298\"/>\n</g>\n<!-- 9 -->\n<g id=\"node10\" class=\"node\">\n<title>9</title>\n<path fill=\"#e58139\" stroke=\"#000000\" d=\"M443,-655.5C443,-655.5 328,-655.5 328,-655.5 322,-655.5 316,-649.5 316,-643.5 316,-643.5 316,-599.5 316,-599.5 316,-593.5 322,-587.5 328,-587.5 328,-587.5 443,-587.5 443,-587.5 449,-587.5 455,-593.5 455,-599.5 455,-599.5 455,-643.5 455,-643.5 455,-649.5 449,-655.5 443,-655.5\"/>\n<text text-anchor=\"middle\" x=\"385.5\" y=\"-640.3\" font-family=\"Helvetica,sans-Serif\" font-size=\"14.00\" fill=\"#000000\">gini = 0.0</text>\n<text text-anchor=\"middle\" x=\"385.5\" y=\"-625.3\" font-family=\"Helvetica,sans-Serif\" font-size=\"14.00\" fill=\"#000000\">samples = 27</text>\n<text text-anchor=\"middle\" x=\"385.5\" y=\"-610.3\" font-family=\"Helvetica,sans-Serif\" font-size=\"14.00\" fill=\"#000000\">value = [27, 0, 0, 0]</text>\n<text text-anchor=\"middle\" x=\"385.5\" y=\"-595.3\" font-family=\"Helvetica,sans-Serif\" font-size=\"14.00\" fill=\"#000000\">class = I</text>\n</g>\n<!-- 8&#45;&gt;9 -->\n<g id=\"edge9\" class=\"edge\">\n<title>8&#45;&gt;9</title>\n<path fill=\"none\" stroke=\"#000000\" d=\"M490.19,-698.8796C473.8968,-686.8368 456.1461,-673.7167 439.9675,-661.7586\"/>\n<polygon fill=\"#000000\" stroke=\"#000000\" points=\"441.7886,-658.7524 431.6665,-655.623 437.6279,-664.3816 441.7886,-658.7524\"/>\n</g>\n<!-- 10 -->\n<g id=\"node11\" class=\"node\">\n<title>10</title>\n<path fill=\"#95f08d\" stroke=\"#000000\" d=\"M608,-663C608,-663 485,-663 485,-663 479,-663 473,-657 473,-651 473,-651 473,-592 473,-592 473,-586 479,-580 485,-580 485,-580 608,-580 608,-580 614,-580 620,-586 620,-592 620,-592 620,-651 620,-651 620,-657 614,-663 608,-663\"/>\n<text text-anchor=\"middle\" x=\"546.5\" y=\"-647.8\" font-family=\"Helvetica,sans-Serif\" font-size=\"14.00\" fill=\"#000000\">lug_boot &lt;= 0.5</text>\n<text text-anchor=\"middle\" x=\"546.5\" y=\"-632.8\" font-family=\"Helvetica,sans-Serif\" font-size=\"14.00\" fill=\"#000000\">gini = 0.418</text>\n<text text-anchor=\"middle\" x=\"546.5\" y=\"-617.8\" font-family=\"Helvetica,sans-Serif\" font-size=\"14.00\" fill=\"#000000\">samples = 37</text>\n<text text-anchor=\"middle\" x=\"546.5\" y=\"-602.8\" font-family=\"Helvetica,sans-Serif\" font-size=\"14.00\" fill=\"#000000\">value = [11, 26, 0, 0]</text>\n<text text-anchor=\"middle\" x=\"546.5\" y=\"-587.8\" font-family=\"Helvetica,sans-Serif\" font-size=\"14.00\" fill=\"#000000\">class = n</text>\n</g>\n<!-- 8&#45;&gt;10 -->\n<g id=\"edge10\" class=\"edge\">\n<title>8&#45;&gt;10</title>\n<path fill=\"none\" stroke=\"#000000\" d=\"M546.5,-698.8796C546.5,-690.6838 546.5,-681.9891 546.5,-673.5013\"/>\n<polygon fill=\"#000000\" stroke=\"#000000\" points=\"550.0001,-673.298 546.5,-663.2981 543.0001,-673.2981 550.0001,-673.298\"/>\n</g>\n<!-- 11 -->\n<g id=\"node12\" class=\"node\">\n<title>11</title>\n<path fill=\"#f3c7a7\" stroke=\"#000000\" d=\"M379,-544C379,-544 272,-544 272,-544 266,-544 260,-538 260,-532 260,-532 260,-473 260,-473 260,-467 266,-461 272,-461 272,-461 379,-461 379,-461 385,-461 391,-467 391,-473 391,-473 391,-532 391,-532 391,-538 385,-544 379,-544\"/>\n<text text-anchor=\"middle\" x=\"325.5\" y=\"-528.8\" font-family=\"Helvetica,sans-Serif\" font-size=\"14.00\" fill=\"#000000\">safety &lt;= 1.5</text>\n<text text-anchor=\"middle\" x=\"325.5\" y=\"-513.8\" font-family=\"Helvetica,sans-Serif\" font-size=\"14.00\" fill=\"#000000\">gini = 0.459</text>\n<text text-anchor=\"middle\" x=\"325.5\" y=\"-498.8\" font-family=\"Helvetica,sans-Serif\" font-size=\"14.00\" fill=\"#000000\">samples = 14</text>\n<text text-anchor=\"middle\" x=\"325.5\" y=\"-483.8\" font-family=\"Helvetica,sans-Serif\" font-size=\"14.00\" fill=\"#000000\">value = [9, 5, 0, 0]</text>\n<text text-anchor=\"middle\" x=\"325.5\" y=\"-468.8\" font-family=\"Helvetica,sans-Serif\" font-size=\"14.00\" fill=\"#000000\">class = I</text>\n</g>\n<!-- 10&#45;&gt;11 -->\n<g id=\"edge11\" class=\"edge\">\n<title>10&#45;&gt;11</title>\n<path fill=\"none\" stroke=\"#000000\" d=\"M472.9102,-581.8747C449.5287,-569.2847 423.6562,-555.3534 400.1974,-542.7217\"/>\n<polygon fill=\"#000000\" stroke=\"#000000\" points=\"401.7991,-539.609 391.335,-537.9496 398.4804,-545.7723 401.7991,-539.609\"/>\n</g>\n<!-- 18 -->\n<g id=\"node19\" class=\"node\">\n<title>18</title>\n<path fill=\"#59e74c\" stroke=\"#000000\" d=\"M604,-544C604,-544 489,-544 489,-544 483,-544 477,-538 477,-532 477,-532 477,-473 477,-473 477,-467 483,-461 489,-461 489,-461 604,-461 604,-461 610,-461 616,-467 616,-473 616,-473 616,-532 616,-532 616,-538 610,-544 604,-544\"/>\n<text text-anchor=\"middle\" x=\"546.5\" y=\"-528.8\" font-family=\"Helvetica,sans-Serif\" font-size=\"14.00\" fill=\"#000000\">doors &lt;= 1.5</text>\n<text text-anchor=\"middle\" x=\"546.5\" y=\"-513.8\" font-family=\"Helvetica,sans-Serif\" font-size=\"14.00\" fill=\"#000000\">gini = 0.159</text>\n<text text-anchor=\"middle\" x=\"546.5\" y=\"-498.8\" font-family=\"Helvetica,sans-Serif\" font-size=\"14.00\" fill=\"#000000\">samples = 23</text>\n<text text-anchor=\"middle\" x=\"546.5\" y=\"-483.8\" font-family=\"Helvetica,sans-Serif\" font-size=\"14.00\" fill=\"#000000\">value = [2, 21, 0, 0]</text>\n<text text-anchor=\"middle\" x=\"546.5\" y=\"-468.8\" font-family=\"Helvetica,sans-Serif\" font-size=\"14.00\" fill=\"#000000\">class = n</text>\n</g>\n<!-- 10&#45;&gt;18 -->\n<g id=\"edge18\" class=\"edge\">\n<title>10&#45;&gt;18</title>\n<path fill=\"none\" stroke=\"#000000\" d=\"M546.5,-579.8796C546.5,-571.6838 546.5,-562.9891 546.5,-554.5013\"/>\n<polygon fill=\"#000000\" stroke=\"#000000\" points=\"550.0001,-554.298 546.5,-544.2981 543.0001,-554.2981 550.0001,-554.298\"/>\n</g>\n<!-- 12 -->\n<g id=\"node13\" class=\"node\">\n<title>12</title>\n<path fill=\"#e58139\" stroke=\"#000000\" d=\"M230,-417.5C230,-417.5 123,-417.5 123,-417.5 117,-417.5 111,-411.5 111,-405.5 111,-405.5 111,-361.5 111,-361.5 111,-355.5 117,-349.5 123,-349.5 123,-349.5 230,-349.5 230,-349.5 236,-349.5 242,-355.5 242,-361.5 242,-361.5 242,-405.5 242,-405.5 242,-411.5 236,-417.5 230,-417.5\"/>\n<text text-anchor=\"middle\" x=\"176.5\" y=\"-402.3\" font-family=\"Helvetica,sans-Serif\" font-size=\"14.00\" fill=\"#000000\">gini = 0.0</text>\n<text text-anchor=\"middle\" x=\"176.5\" y=\"-387.3\" font-family=\"Helvetica,sans-Serif\" font-size=\"14.00\" fill=\"#000000\">samples = 8</text>\n<text text-anchor=\"middle\" x=\"176.5\" y=\"-372.3\" font-family=\"Helvetica,sans-Serif\" font-size=\"14.00\" fill=\"#000000\">value = [8, 0, 0, 0]</text>\n<text text-anchor=\"middle\" x=\"176.5\" y=\"-357.3\" font-family=\"Helvetica,sans-Serif\" font-size=\"14.00\" fill=\"#000000\">class = I</text>\n</g>\n<!-- 11&#45;&gt;12 -->\n<g id=\"edge12\" class=\"edge\">\n<title>11&#45;&gt;12</title>\n<path fill=\"none\" stroke=\"#000000\" d=\"M273.387,-460.8796C258.5174,-449.0038 242.336,-436.0804 227.5317,-424.2568\"/>\n<polygon fill=\"#000000\" stroke=\"#000000\" points=\"229.4638,-421.3207 219.4658,-417.8149 225.0954,-426.7904 229.4638,-421.3207\"/>\n</g>\n<!-- 13 -->\n<g id=\"node14\" class=\"node\">\n<title>13</title>\n<path fill=\"#6cea61\" stroke=\"#000000\" d=\"M379,-425C379,-425 272,-425 272,-425 266,-425 260,-419 260,-413 260,-413 260,-354 260,-354 260,-348 266,-342 272,-342 272,-342 379,-342 379,-342 385,-342 391,-348 391,-354 391,-354 391,-413 391,-413 391,-419 385,-425 379,-425\"/>\n<text text-anchor=\"middle\" x=\"325.5\" y=\"-409.8\" font-family=\"Helvetica,sans-Serif\" font-size=\"14.00\" fill=\"#000000\">doors &lt;= 0.5</text>\n<text text-anchor=\"middle\" x=\"325.5\" y=\"-394.8\" font-family=\"Helvetica,sans-Serif\" font-size=\"14.00\" fill=\"#000000\">gini = 0.278</text>\n<text text-anchor=\"middle\" x=\"325.5\" y=\"-379.8\" font-family=\"Helvetica,sans-Serif\" font-size=\"14.00\" fill=\"#000000\">samples = 6</text>\n<text text-anchor=\"middle\" x=\"325.5\" y=\"-364.8\" font-family=\"Helvetica,sans-Serif\" font-size=\"14.00\" fill=\"#000000\">value = [1, 5, 0, 0]</text>\n<text text-anchor=\"middle\" x=\"325.5\" y=\"-349.8\" font-family=\"Helvetica,sans-Serif\" font-size=\"14.00\" fill=\"#000000\">class = n</text>\n</g>\n<!-- 11&#45;&gt;13 -->\n<g id=\"edge13\" class=\"edge\">\n<title>11&#45;&gt;13</title>\n<path fill=\"none\" stroke=\"#000000\" d=\"M325.5,-460.8796C325.5,-452.6838 325.5,-443.9891 325.5,-435.5013\"/>\n<polygon fill=\"#000000\" stroke=\"#000000\" points=\"329.0001,-435.298 325.5,-425.2981 322.0001,-435.2981 329.0001,-435.298\"/>\n</g>\n<!-- 14 -->\n<g id=\"node15\" class=\"node\">\n<title>14</title>\n<path fill=\"#ffffff\" stroke=\"#000000\" d=\"M230,-306C230,-306 123,-306 123,-306 117,-306 111,-300 111,-294 111,-294 111,-235 111,-235 111,-229 117,-223 123,-223 123,-223 230,-223 230,-223 236,-223 242,-229 242,-235 242,-235 242,-294 242,-294 242,-300 236,-306 230,-306\"/>\n<text text-anchor=\"middle\" x=\"176.5\" y=\"-290.8\" font-family=\"Helvetica,sans-Serif\" font-size=\"14.00\" fill=\"#000000\">persons &lt;= 1.5</text>\n<text text-anchor=\"middle\" x=\"176.5\" y=\"-275.8\" font-family=\"Helvetica,sans-Serif\" font-size=\"14.00\" fill=\"#000000\">gini = 0.5</text>\n<text text-anchor=\"middle\" x=\"176.5\" y=\"-260.8\" font-family=\"Helvetica,sans-Serif\" font-size=\"14.00\" fill=\"#000000\">samples = 2</text>\n<text text-anchor=\"middle\" x=\"176.5\" y=\"-245.8\" font-family=\"Helvetica,sans-Serif\" font-size=\"14.00\" fill=\"#000000\">value = [1, 1, 0, 0]</text>\n<text text-anchor=\"middle\" x=\"176.5\" y=\"-230.8\" font-family=\"Helvetica,sans-Serif\" font-size=\"14.00\" fill=\"#000000\">class = I</text>\n</g>\n<!-- 13&#45;&gt;14 -->\n<g id=\"edge14\" class=\"edge\">\n<title>13&#45;&gt;14</title>\n<path fill=\"none\" stroke=\"#000000\" d=\"M273.387,-341.8796C261.4775,-332.368 248.7266,-322.1843 236.5156,-312.432\"/>\n<polygon fill=\"#000000\" stroke=\"#000000\" points=\"238.5816,-309.6027 228.5835,-306.0969 234.2132,-315.0724 238.5816,-309.6027\"/>\n</g>\n<!-- 17 -->\n<g id=\"node18\" class=\"node\">\n<title>17</title>\n<path fill=\"#47e539\" stroke=\"#000000\" d=\"M379,-298.5C379,-298.5 272,-298.5 272,-298.5 266,-298.5 260,-292.5 260,-286.5 260,-286.5 260,-242.5 260,-242.5 260,-236.5 266,-230.5 272,-230.5 272,-230.5 379,-230.5 379,-230.5 385,-230.5 391,-236.5 391,-242.5 391,-242.5 391,-286.5 391,-286.5 391,-292.5 385,-298.5 379,-298.5\"/>\n<text text-anchor=\"middle\" x=\"325.5\" y=\"-283.3\" font-family=\"Helvetica,sans-Serif\" font-size=\"14.00\" fill=\"#000000\">gini = 0.0</text>\n<text text-anchor=\"middle\" x=\"325.5\" y=\"-268.3\" font-family=\"Helvetica,sans-Serif\" font-size=\"14.00\" fill=\"#000000\">samples = 4</text>\n<text text-anchor=\"middle\" x=\"325.5\" y=\"-253.3\" font-family=\"Helvetica,sans-Serif\" font-size=\"14.00\" fill=\"#000000\">value = [0, 4, 0, 0]</text>\n<text text-anchor=\"middle\" x=\"325.5\" y=\"-238.3\" font-family=\"Helvetica,sans-Serif\" font-size=\"14.00\" fill=\"#000000\">class = n</text>\n</g>\n<!-- 13&#45;&gt;17 -->\n<g id=\"edge17\" class=\"edge\">\n<title>13&#45;&gt;17</title>\n<path fill=\"none\" stroke=\"#000000\" d=\"M325.5,-341.8796C325.5,-331.2134 325.5,-319.7021 325.5,-308.9015\"/>\n<polygon fill=\"#000000\" stroke=\"#000000\" points=\"329.0001,-308.8149 325.5,-298.8149 322.0001,-308.815 329.0001,-308.8149\"/>\n</g>\n<!-- 15 -->\n<g id=\"node16\" class=\"node\">\n<title>15</title>\n<path fill=\"#47e539\" stroke=\"#000000\" d=\"M119,-179.5C119,-179.5 12,-179.5 12,-179.5 6,-179.5 0,-173.5 0,-167.5 0,-167.5 0,-123.5 0,-123.5 0,-117.5 6,-111.5 12,-111.5 12,-111.5 119,-111.5 119,-111.5 125,-111.5 131,-117.5 131,-123.5 131,-123.5 131,-167.5 131,-167.5 131,-173.5 125,-179.5 119,-179.5\"/>\n<text text-anchor=\"middle\" x=\"65.5\" y=\"-164.3\" font-family=\"Helvetica,sans-Serif\" font-size=\"14.00\" fill=\"#000000\">gini = 0.0</text>\n<text text-anchor=\"middle\" x=\"65.5\" y=\"-149.3\" font-family=\"Helvetica,sans-Serif\" font-size=\"14.00\" fill=\"#000000\">samples = 1</text>\n<text text-anchor=\"middle\" x=\"65.5\" y=\"-134.3\" font-family=\"Helvetica,sans-Serif\" font-size=\"14.00\" fill=\"#000000\">value = [0, 1, 0, 0]</text>\n<text text-anchor=\"middle\" x=\"65.5\" y=\"-119.3\" font-family=\"Helvetica,sans-Serif\" font-size=\"14.00\" fill=\"#000000\">class = n</text>\n</g>\n<!-- 14&#45;&gt;15 -->\n<g id=\"edge15\" class=\"edge\">\n<title>14&#45;&gt;15</title>\n<path fill=\"none\" stroke=\"#000000\" d=\"M137.6776,-222.8796C126.9079,-211.3337 115.2146,-198.7976 104.4383,-187.2446\"/>\n<polygon fill=\"#000000\" stroke=\"#000000\" points=\"106.8885,-184.7402 97.508,-179.8149 101.7697,-189.5149 106.8885,-184.7402\"/>\n</g>\n<!-- 16 -->\n<g id=\"node17\" class=\"node\">\n<title>16</title>\n<path fill=\"#e58139\" stroke=\"#000000\" d=\"M268,-179.5C268,-179.5 161,-179.5 161,-179.5 155,-179.5 149,-173.5 149,-167.5 149,-167.5 149,-123.5 149,-123.5 149,-117.5 155,-111.5 161,-111.5 161,-111.5 268,-111.5 268,-111.5 274,-111.5 280,-117.5 280,-123.5 280,-123.5 280,-167.5 280,-167.5 280,-173.5 274,-179.5 268,-179.5\"/>\n<text text-anchor=\"middle\" x=\"214.5\" y=\"-164.3\" font-family=\"Helvetica,sans-Serif\" font-size=\"14.00\" fill=\"#000000\">gini = 0.0</text>\n<text text-anchor=\"middle\" x=\"214.5\" y=\"-149.3\" font-family=\"Helvetica,sans-Serif\" font-size=\"14.00\" fill=\"#000000\">samples = 1</text>\n<text text-anchor=\"middle\" x=\"214.5\" y=\"-134.3\" font-family=\"Helvetica,sans-Serif\" font-size=\"14.00\" fill=\"#000000\">value = [1, 0, 0, 0]</text>\n<text text-anchor=\"middle\" x=\"214.5\" y=\"-119.3\" font-family=\"Helvetica,sans-Serif\" font-size=\"14.00\" fill=\"#000000\">class = I</text>\n</g>\n<!-- 14&#45;&gt;16 -->\n<g id=\"edge16\" class=\"edge\">\n<title>14&#45;&gt;16</title>\n<path fill=\"none\" stroke=\"#000000\" d=\"M189.7906,-222.8796C193.2317,-212.1034 196.9483,-200.4647 200.4279,-189.5677\"/>\n<polygon fill=\"#000000\" stroke=\"#000000\" points=\"203.8344,-190.4057 203.5423,-179.8149 197.1661,-188.2763 203.8344,-190.4057\"/>\n</g>\n<!-- 19 -->\n<g id=\"node20\" class=\"node\">\n<title>19</title>\n<path fill=\"#7cec72\" stroke=\"#000000\" d=\"M528,-425C528,-425 421,-425 421,-425 415,-425 409,-419 409,-413 409,-413 409,-354 409,-354 409,-348 415,-342 421,-342 421,-342 528,-342 528,-342 534,-342 540,-348 540,-354 540,-354 540,-413 540,-413 540,-419 534,-425 528,-425\"/>\n<text text-anchor=\"middle\" x=\"474.5\" y=\"-409.8\" font-family=\"Helvetica,sans-Serif\" font-size=\"14.00\" fill=\"#000000\">lug_boot &lt;= 1.5</text>\n<text text-anchor=\"middle\" x=\"474.5\" y=\"-394.8\" font-family=\"Helvetica,sans-Serif\" font-size=\"14.00\" fill=\"#000000\">gini = 0.346</text>\n<text text-anchor=\"middle\" x=\"474.5\" y=\"-379.8\" font-family=\"Helvetica,sans-Serif\" font-size=\"14.00\" fill=\"#000000\">samples = 9</text>\n<text text-anchor=\"middle\" x=\"474.5\" y=\"-364.8\" font-family=\"Helvetica,sans-Serif\" font-size=\"14.00\" fill=\"#000000\">value = [2, 7, 0, 0]</text>\n<text text-anchor=\"middle\" x=\"474.5\" y=\"-349.8\" font-family=\"Helvetica,sans-Serif\" font-size=\"14.00\" fill=\"#000000\">class = n</text>\n</g>\n<!-- 18&#45;&gt;19 -->\n<g id=\"edge19\" class=\"edge\">\n<title>18&#45;&gt;19</title>\n<path fill=\"none\" stroke=\"#000000\" d=\"M521.3179,-460.8796C516.0867,-452.2335 510.5195,-443.0322 505.1177,-434.1042\"/>\n<polygon fill=\"#000000\" stroke=\"#000000\" points=\"507.9608,-432.0421 499.7896,-425.2981 501.9717,-435.6658 507.9608,-432.0421\"/>\n</g>\n<!-- 26 -->\n<g id=\"node27\" class=\"node\">\n<title>26</title>\n<path fill=\"#47e539\" stroke=\"#000000\" d=\"M685,-417.5C685,-417.5 570,-417.5 570,-417.5 564,-417.5 558,-411.5 558,-405.5 558,-405.5 558,-361.5 558,-361.5 558,-355.5 564,-349.5 570,-349.5 570,-349.5 685,-349.5 685,-349.5 691,-349.5 697,-355.5 697,-361.5 697,-361.5 697,-405.5 697,-405.5 697,-411.5 691,-417.5 685,-417.5\"/>\n<text text-anchor=\"middle\" x=\"627.5\" y=\"-402.3\" font-family=\"Helvetica,sans-Serif\" font-size=\"14.00\" fill=\"#000000\">gini = 0.0</text>\n<text text-anchor=\"middle\" x=\"627.5\" y=\"-387.3\" font-family=\"Helvetica,sans-Serif\" font-size=\"14.00\" fill=\"#000000\">samples = 14</text>\n<text text-anchor=\"middle\" x=\"627.5\" y=\"-372.3\" font-family=\"Helvetica,sans-Serif\" font-size=\"14.00\" fill=\"#000000\">value = [0, 14, 0, 0]</text>\n<text text-anchor=\"middle\" x=\"627.5\" y=\"-357.3\" font-family=\"Helvetica,sans-Serif\" font-size=\"14.00\" fill=\"#000000\">class = n</text>\n</g>\n<!-- 18&#45;&gt;26 -->\n<g id=\"edge26\" class=\"edge\">\n<title>18&#45;&gt;26</title>\n<path fill=\"none\" stroke=\"#000000\" d=\"M574.8299,-460.8796C582.4643,-449.6636 590.7348,-437.5131 598.4099,-426.2372\"/>\n<polygon fill=\"#000000\" stroke=\"#000000\" points=\"601.4092,-428.0511 604.1428,-417.8149 595.6225,-424.1122 601.4092,-428.0511\"/>\n</g>\n<!-- 20 -->\n<g id=\"node21\" class=\"node\">\n<title>20</title>\n<path fill=\"#ffffff\" stroke=\"#000000\" d=\"M528,-306C528,-306 421,-306 421,-306 415,-306 409,-300 409,-294 409,-294 409,-235 409,-235 409,-229 415,-223 421,-223 421,-223 528,-223 528,-223 534,-223 540,-229 540,-235 540,-235 540,-294 540,-294 540,-300 534,-306 528,-306\"/>\n<text text-anchor=\"middle\" x=\"474.5\" y=\"-290.8\" font-family=\"Helvetica,sans-Serif\" font-size=\"14.00\" fill=\"#000000\">persons &lt;= 1.5</text>\n<text text-anchor=\"middle\" x=\"474.5\" y=\"-275.8\" font-family=\"Helvetica,sans-Serif\" font-size=\"14.00\" fill=\"#000000\">gini = 0.5</text>\n<text text-anchor=\"middle\" x=\"474.5\" y=\"-260.8\" font-family=\"Helvetica,sans-Serif\" font-size=\"14.00\" fill=\"#000000\">samples = 4</text>\n<text text-anchor=\"middle\" x=\"474.5\" y=\"-245.8\" font-family=\"Helvetica,sans-Serif\" font-size=\"14.00\" fill=\"#000000\">value = [2, 2, 0, 0]</text>\n<text text-anchor=\"middle\" x=\"474.5\" y=\"-230.8\" font-family=\"Helvetica,sans-Serif\" font-size=\"14.00\" fill=\"#000000\">class = I</text>\n</g>\n<!-- 19&#45;&gt;20 -->\n<g id=\"edge20\" class=\"edge\">\n<title>19&#45;&gt;20</title>\n<path fill=\"none\" stroke=\"#000000\" d=\"M474.5,-341.8796C474.5,-333.6838 474.5,-324.9891 474.5,-316.5013\"/>\n<polygon fill=\"#000000\" stroke=\"#000000\" points=\"478.0001,-316.298 474.5,-306.2981 471.0001,-316.2981 478.0001,-316.298\"/>\n</g>\n<!-- 25 -->\n<g id=\"node26\" class=\"node\">\n<title>25</title>\n<path fill=\"#47e539\" stroke=\"#000000\" d=\"M677,-298.5C677,-298.5 570,-298.5 570,-298.5 564,-298.5 558,-292.5 558,-286.5 558,-286.5 558,-242.5 558,-242.5 558,-236.5 564,-230.5 570,-230.5 570,-230.5 677,-230.5 677,-230.5 683,-230.5 689,-236.5 689,-242.5 689,-242.5 689,-286.5 689,-286.5 689,-292.5 683,-298.5 677,-298.5\"/>\n<text text-anchor=\"middle\" x=\"623.5\" y=\"-283.3\" font-family=\"Helvetica,sans-Serif\" font-size=\"14.00\" fill=\"#000000\">gini = 0.0</text>\n<text text-anchor=\"middle\" x=\"623.5\" y=\"-268.3\" font-family=\"Helvetica,sans-Serif\" font-size=\"14.00\" fill=\"#000000\">samples = 5</text>\n<text text-anchor=\"middle\" x=\"623.5\" y=\"-253.3\" font-family=\"Helvetica,sans-Serif\" font-size=\"14.00\" fill=\"#000000\">value = [0, 5, 0, 0]</text>\n<text text-anchor=\"middle\" x=\"623.5\" y=\"-238.3\" font-family=\"Helvetica,sans-Serif\" font-size=\"14.00\" fill=\"#000000\">class = n</text>\n</g>\n<!-- 19&#45;&gt;25 -->\n<g id=\"edge25\" class=\"edge\">\n<title>19&#45;&gt;25</title>\n<path fill=\"none\" stroke=\"#000000\" d=\"M526.613,-341.8796C541.4826,-330.0038 557.664,-317.0804 572.4683,-305.2568\"/>\n<polygon fill=\"#000000\" stroke=\"#000000\" points=\"574.9046,-307.7904 580.5342,-298.8149 570.5362,-302.3207 574.9046,-307.7904\"/>\n</g>\n<!-- 21 -->\n<g id=\"node22\" class=\"node\">\n<title>21</title>\n<path fill=\"#e58139\" stroke=\"#000000\" d=\"M491,-179.5C491,-179.5 384,-179.5 384,-179.5 378,-179.5 372,-173.5 372,-167.5 372,-167.5 372,-123.5 372,-123.5 372,-117.5 378,-111.5 384,-111.5 384,-111.5 491,-111.5 491,-111.5 497,-111.5 503,-117.5 503,-123.5 503,-123.5 503,-167.5 503,-167.5 503,-173.5 497,-179.5 491,-179.5\"/>\n<text text-anchor=\"middle\" x=\"437.5\" y=\"-164.3\" font-family=\"Helvetica,sans-Serif\" font-size=\"14.00\" fill=\"#000000\">gini = 0.0</text>\n<text text-anchor=\"middle\" x=\"437.5\" y=\"-149.3\" font-family=\"Helvetica,sans-Serif\" font-size=\"14.00\" fill=\"#000000\">samples = 1</text>\n<text text-anchor=\"middle\" x=\"437.5\" y=\"-134.3\" font-family=\"Helvetica,sans-Serif\" font-size=\"14.00\" fill=\"#000000\">value = [1, 0, 0, 0]</text>\n<text text-anchor=\"middle\" x=\"437.5\" y=\"-119.3\" font-family=\"Helvetica,sans-Serif\" font-size=\"14.00\" fill=\"#000000\">class = I</text>\n</g>\n<!-- 20&#45;&gt;21 -->\n<g id=\"edge21\" class=\"edge\">\n<title>20&#45;&gt;21</title>\n<path fill=\"none\" stroke=\"#000000\" d=\"M461.5592,-222.8796C458.2086,-212.1034 454.5899,-200.4647 451.2017,-189.5677\"/>\n<polygon fill=\"#000000\" stroke=\"#000000\" points=\"454.4806,-188.3248 448.1693,-179.8149 447.7963,-190.4032 454.4806,-188.3248\"/>\n</g>\n<!-- 22 -->\n<g id=\"node23\" class=\"node\">\n<title>22</title>\n<path fill=\"#a3f29c\" stroke=\"#000000\" d=\"M640,-187C640,-187 533,-187 533,-187 527,-187 521,-181 521,-175 521,-175 521,-116 521,-116 521,-110 527,-104 533,-104 533,-104 640,-104 640,-104 646,-104 652,-110 652,-116 652,-116 652,-175 652,-175 652,-181 646,-187 640,-187\"/>\n<text text-anchor=\"middle\" x=\"586.5\" y=\"-171.8\" font-family=\"Helvetica,sans-Serif\" font-size=\"14.00\" fill=\"#000000\">doors &lt;= 0.5</text>\n<text text-anchor=\"middle\" x=\"586.5\" y=\"-156.8\" font-family=\"Helvetica,sans-Serif\" font-size=\"14.00\" fill=\"#000000\">gini = 0.444</text>\n<text text-anchor=\"middle\" x=\"586.5\" y=\"-141.8\" font-family=\"Helvetica,sans-Serif\" font-size=\"14.00\" fill=\"#000000\">samples = 3</text>\n<text text-anchor=\"middle\" x=\"586.5\" y=\"-126.8\" font-family=\"Helvetica,sans-Serif\" font-size=\"14.00\" fill=\"#000000\">value = [1, 2, 0, 0]</text>\n<text text-anchor=\"middle\" x=\"586.5\" y=\"-111.8\" font-family=\"Helvetica,sans-Serif\" font-size=\"14.00\" fill=\"#000000\">class = n</text>\n</g>\n<!-- 20&#45;&gt;22 -->\n<g id=\"edge22\" class=\"edge\">\n<title>20&#45;&gt;22</title>\n<path fill=\"none\" stroke=\"#000000\" d=\"M513.6722,-222.8796C522.2335,-213.7832 531.3732,-204.0722 540.1832,-194.7116\"/>\n<polygon fill=\"#000000\" stroke=\"#000000\" points=\"542.8557,-196.9789 547.1606,-187.2981 537.7583,-192.1813 542.8557,-196.9789\"/>\n</g>\n<!-- 23 -->\n<g id=\"node24\" class=\"node\">\n<title>23</title>\n<path fill=\"#e58139\" stroke=\"#000000\" d=\"M566,-68C566,-68 459,-68 459,-68 453,-68 447,-62 447,-56 447,-56 447,-12 447,-12 447,-6 453,0 459,0 459,0 566,0 566,0 572,0 578,-6 578,-12 578,-12 578,-56 578,-56 578,-62 572,-68 566,-68\"/>\n<text text-anchor=\"middle\" x=\"512.5\" y=\"-52.8\" font-family=\"Helvetica,sans-Serif\" font-size=\"14.00\" fill=\"#000000\">gini = 0.0</text>\n<text text-anchor=\"middle\" x=\"512.5\" y=\"-37.8\" font-family=\"Helvetica,sans-Serif\" font-size=\"14.00\" fill=\"#000000\">samples = 1</text>\n<text text-anchor=\"middle\" x=\"512.5\" y=\"-22.8\" font-family=\"Helvetica,sans-Serif\" font-size=\"14.00\" fill=\"#000000\">value = [1, 0, 0, 0]</text>\n<text text-anchor=\"middle\" x=\"512.5\" y=\"-7.8\" font-family=\"Helvetica,sans-Serif\" font-size=\"14.00\" fill=\"#000000\">class = I</text>\n</g>\n<!-- 22&#45;&gt;23 -->\n<g id=\"edge23\" class=\"edge\">\n<title>22&#45;&gt;23</title>\n<path fill=\"none\" stroke=\"#000000\" d=\"M558.9451,-103.9815C553.0285,-95.0666 546.7665,-85.6313 540.8213,-76.6734\"/>\n<polygon fill=\"#000000\" stroke=\"#000000\" points=\"543.686,-74.6602 535.24,-68.2637 537.8536,-78.5311 543.686,-74.6602\"/>\n</g>\n<!-- 24 -->\n<g id=\"node25\" class=\"node\">\n<title>24</title>\n<path fill=\"#47e539\" stroke=\"#000000\" d=\"M715,-68C715,-68 608,-68 608,-68 602,-68 596,-62 596,-56 596,-56 596,-12 596,-12 596,-6 602,0 608,0 608,0 715,0 715,0 721,0 727,-6 727,-12 727,-12 727,-56 727,-56 727,-62 721,-68 715,-68\"/>\n<text text-anchor=\"middle\" x=\"661.5\" y=\"-52.8\" font-family=\"Helvetica,sans-Serif\" font-size=\"14.00\" fill=\"#000000\">gini = 0.0</text>\n<text text-anchor=\"middle\" x=\"661.5\" y=\"-37.8\" font-family=\"Helvetica,sans-Serif\" font-size=\"14.00\" fill=\"#000000\">samples = 2</text>\n<text text-anchor=\"middle\" x=\"661.5\" y=\"-22.8\" font-family=\"Helvetica,sans-Serif\" font-size=\"14.00\" fill=\"#000000\">value = [0, 2, 0, 0]</text>\n<text text-anchor=\"middle\" x=\"661.5\" y=\"-7.8\" font-family=\"Helvetica,sans-Serif\" font-size=\"14.00\" fill=\"#000000\">class = n</text>\n</g>\n<!-- 22&#45;&gt;24 -->\n<g id=\"edge24\" class=\"edge\">\n<title>22&#45;&gt;24</title>\n<path fill=\"none\" stroke=\"#000000\" d=\"M614.4272,-103.9815C620.4238,-95.0666 626.7704,-85.6313 632.7959,-76.6734\"/>\n<polygon fill=\"#000000\" stroke=\"#000000\" points=\"635.7755,-78.5147 638.4527,-68.2637 629.9672,-74.6078 635.7755,-78.5147\"/>\n</g>\n<!-- 28 -->\n<g id=\"node29\" class=\"node\">\n<title>28</title>\n<path fill=\"#fae5d6\" stroke=\"#000000\" d=\"M993,-782C993,-782 870,-782 870,-782 864,-782 858,-776 858,-770 858,-770 858,-711 858,-711 858,-705 864,-699 870,-699 870,-699 993,-699 993,-699 999,-699 1005,-705 1005,-711 1005,-711 1005,-770 1005,-770 1005,-776 999,-782 993,-782\"/>\n<text text-anchor=\"middle\" x=\"931.5\" y=\"-766.8\" font-family=\"Helvetica,sans-Serif\" font-size=\"14.00\" fill=\"#000000\">safety &lt;= 1.5</text>\n<text text-anchor=\"middle\" x=\"931.5\" y=\"-751.8\" font-family=\"Helvetica,sans-Serif\" font-size=\"14.00\" fill=\"#000000\">gini = 0.493</text>\n<text text-anchor=\"middle\" x=\"931.5\" y=\"-736.8\" font-family=\"Helvetica,sans-Serif\" font-size=\"14.00\" fill=\"#000000\">samples = 43</text>\n<text text-anchor=\"middle\" x=\"931.5\" y=\"-721.8\" font-family=\"Helvetica,sans-Serif\" font-size=\"14.00\" fill=\"#000000\">value = [24, 19, 0, 0]</text>\n<text text-anchor=\"middle\" x=\"931.5\" y=\"-706.8\" font-family=\"Helvetica,sans-Serif\" font-size=\"14.00\" fill=\"#000000\">class = I</text>\n</g>\n<!-- 27&#45;&gt;28 -->\n<g id=\"edge28\" class=\"edge\">\n<title>27&#45;&gt;28</title>\n<path fill=\"none\" stroke=\"#000000\" d=\"M984.1701,-817.8796C978.2237,-809.1434 971.8914,-799.8404 965.755,-790.8253\"/>\n<polygon fill=\"#000000\" stroke=\"#000000\" points=\"968.4711,-788.5953 959.9508,-782.2981 962.6844,-792.5342 968.4711,-788.5953\"/>\n</g>\n<!-- 35 -->\n<g id=\"node36\" class=\"node\">\n<title>35</title>\n<path fill=\"#59e84c\" stroke=\"#000000\" d=\"M1150,-782C1150,-782 1035,-782 1035,-782 1029,-782 1023,-776 1023,-770 1023,-770 1023,-711 1023,-711 1023,-705 1029,-699 1035,-699 1035,-699 1150,-699 1150,-699 1156,-699 1162,-705 1162,-711 1162,-711 1162,-770 1162,-770 1162,-776 1156,-782 1150,-782\"/>\n<text text-anchor=\"middle\" x=\"1092.5\" y=\"-766.8\" font-family=\"Helvetica,sans-Serif\" font-size=\"14.00\" fill=\"#000000\">safety &lt;= 1.5</text>\n<text text-anchor=\"middle\" x=\"1092.5\" y=\"-751.8\" font-family=\"Helvetica,sans-Serif\" font-size=\"14.00\" fill=\"#000000\">gini = 0.161</text>\n<text text-anchor=\"middle\" x=\"1092.5\" y=\"-736.8\" font-family=\"Helvetica,sans-Serif\" font-size=\"14.00\" fill=\"#000000\">samples = 102</text>\n<text text-anchor=\"middle\" x=\"1092.5\" y=\"-721.8\" font-family=\"Helvetica,sans-Serif\" font-size=\"14.00\" fill=\"#000000\">value = [9, 93, 0, 0]</text>\n<text text-anchor=\"middle\" x=\"1092.5\" y=\"-706.8\" font-family=\"Helvetica,sans-Serif\" font-size=\"14.00\" fill=\"#000000\">class = n</text>\n</g>\n<!-- 27&#45;&gt;35 -->\n<g id=\"edge35\" class=\"edge\">\n<title>27&#45;&gt;35</title>\n<path fill=\"none\" stroke=\"#000000\" d=\"M1040.4801,-817.8796C1046.3531,-809.1434 1052.6073,-799.8404 1058.6679,-790.8253\"/>\n<polygon fill=\"#000000\" stroke=\"#000000\" points=\"1061.7259,-792.5498 1064.4005,-782.2981 1055.9166,-788.6444 1061.7259,-792.5498\"/>\n</g>\n<!-- 29 -->\n<g id=\"node30\" class=\"node\">\n<title>29</title>\n<path fill=\"#e58139\" stroke=\"#000000\" d=\"M833,-655.5C833,-655.5 718,-655.5 718,-655.5 712,-655.5 706,-649.5 706,-643.5 706,-643.5 706,-599.5 706,-599.5 706,-593.5 712,-587.5 718,-587.5 718,-587.5 833,-587.5 833,-587.5 839,-587.5 845,-593.5 845,-599.5 845,-599.5 845,-643.5 845,-643.5 845,-649.5 839,-655.5 833,-655.5\"/>\n<text text-anchor=\"middle\" x=\"775.5\" y=\"-640.3\" font-family=\"Helvetica,sans-Serif\" font-size=\"14.00\" fill=\"#000000\">gini = 0.0</text>\n<text text-anchor=\"middle\" x=\"775.5\" y=\"-625.3\" font-family=\"Helvetica,sans-Serif\" font-size=\"14.00\" fill=\"#000000\">samples = 21</text>\n<text text-anchor=\"middle\" x=\"775.5\" y=\"-610.3\" font-family=\"Helvetica,sans-Serif\" font-size=\"14.00\" fill=\"#000000\">value = [21, 0, 0, 0]</text>\n<text text-anchor=\"middle\" x=\"775.5\" y=\"-595.3\" font-family=\"Helvetica,sans-Serif\" font-size=\"14.00\" fill=\"#000000\">class = I</text>\n</g>\n<!-- 28&#45;&gt;29 -->\n<g id=\"edge29\" class=\"edge\">\n<title>28&#45;&gt;29</title>\n<path fill=\"none\" stroke=\"#000000\" d=\"M876.9388,-698.8796C861.1516,-686.8368 843.9521,-673.7167 828.2759,-661.7586\"/>\n<polygon fill=\"#000000\" stroke=\"#000000\" points=\"830.3063,-658.9053 820.2327,-655.623 826.0608,-664.4709 830.3063,-658.9053\"/>\n</g>\n<!-- 30 -->\n<g id=\"node31\" class=\"node\">\n<title>30</title>\n<path fill=\"#64e958\" stroke=\"#000000\" d=\"M990,-663C990,-663 875,-663 875,-663 869,-663 863,-657 863,-651 863,-651 863,-592 863,-592 863,-586 869,-580 875,-580 875,-580 990,-580 990,-580 996,-580 1002,-586 1002,-592 1002,-592 1002,-651 1002,-651 1002,-657 996,-663 990,-663\"/>\n<text text-anchor=\"middle\" x=\"932.5\" y=\"-647.8\" font-family=\"Helvetica,sans-Serif\" font-size=\"14.00\" fill=\"#000000\">doors &lt;= 0.5</text>\n<text text-anchor=\"middle\" x=\"932.5\" y=\"-632.8\" font-family=\"Helvetica,sans-Serif\" font-size=\"14.00\" fill=\"#000000\">gini = 0.236</text>\n<text text-anchor=\"middle\" x=\"932.5\" y=\"-617.8\" font-family=\"Helvetica,sans-Serif\" font-size=\"14.00\" fill=\"#000000\">samples = 22</text>\n<text text-anchor=\"middle\" x=\"932.5\" y=\"-602.8\" font-family=\"Helvetica,sans-Serif\" font-size=\"14.00\" fill=\"#000000\">value = [3, 19, 0, 0]</text>\n<text text-anchor=\"middle\" x=\"932.5\" y=\"-587.8\" font-family=\"Helvetica,sans-Serif\" font-size=\"14.00\" fill=\"#000000\">class = n</text>\n</g>\n<!-- 28&#45;&gt;30 -->\n<g id=\"edge30\" class=\"edge\">\n<title>28&#45;&gt;30</title>\n<path fill=\"none\" stroke=\"#000000\" d=\"M931.8498,-698.8796C931.9186,-690.6838 931.9917,-681.9891 932.063,-673.5013\"/>\n<polygon fill=\"#000000\" stroke=\"#000000\" points=\"935.5645,-673.3272 932.1488,-663.2981 928.5648,-673.2683 935.5645,-673.3272\"/>\n</g>\n<!-- 31 -->\n<g id=\"node32\" class=\"node\">\n<title>31</title>\n<path fill=\"#ffffff\" stroke=\"#000000\" d=\"M834,-544C834,-544 727,-544 727,-544 721,-544 715,-538 715,-532 715,-532 715,-473 715,-473 715,-467 721,-461 727,-461 727,-461 834,-461 834,-461 840,-461 846,-467 846,-473 846,-473 846,-532 846,-532 846,-538 840,-544 834,-544\"/>\n<text text-anchor=\"middle\" x=\"780.5\" y=\"-528.8\" font-family=\"Helvetica,sans-Serif\" font-size=\"14.00\" fill=\"#000000\">persons &lt;= 1.5</text>\n<text text-anchor=\"middle\" x=\"780.5\" y=\"-513.8\" font-family=\"Helvetica,sans-Serif\" font-size=\"14.00\" fill=\"#000000\">gini = 0.5</text>\n<text text-anchor=\"middle\" x=\"780.5\" y=\"-498.8\" font-family=\"Helvetica,sans-Serif\" font-size=\"14.00\" fill=\"#000000\">samples = 6</text>\n<text text-anchor=\"middle\" x=\"780.5\" y=\"-483.8\" font-family=\"Helvetica,sans-Serif\" font-size=\"14.00\" fill=\"#000000\">value = [3, 3, 0, 0]</text>\n<text text-anchor=\"middle\" x=\"780.5\" y=\"-468.8\" font-family=\"Helvetica,sans-Serif\" font-size=\"14.00\" fill=\"#000000\">class = I</text>\n</g>\n<!-- 30&#45;&gt;31 -->\n<g id=\"edge31\" class=\"edge\">\n<title>30&#45;&gt;31</title>\n<path fill=\"none\" stroke=\"#000000\" d=\"M879.3378,-579.8796C867.1885,-570.368 854.1808,-560.1843 841.724,-550.432\"/>\n<polygon fill=\"#000000\" stroke=\"#000000\" points=\"843.6638,-547.5055 833.6322,-544.0969 839.3486,-553.0173 843.6638,-547.5055\"/>\n</g>\n<!-- 34 -->\n<g id=\"node35\" class=\"node\">\n<title>34</title>\n<path fill=\"#47e539\" stroke=\"#000000\" d=\"M991,-536.5C991,-536.5 876,-536.5 876,-536.5 870,-536.5 864,-530.5 864,-524.5 864,-524.5 864,-480.5 864,-480.5 864,-474.5 870,-468.5 876,-468.5 876,-468.5 991,-468.5 991,-468.5 997,-468.5 1003,-474.5 1003,-480.5 1003,-480.5 1003,-524.5 1003,-524.5 1003,-530.5 997,-536.5 991,-536.5\"/>\n<text text-anchor=\"middle\" x=\"933.5\" y=\"-521.3\" font-family=\"Helvetica,sans-Serif\" font-size=\"14.00\" fill=\"#000000\">gini = 0.0</text>\n<text text-anchor=\"middle\" x=\"933.5\" y=\"-506.3\" font-family=\"Helvetica,sans-Serif\" font-size=\"14.00\" fill=\"#000000\">samples = 16</text>\n<text text-anchor=\"middle\" x=\"933.5\" y=\"-491.3\" font-family=\"Helvetica,sans-Serif\" font-size=\"14.00\" fill=\"#000000\">value = [0, 16, 0, 0]</text>\n<text text-anchor=\"middle\" x=\"933.5\" y=\"-476.3\" font-family=\"Helvetica,sans-Serif\" font-size=\"14.00\" fill=\"#000000\">class = n</text>\n</g>\n<!-- 30&#45;&gt;34 -->\n<g id=\"edge34\" class=\"edge\">\n<title>30&#45;&gt;34</title>\n<path fill=\"none\" stroke=\"#000000\" d=\"M932.8498,-579.8796C932.9394,-569.2134 933.0361,-557.7021 933.1269,-546.9015\"/>\n<polygon fill=\"#000000\" stroke=\"#000000\" points=\"936.6274,-546.844 933.2116,-536.8149 929.6276,-546.7851 936.6274,-546.844\"/>\n</g>\n<!-- 32 -->\n<g id=\"node33\" class=\"node\">\n<title>32</title>\n<path fill=\"#47e539\" stroke=\"#000000\" d=\"M834,-417.5C834,-417.5 727,-417.5 727,-417.5 721,-417.5 715,-411.5 715,-405.5 715,-405.5 715,-361.5 715,-361.5 715,-355.5 721,-349.5 727,-349.5 727,-349.5 834,-349.5 834,-349.5 840,-349.5 846,-355.5 846,-361.5 846,-361.5 846,-405.5 846,-405.5 846,-411.5 840,-417.5 834,-417.5\"/>\n<text text-anchor=\"middle\" x=\"780.5\" y=\"-402.3\" font-family=\"Helvetica,sans-Serif\" font-size=\"14.00\" fill=\"#000000\">gini = 0.0</text>\n<text text-anchor=\"middle\" x=\"780.5\" y=\"-387.3\" font-family=\"Helvetica,sans-Serif\" font-size=\"14.00\" fill=\"#000000\">samples = 3</text>\n<text text-anchor=\"middle\" x=\"780.5\" y=\"-372.3\" font-family=\"Helvetica,sans-Serif\" font-size=\"14.00\" fill=\"#000000\">value = [0, 3, 0, 0]</text>\n<text text-anchor=\"middle\" x=\"780.5\" y=\"-357.3\" font-family=\"Helvetica,sans-Serif\" font-size=\"14.00\" fill=\"#000000\">class = n</text>\n</g>\n<!-- 31&#45;&gt;32 -->\n<g id=\"edge32\" class=\"edge\">\n<title>31&#45;&gt;32</title>\n<path fill=\"none\" stroke=\"#000000\" d=\"M780.5,-460.8796C780.5,-450.2134 780.5,-438.7021 780.5,-427.9015\"/>\n<polygon fill=\"#000000\" stroke=\"#000000\" points=\"784.0001,-427.8149 780.5,-417.8149 777.0001,-427.815 784.0001,-427.8149\"/>\n</g>\n<!-- 33 -->\n<g id=\"node34\" class=\"node\">\n<title>33</title>\n<path fill=\"#e58139\" stroke=\"#000000\" d=\"M983,-417.5C983,-417.5 876,-417.5 876,-417.5 870,-417.5 864,-411.5 864,-405.5 864,-405.5 864,-361.5 864,-361.5 864,-355.5 870,-349.5 876,-349.5 876,-349.5 983,-349.5 983,-349.5 989,-349.5 995,-355.5 995,-361.5 995,-361.5 995,-405.5 995,-405.5 995,-411.5 989,-417.5 983,-417.5\"/>\n<text text-anchor=\"middle\" x=\"929.5\" y=\"-402.3\" font-family=\"Helvetica,sans-Serif\" font-size=\"14.00\" fill=\"#000000\">gini = 0.0</text>\n<text text-anchor=\"middle\" x=\"929.5\" y=\"-387.3\" font-family=\"Helvetica,sans-Serif\" font-size=\"14.00\" fill=\"#000000\">samples = 3</text>\n<text text-anchor=\"middle\" x=\"929.5\" y=\"-372.3\" font-family=\"Helvetica,sans-Serif\" font-size=\"14.00\" fill=\"#000000\">value = [3, 0, 0, 0]</text>\n<text text-anchor=\"middle\" x=\"929.5\" y=\"-357.3\" font-family=\"Helvetica,sans-Serif\" font-size=\"14.00\" fill=\"#000000\">class = I</text>\n</g>\n<!-- 31&#45;&gt;33 -->\n<g id=\"edge33\" class=\"edge\">\n<title>31&#45;&gt;33</title>\n<path fill=\"none\" stroke=\"#000000\" d=\"M832.613,-460.8796C847.4826,-449.0038 863.664,-436.0804 878.4683,-424.2568\"/>\n<polygon fill=\"#000000\" stroke=\"#000000\" points=\"880.9046,-426.7904 886.5342,-417.8149 876.5362,-421.3207 880.9046,-426.7904\"/>\n</g>\n<!-- 36 -->\n<g id=\"node37\" class=\"node\">\n<title>36</title>\n<path fill=\"#71eb67\" stroke=\"#000000\" d=\"M1149,-663C1149,-663 1034,-663 1034,-663 1028,-663 1022,-657 1022,-651 1022,-651 1022,-592 1022,-592 1022,-586 1028,-580 1034,-580 1034,-580 1149,-580 1149,-580 1155,-580 1161,-586 1161,-592 1161,-592 1161,-651 1161,-651 1161,-657 1155,-663 1149,-663\"/>\n<text text-anchor=\"middle\" x=\"1091.5\" y=\"-647.8\" font-family=\"Helvetica,sans-Serif\" font-size=\"14.00\" fill=\"#000000\">doors &lt;= 1.5</text>\n<text text-anchor=\"middle\" x=\"1091.5\" y=\"-632.8\" font-family=\"Helvetica,sans-Serif\" font-size=\"14.00\" fill=\"#000000\">gini = 0.305</text>\n<text text-anchor=\"middle\" x=\"1091.5\" y=\"-617.8\" font-family=\"Helvetica,sans-Serif\" font-size=\"14.00\" fill=\"#000000\">samples = 48</text>\n<text text-anchor=\"middle\" x=\"1091.5\" y=\"-602.8\" font-family=\"Helvetica,sans-Serif\" font-size=\"14.00\" fill=\"#000000\">value = [9, 39, 0, 0]</text>\n<text text-anchor=\"middle\" x=\"1091.5\" y=\"-587.8\" font-family=\"Helvetica,sans-Serif\" font-size=\"14.00\" fill=\"#000000\">class = n</text>\n</g>\n<!-- 35&#45;&gt;36 -->\n<g id=\"edge36\" class=\"edge\">\n<title>35&#45;&gt;36</title>\n<path fill=\"none\" stroke=\"#000000\" d=\"M1092.1502,-698.8796C1092.0814,-690.6838 1092.0083,-681.9891 1091.937,-673.5013\"/>\n<polygon fill=\"#000000\" stroke=\"#000000\" points=\"1095.4352,-673.2683 1091.8512,-663.2981 1088.4355,-673.3272 1095.4352,-673.2683\"/>\n</g>\n<!-- 45 -->\n<g id=\"node46\" class=\"node\">\n<title>45</title>\n<path fill=\"#47e539\" stroke=\"#000000\" d=\"M1306,-655.5C1306,-655.5 1191,-655.5 1191,-655.5 1185,-655.5 1179,-649.5 1179,-643.5 1179,-643.5 1179,-599.5 1179,-599.5 1179,-593.5 1185,-587.5 1191,-587.5 1191,-587.5 1306,-587.5 1306,-587.5 1312,-587.5 1318,-593.5 1318,-599.5 1318,-599.5 1318,-643.5 1318,-643.5 1318,-649.5 1312,-655.5 1306,-655.5\"/>\n<text text-anchor=\"middle\" x=\"1248.5\" y=\"-640.3\" font-family=\"Helvetica,sans-Serif\" font-size=\"14.00\" fill=\"#000000\">gini = 0.0</text>\n<text text-anchor=\"middle\" x=\"1248.5\" y=\"-625.3\" font-family=\"Helvetica,sans-Serif\" font-size=\"14.00\" fill=\"#000000\">samples = 54</text>\n<text text-anchor=\"middle\" x=\"1248.5\" y=\"-610.3\" font-family=\"Helvetica,sans-Serif\" font-size=\"14.00\" fill=\"#000000\">value = [0, 54, 0, 0]</text>\n<text text-anchor=\"middle\" x=\"1248.5\" y=\"-595.3\" font-family=\"Helvetica,sans-Serif\" font-size=\"14.00\" fill=\"#000000\">class = n</text>\n</g>\n<!-- 35&#45;&gt;45 -->\n<g id=\"edge45\" class=\"edge\">\n<title>35&#45;&gt;45</title>\n<path fill=\"none\" stroke=\"#000000\" d=\"M1147.0612,-698.8796C1162.8484,-686.8368 1180.0479,-673.7167 1195.7241,-661.7586\"/>\n<polygon fill=\"#000000\" stroke=\"#000000\" points=\"1197.9392,-664.4709 1203.7673,-655.623 1193.6937,-658.9053 1197.9392,-664.4709\"/>\n</g>\n<!-- 37 -->\n<g id=\"node38\" class=\"node\">\n<title>37</title>\n<path fill=\"#b5f5b0\" stroke=\"#000000\" d=\"M1148,-544C1148,-544 1033,-544 1033,-544 1027,-544 1021,-538 1021,-532 1021,-532 1021,-473 1021,-473 1021,-467 1027,-461 1033,-461 1033,-461 1148,-461 1148,-461 1154,-461 1160,-467 1160,-473 1160,-473 1160,-532 1160,-532 1160,-538 1154,-544 1148,-544\"/>\n<text text-anchor=\"middle\" x=\"1090.5\" y=\"-528.8\" font-family=\"Helvetica,sans-Serif\" font-size=\"14.00\" fill=\"#000000\">lug_boot &lt;= 1.5</text>\n<text text-anchor=\"middle\" x=\"1090.5\" y=\"-513.8\" font-family=\"Helvetica,sans-Serif\" font-size=\"14.00\" fill=\"#000000\">gini = 0.469</text>\n<text text-anchor=\"middle\" x=\"1090.5\" y=\"-498.8\" font-family=\"Helvetica,sans-Serif\" font-size=\"14.00\" fill=\"#000000\">samples = 24</text>\n<text text-anchor=\"middle\" x=\"1090.5\" y=\"-483.8\" font-family=\"Helvetica,sans-Serif\" font-size=\"14.00\" fill=\"#000000\">value = [9, 15, 0, 0]</text>\n<text text-anchor=\"middle\" x=\"1090.5\" y=\"-468.8\" font-family=\"Helvetica,sans-Serif\" font-size=\"14.00\" fill=\"#000000\">class = n</text>\n</g>\n<!-- 36&#45;&gt;37 -->\n<g id=\"edge37\" class=\"edge\">\n<title>36&#45;&gt;37</title>\n<path fill=\"none\" stroke=\"#000000\" d=\"M1091.1502,-579.8796C1091.0814,-571.6838 1091.0083,-562.9891 1090.937,-554.5013\"/>\n<polygon fill=\"#000000\" stroke=\"#000000\" points=\"1094.4352,-554.2683 1090.8512,-544.2981 1087.4355,-554.3272 1094.4352,-554.2683\"/>\n</g>\n<!-- 44 -->\n<g id=\"node45\" class=\"node\">\n<title>44</title>\n<path fill=\"#47e539\" stroke=\"#000000\" d=\"M1305,-536.5C1305,-536.5 1190,-536.5 1190,-536.5 1184,-536.5 1178,-530.5 1178,-524.5 1178,-524.5 1178,-480.5 1178,-480.5 1178,-474.5 1184,-468.5 1190,-468.5 1190,-468.5 1305,-468.5 1305,-468.5 1311,-468.5 1317,-474.5 1317,-480.5 1317,-480.5 1317,-524.5 1317,-524.5 1317,-530.5 1311,-536.5 1305,-536.5\"/>\n<text text-anchor=\"middle\" x=\"1247.5\" y=\"-521.3\" font-family=\"Helvetica,sans-Serif\" font-size=\"14.00\" fill=\"#000000\">gini = 0.0</text>\n<text text-anchor=\"middle\" x=\"1247.5\" y=\"-506.3\" font-family=\"Helvetica,sans-Serif\" font-size=\"14.00\" fill=\"#000000\">samples = 24</text>\n<text text-anchor=\"middle\" x=\"1247.5\" y=\"-491.3\" font-family=\"Helvetica,sans-Serif\" font-size=\"14.00\" fill=\"#000000\">value = [0, 24, 0, 0]</text>\n<text text-anchor=\"middle\" x=\"1247.5\" y=\"-476.3\" font-family=\"Helvetica,sans-Serif\" font-size=\"14.00\" fill=\"#000000\">class = n</text>\n</g>\n<!-- 36&#45;&gt;44 -->\n<g id=\"edge44\" class=\"edge\">\n<title>36&#45;&gt;44</title>\n<path fill=\"none\" stroke=\"#000000\" d=\"M1146.0612,-579.8796C1161.8484,-567.8368 1179.0479,-554.7167 1194.7241,-542.7586\"/>\n<polygon fill=\"#000000\" stroke=\"#000000\" points=\"1196.9392,-545.4709 1202.7673,-536.623 1192.6937,-539.9053 1196.9392,-545.4709\"/>\n</g>\n<!-- 38 -->\n<g id=\"node39\" class=\"node\">\n<title>38</title>\n<path fill=\"#f1b991\" stroke=\"#000000\" d=\"M1138,-425C1138,-425 1031,-425 1031,-425 1025,-425 1019,-419 1019,-413 1019,-413 1019,-354 1019,-354 1019,-348 1025,-342 1031,-342 1031,-342 1138,-342 1138,-342 1144,-342 1150,-348 1150,-354 1150,-354 1150,-413 1150,-413 1150,-419 1144,-425 1138,-425\"/>\n<text text-anchor=\"middle\" x=\"1084.5\" y=\"-409.8\" font-family=\"Helvetica,sans-Serif\" font-size=\"14.00\" fill=\"#000000\">persons &lt;= 1.5</text>\n<text text-anchor=\"middle\" x=\"1084.5\" y=\"-394.8\" font-family=\"Helvetica,sans-Serif\" font-size=\"14.00\" fill=\"#000000\">gini = 0.426</text>\n<text text-anchor=\"middle\" x=\"1084.5\" y=\"-379.8\" font-family=\"Helvetica,sans-Serif\" font-size=\"14.00\" fill=\"#000000\">samples = 13</text>\n<text text-anchor=\"middle\" x=\"1084.5\" y=\"-364.8\" font-family=\"Helvetica,sans-Serif\" font-size=\"14.00\" fill=\"#000000\">value = [9, 4, 0, 0]</text>\n<text text-anchor=\"middle\" x=\"1084.5\" y=\"-349.8\" font-family=\"Helvetica,sans-Serif\" font-size=\"14.00\" fill=\"#000000\">class = I</text>\n</g>\n<!-- 37&#45;&gt;38 -->\n<g id=\"edge38\" class=\"edge\">\n<title>37&#45;&gt;38</title>\n<path fill=\"none\" stroke=\"#000000\" d=\"M1088.4015,-460.8796C1087.9883,-452.6838 1087.5499,-443.9891 1087.1219,-435.5013\"/>\n<polygon fill=\"#000000\" stroke=\"#000000\" points=\"1090.6067,-435.1091 1086.6075,-425.2981 1083.6156,-435.4617 1090.6067,-435.1091\"/>\n</g>\n<!-- 43 -->\n<g id=\"node44\" class=\"node\">\n<title>43</title>\n<path fill=\"#47e539\" stroke=\"#000000\" d=\"M1295,-417.5C1295,-417.5 1180,-417.5 1180,-417.5 1174,-417.5 1168,-411.5 1168,-405.5 1168,-405.5 1168,-361.5 1168,-361.5 1168,-355.5 1174,-349.5 1180,-349.5 1180,-349.5 1295,-349.5 1295,-349.5 1301,-349.5 1307,-355.5 1307,-361.5 1307,-361.5 1307,-405.5 1307,-405.5 1307,-411.5 1301,-417.5 1295,-417.5\"/>\n<text text-anchor=\"middle\" x=\"1237.5\" y=\"-402.3\" font-family=\"Helvetica,sans-Serif\" font-size=\"14.00\" fill=\"#000000\">gini = 0.0</text>\n<text text-anchor=\"middle\" x=\"1237.5\" y=\"-387.3\" font-family=\"Helvetica,sans-Serif\" font-size=\"14.00\" fill=\"#000000\">samples = 11</text>\n<text text-anchor=\"middle\" x=\"1237.5\" y=\"-372.3\" font-family=\"Helvetica,sans-Serif\" font-size=\"14.00\" fill=\"#000000\">value = [0, 11, 0, 0]</text>\n<text text-anchor=\"middle\" x=\"1237.5\" y=\"-357.3\" font-family=\"Helvetica,sans-Serif\" font-size=\"14.00\" fill=\"#000000\">class = n</text>\n</g>\n<!-- 37&#45;&gt;43 -->\n<g id=\"edge43\" class=\"edge\">\n<title>37&#45;&gt;43</title>\n<path fill=\"none\" stroke=\"#000000\" d=\"M1141.9135,-460.8796C1156.5835,-449.0038 1172.5477,-436.0804 1187.1533,-424.2568\"/>\n<polygon fill=\"#000000\" stroke=\"#000000\" points=\"1189.5407,-426.8273 1195.111,-417.8149 1185.1363,-421.3866 1189.5407,-426.8273\"/>\n</g>\n<!-- 39 -->\n<g id=\"node40\" class=\"node\">\n<title>39</title>\n<path fill=\"#e58139\" stroke=\"#000000\" d=\"M1064,-298.5C1064,-298.5 957,-298.5 957,-298.5 951,-298.5 945,-292.5 945,-286.5 945,-286.5 945,-242.5 945,-242.5 945,-236.5 951,-230.5 957,-230.5 957,-230.5 1064,-230.5 1064,-230.5 1070,-230.5 1076,-236.5 1076,-242.5 1076,-242.5 1076,-286.5 1076,-286.5 1076,-292.5 1070,-298.5 1064,-298.5\"/>\n<text text-anchor=\"middle\" x=\"1010.5\" y=\"-283.3\" font-family=\"Helvetica,sans-Serif\" font-size=\"14.00\" fill=\"#000000\">gini = 0.0</text>\n<text text-anchor=\"middle\" x=\"1010.5\" y=\"-268.3\" font-family=\"Helvetica,sans-Serif\" font-size=\"14.00\" fill=\"#000000\">samples = 6</text>\n<text text-anchor=\"middle\" x=\"1010.5\" y=\"-253.3\" font-family=\"Helvetica,sans-Serif\" font-size=\"14.00\" fill=\"#000000\">value = [6, 0, 0, 0]</text>\n<text text-anchor=\"middle\" x=\"1010.5\" y=\"-238.3\" font-family=\"Helvetica,sans-Serif\" font-size=\"14.00\" fill=\"#000000\">class = I</text>\n</g>\n<!-- 38&#45;&gt;39 -->\n<g id=\"edge39\" class=\"edge\">\n<title>38&#45;&gt;39</title>\n<path fill=\"none\" stroke=\"#000000\" d=\"M1058.6184,-341.8796C1051.7121,-330.7735 1044.2361,-318.7513 1037.2825,-307.5691\"/>\n<polygon fill=\"#000000\" stroke=\"#000000\" points=\"1040.0917,-305.4587 1031.8387,-298.8149 1034.1473,-309.1552 1040.0917,-305.4587\"/>\n</g>\n<!-- 40 -->\n<g id=\"node41\" class=\"node\">\n<title>40</title>\n<path fill=\"#d1f8ce\" stroke=\"#000000\" d=\"M1213,-306C1213,-306 1106,-306 1106,-306 1100,-306 1094,-300 1094,-294 1094,-294 1094,-235 1094,-235 1094,-229 1100,-223 1106,-223 1106,-223 1213,-223 1213,-223 1219,-223 1225,-229 1225,-235 1225,-235 1225,-294 1225,-294 1225,-300 1219,-306 1213,-306\"/>\n<text text-anchor=\"middle\" x=\"1159.5\" y=\"-290.8\" font-family=\"Helvetica,sans-Serif\" font-size=\"14.00\" fill=\"#000000\">doors &lt;= 0.5</text>\n<text text-anchor=\"middle\" x=\"1159.5\" y=\"-275.8\" font-family=\"Helvetica,sans-Serif\" font-size=\"14.00\" fill=\"#000000\">gini = 0.49</text>\n<text text-anchor=\"middle\" x=\"1159.5\" y=\"-260.8\" font-family=\"Helvetica,sans-Serif\" font-size=\"14.00\" fill=\"#000000\">samples = 7</text>\n<text text-anchor=\"middle\" x=\"1159.5\" y=\"-245.8\" font-family=\"Helvetica,sans-Serif\" font-size=\"14.00\" fill=\"#000000\">value = [3, 4, 0, 0]</text>\n<text text-anchor=\"middle\" x=\"1159.5\" y=\"-230.8\" font-family=\"Helvetica,sans-Serif\" font-size=\"14.00\" fill=\"#000000\">class = n</text>\n</g>\n<!-- 38&#45;&gt;40 -->\n<g id=\"edge40\" class=\"edge\">\n<title>38&#45;&gt;40</title>\n<path fill=\"none\" stroke=\"#000000\" d=\"M1110.7314,-341.8796C1116.2373,-333.1434 1122.1006,-323.8404 1127.7824,-314.8253\"/>\n<polygon fill=\"#000000\" stroke=\"#000000\" points=\"1130.7857,-316.6242 1133.1567,-306.2981 1124.8637,-312.8919 1130.7857,-316.6242\"/>\n</g>\n<!-- 41 -->\n<g id=\"node42\" class=\"node\">\n<title>41</title>\n<path fill=\"#e58139\" stroke=\"#000000\" d=\"M1139,-179.5C1139,-179.5 1032,-179.5 1032,-179.5 1026,-179.5 1020,-173.5 1020,-167.5 1020,-167.5 1020,-123.5 1020,-123.5 1020,-117.5 1026,-111.5 1032,-111.5 1032,-111.5 1139,-111.5 1139,-111.5 1145,-111.5 1151,-117.5 1151,-123.5 1151,-123.5 1151,-167.5 1151,-167.5 1151,-173.5 1145,-179.5 1139,-179.5\"/>\n<text text-anchor=\"middle\" x=\"1085.5\" y=\"-164.3\" font-family=\"Helvetica,sans-Serif\" font-size=\"14.00\" fill=\"#000000\">gini = 0.0</text>\n<text text-anchor=\"middle\" x=\"1085.5\" y=\"-149.3\" font-family=\"Helvetica,sans-Serif\" font-size=\"14.00\" fill=\"#000000\">samples = 3</text>\n<text text-anchor=\"middle\" x=\"1085.5\" y=\"-134.3\" font-family=\"Helvetica,sans-Serif\" font-size=\"14.00\" fill=\"#000000\">value = [3, 0, 0, 0]</text>\n<text text-anchor=\"middle\" x=\"1085.5\" y=\"-119.3\" font-family=\"Helvetica,sans-Serif\" font-size=\"14.00\" fill=\"#000000\">class = I</text>\n</g>\n<!-- 40&#45;&gt;41 -->\n<g id=\"edge41\" class=\"edge\">\n<title>40&#45;&gt;41</title>\n<path fill=\"none\" stroke=\"#000000\" d=\"M1133.6184,-222.8796C1126.7121,-211.7735 1119.2361,-199.7513 1112.2825,-188.5691\"/>\n<polygon fill=\"#000000\" stroke=\"#000000\" points=\"1115.0917,-186.4587 1106.8387,-179.8149 1109.1473,-190.1552 1115.0917,-186.4587\"/>\n</g>\n<!-- 42 -->\n<g id=\"node43\" class=\"node\">\n<title>42</title>\n<path fill=\"#47e539\" stroke=\"#000000\" d=\"M1288,-179.5C1288,-179.5 1181,-179.5 1181,-179.5 1175,-179.5 1169,-173.5 1169,-167.5 1169,-167.5 1169,-123.5 1169,-123.5 1169,-117.5 1175,-111.5 1181,-111.5 1181,-111.5 1288,-111.5 1288,-111.5 1294,-111.5 1300,-117.5 1300,-123.5 1300,-123.5 1300,-167.5 1300,-167.5 1300,-173.5 1294,-179.5 1288,-179.5\"/>\n<text text-anchor=\"middle\" x=\"1234.5\" y=\"-164.3\" font-family=\"Helvetica,sans-Serif\" font-size=\"14.00\" fill=\"#000000\">gini = 0.0</text>\n<text text-anchor=\"middle\" x=\"1234.5\" y=\"-149.3\" font-family=\"Helvetica,sans-Serif\" font-size=\"14.00\" fill=\"#000000\">samples = 4</text>\n<text text-anchor=\"middle\" x=\"1234.5\" y=\"-134.3\" font-family=\"Helvetica,sans-Serif\" font-size=\"14.00\" fill=\"#000000\">value = [0, 4, 0, 0]</text>\n<text text-anchor=\"middle\" x=\"1234.5\" y=\"-119.3\" font-family=\"Helvetica,sans-Serif\" font-size=\"14.00\" fill=\"#000000\">class = n</text>\n</g>\n<!-- 40&#45;&gt;42 -->\n<g id=\"edge42\" class=\"edge\">\n<title>40&#45;&gt;42</title>\n<path fill=\"none\" stroke=\"#000000\" d=\"M1185.7314,-222.8796C1192.731,-211.7735 1200.308,-199.7513 1207.3556,-188.5691\"/>\n<polygon fill=\"#000000\" stroke=\"#000000\" points=\"1210.502,-190.1411 1212.8729,-179.8149 1204.58,-186.4087 1210.502,-190.1411\"/>\n</g>\n<!-- 47 -->\n<g id=\"node48\" class=\"node\">\n<title>47</title>\n<path fill=\"#84ee7a\" stroke=\"#000000\" d=\"M2041,-901C2041,-901 1918,-901 1918,-901 1912,-901 1906,-895 1906,-889 1906,-889 1906,-830 1906,-830 1906,-824 1912,-818 1918,-818 1918,-818 2041,-818 2041,-818 2047,-818 2053,-824 2053,-830 2053,-830 2053,-889 2053,-889 2053,-895 2047,-901 2041,-901\"/>\n<text text-anchor=\"middle\" x=\"1979.5\" y=\"-885.8\" font-family=\"Helvetica,sans-Serif\" font-size=\"14.00\" fill=\"#000000\">lug_boot &lt;= 0.5</text>\n<text text-anchor=\"middle\" x=\"1979.5\" y=\"-870.8\" font-family=\"Helvetica,sans-Serif\" font-size=\"14.00\" fill=\"#000000\">gini = 0.414</text>\n<text text-anchor=\"middle\" x=\"1979.5\" y=\"-855.8\" font-family=\"Helvetica,sans-Serif\" font-size=\"14.00\" fill=\"#000000\">samples = 125</text>\n<text text-anchor=\"middle\" x=\"1979.5\" y=\"-840.8\" font-family=\"Helvetica,sans-Serif\" font-size=\"14.00\" fill=\"#000000\">value = [25, 92, 8, 0]</text>\n<text text-anchor=\"middle\" x=\"1979.5\" y=\"-825.8\" font-family=\"Helvetica,sans-Serif\" font-size=\"14.00\" fill=\"#000000\">class = n</text>\n</g>\n<!-- 46&#45;&gt;47 -->\n<g id=\"edge47\" class=\"edge\">\n<title>46&#45;&gt;47</title>\n<path fill=\"none\" stroke=\"#000000\" d=\"M1979.5,-936.8796C1979.5,-928.6838 1979.5,-919.9891 1979.5,-911.5013\"/>\n<polygon fill=\"#000000\" stroke=\"#000000\" points=\"1983.0001,-911.298 1979.5,-901.2981 1976.0001,-911.2981 1983.0001,-911.298\"/>\n</g>\n<!-- 84 -->\n<g id=\"node85\" class=\"node\">\n<title>84</title>\n<path fill=\"#fef8fe\" stroke=\"#000000\" d=\"M3068,-901C3068,-901 2937,-901 2937,-901 2931,-901 2925,-895 2925,-889 2925,-889 2925,-830 2925,-830 2925,-824 2931,-818 2937,-818 2937,-818 3068,-818 3068,-818 3074,-818 3080,-824 3080,-830 3080,-830 3080,-889 3080,-889 3080,-895 3074,-901 3068,-901\"/>\n<text text-anchor=\"middle\" x=\"3002.5\" y=\"-885.8\" font-family=\"Helvetica,sans-Serif\" font-size=\"14.00\" fill=\"#000000\">safety &lt;= 1.5</text>\n<text text-anchor=\"middle\" x=\"3002.5\" y=\"-870.8\" font-family=\"Helvetica,sans-Serif\" font-size=\"14.00\" fill=\"#000000\">gini = 0.701</text>\n<text text-anchor=\"middle\" x=\"3002.5\" y=\"-855.8\" font-family=\"Helvetica,sans-Serif\" font-size=\"14.00\" fill=\"#000000\">samples = 132</text>\n<text text-anchor=\"middle\" x=\"3002.5\" y=\"-840.8\" font-family=\"Helvetica,sans-Serif\" font-size=\"14.00\" fill=\"#000000\">value = [8, 39, 41, 44]</text>\n<text text-anchor=\"middle\" x=\"3002.5\" y=\"-825.8\" font-family=\"Helvetica,sans-Serif\" font-size=\"14.00\" fill=\"#000000\">class = e</text>\n</g>\n<!-- 46&#45;&gt;84 -->\n<g id=\"edge84\" class=\"edge\">\n<title>46&#45;&gt;84</title>\n<path fill=\"none\" stroke=\"#000000\" d=\"M2065.8387,-968.4567C2258.3271,-946.0656 2720.9032,-892.2566 2914.7261,-869.7103\"/>\n<polygon fill=\"#000000\" stroke=\"#000000\" points=\"2915.3403,-873.1625 2924.8689,-868.5304 2914.5314,-866.2094 2915.3403,-873.1625\"/>\n</g>\n<!-- 48 -->\n<g id=\"node49\" class=\"node\">\n<title>48</title>\n<path fill=\"#ffffff\" stroke=\"#000000\" d=\"M1848,-782C1848,-782 1725,-782 1725,-782 1719,-782 1713,-776 1713,-770 1713,-770 1713,-711 1713,-711 1713,-705 1719,-699 1725,-699 1725,-699 1848,-699 1848,-699 1854,-699 1860,-705 1860,-711 1860,-711 1860,-770 1860,-770 1860,-776 1854,-782 1848,-782\"/>\n<text text-anchor=\"middle\" x=\"1786.5\" y=\"-766.8\" font-family=\"Helvetica,sans-Serif\" font-size=\"14.00\" fill=\"#000000\">safety &lt;= 1.5</text>\n<text text-anchor=\"middle\" x=\"1786.5\" y=\"-751.8\" font-family=\"Helvetica,sans-Serif\" font-size=\"14.00\" fill=\"#000000\">gini = 0.5</text>\n<text text-anchor=\"middle\" x=\"1786.5\" y=\"-736.8\" font-family=\"Helvetica,sans-Serif\" font-size=\"14.00\" fill=\"#000000\">samples = 42</text>\n<text text-anchor=\"middle\" x=\"1786.5\" y=\"-721.8\" font-family=\"Helvetica,sans-Serif\" font-size=\"14.00\" fill=\"#000000\">value = [21, 21, 0, 0]</text>\n<text text-anchor=\"middle\" x=\"1786.5\" y=\"-706.8\" font-family=\"Helvetica,sans-Serif\" font-size=\"14.00\" fill=\"#000000\">class = I</text>\n</g>\n<!-- 47&#45;&gt;48 -->\n<g id=\"edge48\" class=\"edge\">\n<title>47&#45;&gt;48</title>\n<path fill=\"none\" stroke=\"#000000\" d=\"M1911.998,-817.8796C1896.1308,-808.0962 1879.1106,-797.6019 1862.8844,-787.5971\"/>\n<polygon fill=\"#000000\" stroke=\"#000000\" points=\"1864.3129,-784.3661 1853.9639,-782.0969 1860.639,-790.3245 1864.3129,-784.3661\"/>\n</g>\n<!-- 63 -->\n<g id=\"node64\" class=\"node\">\n<title>63</title>\n<path fill=\"#64e959\" stroke=\"#000000\" d=\"M2153,-782C2153,-782 2038,-782 2038,-782 2032,-782 2026,-776 2026,-770 2026,-770 2026,-711 2026,-711 2026,-705 2032,-699 2038,-699 2038,-699 2153,-699 2153,-699 2159,-699 2165,-705 2165,-711 2165,-711 2165,-770 2165,-770 2165,-776 2159,-782 2153,-782\"/>\n<text text-anchor=\"middle\" x=\"2095.5\" y=\"-766.8\" font-family=\"Helvetica,sans-Serif\" font-size=\"14.00\" fill=\"#000000\">safety &lt;= 1.5</text>\n<text text-anchor=\"middle\" x=\"2095.5\" y=\"-751.8\" font-family=\"Helvetica,sans-Serif\" font-size=\"14.00\" fill=\"#000000\">gini = 0.257</text>\n<text text-anchor=\"middle\" x=\"2095.5\" y=\"-736.8\" font-family=\"Helvetica,sans-Serif\" font-size=\"14.00\" fill=\"#000000\">samples = 83</text>\n<text text-anchor=\"middle\" x=\"2095.5\" y=\"-721.8\" font-family=\"Helvetica,sans-Serif\" font-size=\"14.00\" fill=\"#000000\">value = [4, 71, 8, 0]</text>\n<text text-anchor=\"middle\" x=\"2095.5\" y=\"-706.8\" font-family=\"Helvetica,sans-Serif\" font-size=\"14.00\" fill=\"#000000\">class = n</text>\n</g>\n<!-- 47&#45;&gt;63 -->\n<g id=\"edge63\" class=\"edge\">\n<title>47&#45;&gt;63</title>\n<path fill=\"none\" stroke=\"#000000\" d=\"M2020.0712,-817.8796C2028.9382,-808.7832 2038.4044,-799.0722 2047.5291,-789.7116\"/>\n<polygon fill=\"#000000\" stroke=\"#000000\" points=\"2050.2817,-791.9019 2054.7557,-782.2981 2045.2691,-787.0158 2050.2817,-791.9019\"/>\n</g>\n<!-- 49 -->\n<g id=\"node50\" class=\"node\">\n<title>49</title>\n<path fill=\"#eca26d\" stroke=\"#000000\" d=\"M1615,-663C1615,-663 1500,-663 1500,-663 1494,-663 1488,-657 1488,-651 1488,-651 1488,-592 1488,-592 1488,-586 1494,-580 1500,-580 1500,-580 1615,-580 1615,-580 1621,-580 1627,-586 1627,-592 1627,-592 1627,-651 1627,-651 1627,-657 1621,-663 1615,-663\"/>\n<text text-anchor=\"middle\" x=\"1557.5\" y=\"-647.8\" font-family=\"Helvetica,sans-Serif\" font-size=\"14.00\" fill=\"#000000\">buying &lt;= 2.5</text>\n<text text-anchor=\"middle\" x=\"1557.5\" y=\"-632.8\" font-family=\"Helvetica,sans-Serif\" font-size=\"14.00\" fill=\"#000000\">gini = 0.33</text>\n<text text-anchor=\"middle\" x=\"1557.5\" y=\"-617.8\" font-family=\"Helvetica,sans-Serif\" font-size=\"14.00\" fill=\"#000000\">samples = 24</text>\n<text text-anchor=\"middle\" x=\"1557.5\" y=\"-602.8\" font-family=\"Helvetica,sans-Serif\" font-size=\"14.00\" fill=\"#000000\">value = [19, 5, 0, 0]</text>\n<text text-anchor=\"middle\" x=\"1557.5\" y=\"-587.8\" font-family=\"Helvetica,sans-Serif\" font-size=\"14.00\" fill=\"#000000\">class = I</text>\n</g>\n<!-- 48&#45;&gt;49 -->\n<g id=\"edge49\" class=\"edge\">\n<title>48&#45;&gt;49</title>\n<path fill=\"none\" stroke=\"#000000\" d=\"M1712.7824,-702.1926C1688.3281,-689.4849 1661.0189,-675.2937 1636.2037,-662.3984\"/>\n<polygon fill=\"#000000\" stroke=\"#000000\" points=\"1637.6714,-659.2168 1627.1841,-657.7114 1634.4436,-665.4282 1637.6714,-659.2168\"/>\n</g>\n<!-- 58 -->\n<g id=\"node59\" class=\"node\">\n<title>58</title>\n<path fill=\"#5ee852\" stroke=\"#000000\" d=\"M1844,-663C1844,-663 1729,-663 1729,-663 1723,-663 1717,-657 1717,-651 1717,-651 1717,-592 1717,-592 1717,-586 1723,-580 1729,-580 1729,-580 1844,-580 1844,-580 1850,-580 1856,-586 1856,-592 1856,-592 1856,-651 1856,-651 1856,-657 1850,-663 1844,-663\"/>\n<text text-anchor=\"middle\" x=\"1786.5\" y=\"-647.8\" font-family=\"Helvetica,sans-Serif\" font-size=\"14.00\" fill=\"#000000\">doors &lt;= 0.5</text>\n<text text-anchor=\"middle\" x=\"1786.5\" y=\"-632.8\" font-family=\"Helvetica,sans-Serif\" font-size=\"14.00\" fill=\"#000000\">gini = 0.198</text>\n<text text-anchor=\"middle\" x=\"1786.5\" y=\"-617.8\" font-family=\"Helvetica,sans-Serif\" font-size=\"14.00\" fill=\"#000000\">samples = 18</text>\n<text text-anchor=\"middle\" x=\"1786.5\" y=\"-602.8\" font-family=\"Helvetica,sans-Serif\" font-size=\"14.00\" fill=\"#000000\">value = [2, 16, 0, 0]</text>\n<text text-anchor=\"middle\" x=\"1786.5\" y=\"-587.8\" font-family=\"Helvetica,sans-Serif\" font-size=\"14.00\" fill=\"#000000\">class = n</text>\n</g>\n<!-- 48&#45;&gt;58 -->\n<g id=\"edge58\" class=\"edge\">\n<title>48&#45;&gt;58</title>\n<path fill=\"none\" stroke=\"#000000\" d=\"M1786.5,-698.8796C1786.5,-690.6838 1786.5,-681.9891 1786.5,-673.5013\"/>\n<polygon fill=\"#000000\" stroke=\"#000000\" points=\"1790.0001,-673.298 1786.5,-663.2981 1783.0001,-673.2981 1790.0001,-673.298\"/>\n</g>\n<!-- 50 -->\n<g id=\"node51\" class=\"node\">\n<title>50</title>\n<path fill=\"#e58139\" stroke=\"#000000\" d=\"M1462,-536.5C1462,-536.5 1347,-536.5 1347,-536.5 1341,-536.5 1335,-530.5 1335,-524.5 1335,-524.5 1335,-480.5 1335,-480.5 1335,-474.5 1341,-468.5 1347,-468.5 1347,-468.5 1462,-468.5 1462,-468.5 1468,-468.5 1474,-474.5 1474,-480.5 1474,-480.5 1474,-524.5 1474,-524.5 1474,-530.5 1468,-536.5 1462,-536.5\"/>\n<text text-anchor=\"middle\" x=\"1404.5\" y=\"-521.3\" font-family=\"Helvetica,sans-Serif\" font-size=\"14.00\" fill=\"#000000\">gini = 0.0</text>\n<text text-anchor=\"middle\" x=\"1404.5\" y=\"-506.3\" font-family=\"Helvetica,sans-Serif\" font-size=\"14.00\" fill=\"#000000\">samples = 14</text>\n<text text-anchor=\"middle\" x=\"1404.5\" y=\"-491.3\" font-family=\"Helvetica,sans-Serif\" font-size=\"14.00\" fill=\"#000000\">value = [14, 0, 0, 0]</text>\n<text text-anchor=\"middle\" x=\"1404.5\" y=\"-476.3\" font-family=\"Helvetica,sans-Serif\" font-size=\"14.00\" fill=\"#000000\">class = I</text>\n</g>\n<!-- 49&#45;&gt;50 -->\n<g id=\"edge50\" class=\"edge\">\n<title>49&#45;&gt;50</title>\n<path fill=\"none\" stroke=\"#000000\" d=\"M1503.988,-579.8796C1488.7192,-568.0038 1472.1034,-555.0804 1456.9016,-543.2568\"/>\n<polygon fill=\"#000000\" stroke=\"#000000\" points=\"1458.6616,-540.1916 1448.6192,-536.8149 1454.3639,-545.7171 1458.6616,-540.1916\"/>\n</g>\n<!-- 51 -->\n<g id=\"node52\" class=\"node\">\n<title>51</title>\n<path fill=\"#ffffff\" stroke=\"#000000\" d=\"M1611,-544C1611,-544 1504,-544 1504,-544 1498,-544 1492,-538 1492,-532 1492,-532 1492,-473 1492,-473 1492,-467 1498,-461 1504,-461 1504,-461 1611,-461 1611,-461 1617,-461 1623,-467 1623,-473 1623,-473 1623,-532 1623,-532 1623,-538 1617,-544 1611,-544\"/>\n<text text-anchor=\"middle\" x=\"1557.5\" y=\"-528.8\" font-family=\"Helvetica,sans-Serif\" font-size=\"14.00\" fill=\"#000000\">maint &lt;= 0.5</text>\n<text text-anchor=\"middle\" x=\"1557.5\" y=\"-513.8\" font-family=\"Helvetica,sans-Serif\" font-size=\"14.00\" fill=\"#000000\">gini = 0.5</text>\n<text text-anchor=\"middle\" x=\"1557.5\" y=\"-498.8\" font-family=\"Helvetica,sans-Serif\" font-size=\"14.00\" fill=\"#000000\">samples = 10</text>\n<text text-anchor=\"middle\" x=\"1557.5\" y=\"-483.8\" font-family=\"Helvetica,sans-Serif\" font-size=\"14.00\" fill=\"#000000\">value = [5, 5, 0, 0]</text>\n<text text-anchor=\"middle\" x=\"1557.5\" y=\"-468.8\" font-family=\"Helvetica,sans-Serif\" font-size=\"14.00\" fill=\"#000000\">class = I</text>\n</g>\n<!-- 49&#45;&gt;51 -->\n<g id=\"edge51\" class=\"edge\">\n<title>49&#45;&gt;51</title>\n<path fill=\"none\" stroke=\"#000000\" d=\"M1557.5,-579.8796C1557.5,-571.6838 1557.5,-562.9891 1557.5,-554.5013\"/>\n<polygon fill=\"#000000\" stroke=\"#000000\" points=\"1561.0001,-554.298 1557.5,-544.2981 1554.0001,-554.2981 1561.0001,-554.298\"/>\n</g>\n<!-- 52 -->\n<g id=\"node53\" class=\"node\">\n<title>52</title>\n<path fill=\"#e58139\" stroke=\"#000000\" d=\"M1462,-417.5C1462,-417.5 1355,-417.5 1355,-417.5 1349,-417.5 1343,-411.5 1343,-405.5 1343,-405.5 1343,-361.5 1343,-361.5 1343,-355.5 1349,-349.5 1355,-349.5 1355,-349.5 1462,-349.5 1462,-349.5 1468,-349.5 1474,-355.5 1474,-361.5 1474,-361.5 1474,-405.5 1474,-405.5 1474,-411.5 1468,-417.5 1462,-417.5\"/>\n<text text-anchor=\"middle\" x=\"1408.5\" y=\"-402.3\" font-family=\"Helvetica,sans-Serif\" font-size=\"14.00\" fill=\"#000000\">gini = 0.0</text>\n<text text-anchor=\"middle\" x=\"1408.5\" y=\"-387.3\" font-family=\"Helvetica,sans-Serif\" font-size=\"14.00\" fill=\"#000000\">samples = 4</text>\n<text text-anchor=\"middle\" x=\"1408.5\" y=\"-372.3\" font-family=\"Helvetica,sans-Serif\" font-size=\"14.00\" fill=\"#000000\">value = [4, 0, 0, 0]</text>\n<text text-anchor=\"middle\" x=\"1408.5\" y=\"-357.3\" font-family=\"Helvetica,sans-Serif\" font-size=\"14.00\" fill=\"#000000\">class = I</text>\n</g>\n<!-- 51&#45;&gt;52 -->\n<g id=\"edge52\" class=\"edge\">\n<title>51&#45;&gt;52</title>\n<path fill=\"none\" stroke=\"#000000\" d=\"M1505.387,-460.8796C1490.5174,-449.0038 1474.336,-436.0804 1459.5317,-424.2568\"/>\n<polygon fill=\"#000000\" stroke=\"#000000\" points=\"1461.4638,-421.3207 1451.4658,-417.8149 1457.0954,-426.7904 1461.4638,-421.3207\"/>\n</g>\n<!-- 53 -->\n<g id=\"node54\" class=\"node\">\n<title>53</title>\n<path fill=\"#6cea61\" stroke=\"#000000\" d=\"M1611,-425C1611,-425 1504,-425 1504,-425 1498,-425 1492,-419 1492,-413 1492,-413 1492,-354 1492,-354 1492,-348 1498,-342 1504,-342 1504,-342 1611,-342 1611,-342 1617,-342 1623,-348 1623,-354 1623,-354 1623,-413 1623,-413 1623,-419 1617,-425 1611,-425\"/>\n<text text-anchor=\"middle\" x=\"1557.5\" y=\"-409.8\" font-family=\"Helvetica,sans-Serif\" font-size=\"14.00\" fill=\"#000000\">persons &lt;= 1.5</text>\n<text text-anchor=\"middle\" x=\"1557.5\" y=\"-394.8\" font-family=\"Helvetica,sans-Serif\" font-size=\"14.00\" fill=\"#000000\">gini = 0.278</text>\n<text text-anchor=\"middle\" x=\"1557.5\" y=\"-379.8\" font-family=\"Helvetica,sans-Serif\" font-size=\"14.00\" fill=\"#000000\">samples = 6</text>\n<text text-anchor=\"middle\" x=\"1557.5\" y=\"-364.8\" font-family=\"Helvetica,sans-Serif\" font-size=\"14.00\" fill=\"#000000\">value = [1, 5, 0, 0]</text>\n<text text-anchor=\"middle\" x=\"1557.5\" y=\"-349.8\" font-family=\"Helvetica,sans-Serif\" font-size=\"14.00\" fill=\"#000000\">class = n</text>\n</g>\n<!-- 51&#45;&gt;53 -->\n<g id=\"edge53\" class=\"edge\">\n<title>51&#45;&gt;53</title>\n<path fill=\"none\" stroke=\"#000000\" d=\"M1557.5,-460.8796C1557.5,-452.6838 1557.5,-443.9891 1557.5,-435.5013\"/>\n<polygon fill=\"#000000\" stroke=\"#000000\" points=\"1561.0001,-435.298 1557.5,-425.2981 1554.0001,-435.2981 1561.0001,-435.298\"/>\n</g>\n<!-- 54 -->\n<g id=\"node55\" class=\"node\">\n<title>54</title>\n<path fill=\"#47e539\" stroke=\"#000000\" d=\"M1537,-298.5C1537,-298.5 1430,-298.5 1430,-298.5 1424,-298.5 1418,-292.5 1418,-286.5 1418,-286.5 1418,-242.5 1418,-242.5 1418,-236.5 1424,-230.5 1430,-230.5 1430,-230.5 1537,-230.5 1537,-230.5 1543,-230.5 1549,-236.5 1549,-242.5 1549,-242.5 1549,-286.5 1549,-286.5 1549,-292.5 1543,-298.5 1537,-298.5\"/>\n<text text-anchor=\"middle\" x=\"1483.5\" y=\"-283.3\" font-family=\"Helvetica,sans-Serif\" font-size=\"14.00\" fill=\"#000000\">gini = 0.0</text>\n<text text-anchor=\"middle\" x=\"1483.5\" y=\"-268.3\" font-family=\"Helvetica,sans-Serif\" font-size=\"14.00\" fill=\"#000000\">samples = 4</text>\n<text text-anchor=\"middle\" x=\"1483.5\" y=\"-253.3\" font-family=\"Helvetica,sans-Serif\" font-size=\"14.00\" fill=\"#000000\">value = [0, 4, 0, 0]</text>\n<text text-anchor=\"middle\" x=\"1483.5\" y=\"-238.3\" font-family=\"Helvetica,sans-Serif\" font-size=\"14.00\" fill=\"#000000\">class = n</text>\n</g>\n<!-- 53&#45;&gt;54 -->\n<g id=\"edge54\" class=\"edge\">\n<title>53&#45;&gt;54</title>\n<path fill=\"none\" stroke=\"#000000\" d=\"M1531.6184,-341.8796C1524.7121,-330.7735 1517.2361,-318.7513 1510.2825,-307.5691\"/>\n<polygon fill=\"#000000\" stroke=\"#000000\" points=\"1513.0917,-305.4587 1504.8387,-298.8149 1507.1473,-309.1552 1513.0917,-305.4587\"/>\n</g>\n<!-- 55 -->\n<g id=\"node56\" class=\"node\">\n<title>55</title>\n<path fill=\"#ffffff\" stroke=\"#000000\" d=\"M1686,-306C1686,-306 1579,-306 1579,-306 1573,-306 1567,-300 1567,-294 1567,-294 1567,-235 1567,-235 1567,-229 1573,-223 1579,-223 1579,-223 1686,-223 1686,-223 1692,-223 1698,-229 1698,-235 1698,-235 1698,-294 1698,-294 1698,-300 1692,-306 1686,-306\"/>\n<text text-anchor=\"middle\" x=\"1632.5\" y=\"-290.8\" font-family=\"Helvetica,sans-Serif\" font-size=\"14.00\" fill=\"#000000\">doors &lt;= 1.5</text>\n<text text-anchor=\"middle\" x=\"1632.5\" y=\"-275.8\" font-family=\"Helvetica,sans-Serif\" font-size=\"14.00\" fill=\"#000000\">gini = 0.5</text>\n<text text-anchor=\"middle\" x=\"1632.5\" y=\"-260.8\" font-family=\"Helvetica,sans-Serif\" font-size=\"14.00\" fill=\"#000000\">samples = 2</text>\n<text text-anchor=\"middle\" x=\"1632.5\" y=\"-245.8\" font-family=\"Helvetica,sans-Serif\" font-size=\"14.00\" fill=\"#000000\">value = [1, 1, 0, 0]</text>\n<text text-anchor=\"middle\" x=\"1632.5\" y=\"-230.8\" font-family=\"Helvetica,sans-Serif\" font-size=\"14.00\" fill=\"#000000\">class = I</text>\n</g>\n<!-- 53&#45;&gt;55 -->\n<g id=\"edge55\" class=\"edge\">\n<title>53&#45;&gt;55</title>\n<path fill=\"none\" stroke=\"#000000\" d=\"M1583.7314,-341.8796C1589.2373,-333.1434 1595.1006,-323.8404 1600.7824,-314.8253\"/>\n<polygon fill=\"#000000\" stroke=\"#000000\" points=\"1603.7857,-316.6242 1606.1567,-306.2981 1597.8637,-312.8919 1603.7857,-316.6242\"/>\n</g>\n<!-- 56 -->\n<g id=\"node57\" class=\"node\">\n<title>56</title>\n<path fill=\"#e58139\" stroke=\"#000000\" d=\"M1612,-179.5C1612,-179.5 1505,-179.5 1505,-179.5 1499,-179.5 1493,-173.5 1493,-167.5 1493,-167.5 1493,-123.5 1493,-123.5 1493,-117.5 1499,-111.5 1505,-111.5 1505,-111.5 1612,-111.5 1612,-111.5 1618,-111.5 1624,-117.5 1624,-123.5 1624,-123.5 1624,-167.5 1624,-167.5 1624,-173.5 1618,-179.5 1612,-179.5\"/>\n<text text-anchor=\"middle\" x=\"1558.5\" y=\"-164.3\" font-family=\"Helvetica,sans-Serif\" font-size=\"14.00\" fill=\"#000000\">gini = 0.0</text>\n<text text-anchor=\"middle\" x=\"1558.5\" y=\"-149.3\" font-family=\"Helvetica,sans-Serif\" font-size=\"14.00\" fill=\"#000000\">samples = 1</text>\n<text text-anchor=\"middle\" x=\"1558.5\" y=\"-134.3\" font-family=\"Helvetica,sans-Serif\" font-size=\"14.00\" fill=\"#000000\">value = [1, 0, 0, 0]</text>\n<text text-anchor=\"middle\" x=\"1558.5\" y=\"-119.3\" font-family=\"Helvetica,sans-Serif\" font-size=\"14.00\" fill=\"#000000\">class = I</text>\n</g>\n<!-- 55&#45;&gt;56 -->\n<g id=\"edge56\" class=\"edge\">\n<title>55&#45;&gt;56</title>\n<path fill=\"none\" stroke=\"#000000\" d=\"M1606.6184,-222.8796C1599.7121,-211.7735 1592.2361,-199.7513 1585.2825,-188.5691\"/>\n<polygon fill=\"#000000\" stroke=\"#000000\" points=\"1588.0917,-186.4587 1579.8387,-179.8149 1582.1473,-190.1552 1588.0917,-186.4587\"/>\n</g>\n<!-- 57 -->\n<g id=\"node58\" class=\"node\">\n<title>57</title>\n<path fill=\"#47e539\" stroke=\"#000000\" d=\"M1761,-179.5C1761,-179.5 1654,-179.5 1654,-179.5 1648,-179.5 1642,-173.5 1642,-167.5 1642,-167.5 1642,-123.5 1642,-123.5 1642,-117.5 1648,-111.5 1654,-111.5 1654,-111.5 1761,-111.5 1761,-111.5 1767,-111.5 1773,-117.5 1773,-123.5 1773,-123.5 1773,-167.5 1773,-167.5 1773,-173.5 1767,-179.5 1761,-179.5\"/>\n<text text-anchor=\"middle\" x=\"1707.5\" y=\"-164.3\" font-family=\"Helvetica,sans-Serif\" font-size=\"14.00\" fill=\"#000000\">gini = 0.0</text>\n<text text-anchor=\"middle\" x=\"1707.5\" y=\"-149.3\" font-family=\"Helvetica,sans-Serif\" font-size=\"14.00\" fill=\"#000000\">samples = 1</text>\n<text text-anchor=\"middle\" x=\"1707.5\" y=\"-134.3\" font-family=\"Helvetica,sans-Serif\" font-size=\"14.00\" fill=\"#000000\">value = [0, 1, 0, 0]</text>\n<text text-anchor=\"middle\" x=\"1707.5\" y=\"-119.3\" font-family=\"Helvetica,sans-Serif\" font-size=\"14.00\" fill=\"#000000\">class = n</text>\n</g>\n<!-- 55&#45;&gt;57 -->\n<g id=\"edge57\" class=\"edge\">\n<title>55&#45;&gt;57</title>\n<path fill=\"none\" stroke=\"#000000\" d=\"M1658.7314,-222.8796C1665.731,-211.7735 1673.308,-199.7513 1680.3556,-188.5691\"/>\n<polygon fill=\"#000000\" stroke=\"#000000\" points=\"1683.502,-190.1411 1685.8729,-179.8149 1677.58,-186.4087 1683.502,-190.1411\"/>\n</g>\n<!-- 59 -->\n<g id=\"node60\" class=\"node\">\n<title>59</title>\n<path fill=\"#c2f6bd\" stroke=\"#000000\" d=\"M1760,-544C1760,-544 1653,-544 1653,-544 1647,-544 1641,-538 1641,-532 1641,-532 1641,-473 1641,-473 1641,-467 1647,-461 1653,-461 1653,-461 1760,-461 1760,-461 1766,-461 1772,-467 1772,-473 1772,-473 1772,-532 1772,-532 1772,-538 1766,-544 1760,-544\"/>\n<text text-anchor=\"middle\" x=\"1706.5\" y=\"-528.8\" font-family=\"Helvetica,sans-Serif\" font-size=\"14.00\" fill=\"#000000\">persons &lt;= 1.5</text>\n<text text-anchor=\"middle\" x=\"1706.5\" y=\"-513.8\" font-family=\"Helvetica,sans-Serif\" font-size=\"14.00\" fill=\"#000000\">gini = 0.48</text>\n<text text-anchor=\"middle\" x=\"1706.5\" y=\"-498.8\" font-family=\"Helvetica,sans-Serif\" font-size=\"14.00\" fill=\"#000000\">samples = 5</text>\n<text text-anchor=\"middle\" x=\"1706.5\" y=\"-483.8\" font-family=\"Helvetica,sans-Serif\" font-size=\"14.00\" fill=\"#000000\">value = [2, 3, 0, 0]</text>\n<text text-anchor=\"middle\" x=\"1706.5\" y=\"-468.8\" font-family=\"Helvetica,sans-Serif\" font-size=\"14.00\" fill=\"#000000\">class = n</text>\n</g>\n<!-- 58&#45;&gt;59 -->\n<g id=\"edge59\" class=\"edge\">\n<title>58&#45;&gt;59</title>\n<path fill=\"none\" stroke=\"#000000\" d=\"M1758.5199,-579.8796C1752.6469,-571.1434 1746.3927,-561.8404 1740.3321,-552.8253\"/>\n<polygon fill=\"#000000\" stroke=\"#000000\" points=\"1743.0834,-550.6444 1734.5995,-544.2981 1737.2741,-554.5498 1743.0834,-550.6444\"/>\n</g>\n<!-- 62 -->\n<g id=\"node63\" class=\"node\">\n<title>62</title>\n<path fill=\"#47e539\" stroke=\"#000000\" d=\"M1917,-536.5C1917,-536.5 1802,-536.5 1802,-536.5 1796,-536.5 1790,-530.5 1790,-524.5 1790,-524.5 1790,-480.5 1790,-480.5 1790,-474.5 1796,-468.5 1802,-468.5 1802,-468.5 1917,-468.5 1917,-468.5 1923,-468.5 1929,-474.5 1929,-480.5 1929,-480.5 1929,-524.5 1929,-524.5 1929,-530.5 1923,-536.5 1917,-536.5\"/>\n<text text-anchor=\"middle\" x=\"1859.5\" y=\"-521.3\" font-family=\"Helvetica,sans-Serif\" font-size=\"14.00\" fill=\"#000000\">gini = 0.0</text>\n<text text-anchor=\"middle\" x=\"1859.5\" y=\"-506.3\" font-family=\"Helvetica,sans-Serif\" font-size=\"14.00\" fill=\"#000000\">samples = 13</text>\n<text text-anchor=\"middle\" x=\"1859.5\" y=\"-491.3\" font-family=\"Helvetica,sans-Serif\" font-size=\"14.00\" fill=\"#000000\">value = [0, 13, 0, 0]</text>\n<text text-anchor=\"middle\" x=\"1859.5\" y=\"-476.3\" font-family=\"Helvetica,sans-Serif\" font-size=\"14.00\" fill=\"#000000\">class = n</text>\n</g>\n<!-- 58&#45;&gt;62 -->\n<g id=\"edge62\" class=\"edge\">\n<title>58&#45;&gt;62</title>\n<path fill=\"none\" stroke=\"#000000\" d=\"M1812.0319,-579.8796C1818.8448,-568.7735 1826.2198,-556.7513 1833.0794,-545.5691\"/>\n<polygon fill=\"#000000\" stroke=\"#000000\" points=\"1836.204,-547.1691 1838.4497,-536.8149 1830.2372,-543.5087 1836.204,-547.1691\"/>\n</g>\n<!-- 60 -->\n<g id=\"node61\" class=\"node\">\n<title>60</title>\n<path fill=\"#47e539\" stroke=\"#000000\" d=\"M1760,-417.5C1760,-417.5 1653,-417.5 1653,-417.5 1647,-417.5 1641,-411.5 1641,-405.5 1641,-405.5 1641,-361.5 1641,-361.5 1641,-355.5 1647,-349.5 1653,-349.5 1653,-349.5 1760,-349.5 1760,-349.5 1766,-349.5 1772,-355.5 1772,-361.5 1772,-361.5 1772,-405.5 1772,-405.5 1772,-411.5 1766,-417.5 1760,-417.5\"/>\n<text text-anchor=\"middle\" x=\"1706.5\" y=\"-402.3\" font-family=\"Helvetica,sans-Serif\" font-size=\"14.00\" fill=\"#000000\">gini = 0.0</text>\n<text text-anchor=\"middle\" x=\"1706.5\" y=\"-387.3\" font-family=\"Helvetica,sans-Serif\" font-size=\"14.00\" fill=\"#000000\">samples = 3</text>\n<text text-anchor=\"middle\" x=\"1706.5\" y=\"-372.3\" font-family=\"Helvetica,sans-Serif\" font-size=\"14.00\" fill=\"#000000\">value = [0, 3, 0, 0]</text>\n<text text-anchor=\"middle\" x=\"1706.5\" y=\"-357.3\" font-family=\"Helvetica,sans-Serif\" font-size=\"14.00\" fill=\"#000000\">class = n</text>\n</g>\n<!-- 59&#45;&gt;60 -->\n<g id=\"edge60\" class=\"edge\">\n<title>59&#45;&gt;60</title>\n<path fill=\"none\" stroke=\"#000000\" d=\"M1706.5,-460.8796C1706.5,-450.2134 1706.5,-438.7021 1706.5,-427.9015\"/>\n<polygon fill=\"#000000\" stroke=\"#000000\" points=\"1710.0001,-427.8149 1706.5,-417.8149 1703.0001,-427.815 1710.0001,-427.8149\"/>\n</g>\n<!-- 61 -->\n<g id=\"node62\" class=\"node\">\n<title>61</title>\n<path fill=\"#e58139\" stroke=\"#000000\" d=\"M1909,-417.5C1909,-417.5 1802,-417.5 1802,-417.5 1796,-417.5 1790,-411.5 1790,-405.5 1790,-405.5 1790,-361.5 1790,-361.5 1790,-355.5 1796,-349.5 1802,-349.5 1802,-349.5 1909,-349.5 1909,-349.5 1915,-349.5 1921,-355.5 1921,-361.5 1921,-361.5 1921,-405.5 1921,-405.5 1921,-411.5 1915,-417.5 1909,-417.5\"/>\n<text text-anchor=\"middle\" x=\"1855.5\" y=\"-402.3\" font-family=\"Helvetica,sans-Serif\" font-size=\"14.00\" fill=\"#000000\">gini = 0.0</text>\n<text text-anchor=\"middle\" x=\"1855.5\" y=\"-387.3\" font-family=\"Helvetica,sans-Serif\" font-size=\"14.00\" fill=\"#000000\">samples = 2</text>\n<text text-anchor=\"middle\" x=\"1855.5\" y=\"-372.3\" font-family=\"Helvetica,sans-Serif\" font-size=\"14.00\" fill=\"#000000\">value = [2, 0, 0, 0]</text>\n<text text-anchor=\"middle\" x=\"1855.5\" y=\"-357.3\" font-family=\"Helvetica,sans-Serif\" font-size=\"14.00\" fill=\"#000000\">class = I</text>\n</g>\n<!-- 59&#45;&gt;61 -->\n<g id=\"edge61\" class=\"edge\">\n<title>59&#45;&gt;61</title>\n<path fill=\"none\" stroke=\"#000000\" d=\"M1758.613,-460.8796C1773.4826,-449.0038 1789.664,-436.0804 1804.4683,-424.2568\"/>\n<polygon fill=\"#000000\" stroke=\"#000000\" points=\"1806.9046,-426.7904 1812.5342,-417.8149 1802.5362,-421.3207 1806.9046,-426.7904\"/>\n</g>\n<!-- 64 -->\n<g id=\"node65\" class=\"node\">\n<title>64</title>\n<path fill=\"#5be84e\" stroke=\"#000000\" d=\"M2153,-663C2153,-663 2038,-663 2038,-663 2032,-663 2026,-657 2026,-651 2026,-651 2026,-592 2026,-592 2026,-586 2032,-580 2038,-580 2038,-580 2153,-580 2153,-580 2159,-580 2165,-586 2165,-592 2165,-592 2165,-651 2165,-651 2165,-657 2159,-663 2153,-663\"/>\n<text text-anchor=\"middle\" x=\"2095.5\" y=\"-647.8\" font-family=\"Helvetica,sans-Serif\" font-size=\"14.00\" fill=\"#000000\">doors &lt;= 1.5</text>\n<text text-anchor=\"middle\" x=\"2095.5\" y=\"-632.8\" font-family=\"Helvetica,sans-Serif\" font-size=\"14.00\" fill=\"#000000\">gini = 0.176</text>\n<text text-anchor=\"middle\" x=\"2095.5\" y=\"-617.8\" font-family=\"Helvetica,sans-Serif\" font-size=\"14.00\" fill=\"#000000\">samples = 41</text>\n<text text-anchor=\"middle\" x=\"2095.5\" y=\"-602.8\" font-family=\"Helvetica,sans-Serif\" font-size=\"14.00\" fill=\"#000000\">value = [4, 37, 0, 0]</text>\n<text text-anchor=\"middle\" x=\"2095.5\" y=\"-587.8\" font-family=\"Helvetica,sans-Serif\" font-size=\"14.00\" fill=\"#000000\">class = n</text>\n</g>\n<!-- 63&#45;&gt;64 -->\n<g id=\"edge64\" class=\"edge\">\n<title>63&#45;&gt;64</title>\n<path fill=\"none\" stroke=\"#000000\" d=\"M2095.5,-698.8796C2095.5,-690.6838 2095.5,-681.9891 2095.5,-673.5013\"/>\n<polygon fill=\"#000000\" stroke=\"#000000\" points=\"2099.0001,-673.298 2095.5,-663.2981 2092.0001,-673.2981 2099.0001,-673.298\"/>\n</g>\n<!-- 75 -->\n<g id=\"node76\" class=\"node\">\n<title>75</title>\n<path fill=\"#72eb68\" stroke=\"#000000\" d=\"M2388,-663C2388,-663 2273,-663 2273,-663 2267,-663 2261,-657 2261,-651 2261,-651 2261,-592 2261,-592 2261,-586 2267,-580 2273,-580 2273,-580 2388,-580 2388,-580 2394,-580 2400,-586 2400,-592 2400,-592 2400,-651 2400,-651 2400,-657 2394,-663 2388,-663\"/>\n<text text-anchor=\"middle\" x=\"2330.5\" y=\"-647.8\" font-family=\"Helvetica,sans-Serif\" font-size=\"14.00\" fill=\"#000000\">buying &lt;= 2.5</text>\n<text text-anchor=\"middle\" x=\"2330.5\" y=\"-632.8\" font-family=\"Helvetica,sans-Serif\" font-size=\"14.00\" fill=\"#000000\">gini = 0.308</text>\n<text text-anchor=\"middle\" x=\"2330.5\" y=\"-617.8\" font-family=\"Helvetica,sans-Serif\" font-size=\"14.00\" fill=\"#000000\">samples = 42</text>\n<text text-anchor=\"middle\" x=\"2330.5\" y=\"-602.8\" font-family=\"Helvetica,sans-Serif\" font-size=\"14.00\" fill=\"#000000\">value = [0, 34, 8, 0]</text>\n<text text-anchor=\"middle\" x=\"2330.5\" y=\"-587.8\" font-family=\"Helvetica,sans-Serif\" font-size=\"14.00\" fill=\"#000000\">class = n</text>\n</g>\n<!-- 63&#45;&gt;75 -->\n<g id=\"edge75\" class=\"edge\">\n<title>63&#45;&gt;75</title>\n<path fill=\"none\" stroke=\"#000000\" d=\"M2165.0539,-705.2791C2192.2881,-691.4882 2223.6701,-675.5968 2251.7332,-661.3862\"/>\n<polygon fill=\"#000000\" stroke=\"#000000\" points=\"2253.3783,-664.4763 2260.7185,-656.8362 2250.2159,-658.2314 2253.3783,-664.4763\"/>\n</g>\n<!-- 65 -->\n<g id=\"node66\" class=\"node\">\n<title>65</title>\n<path fill=\"#78ec6e\" stroke=\"#000000\" d=\"M2074,-544C2074,-544 1959,-544 1959,-544 1953,-544 1947,-538 1947,-532 1947,-532 1947,-473 1947,-473 1947,-467 1953,-461 1959,-461 1959,-461 2074,-461 2074,-461 2080,-461 2086,-467 2086,-473 2086,-473 2086,-532 2086,-532 2086,-538 2080,-544 2074,-544\"/>\n<text text-anchor=\"middle\" x=\"2016.5\" y=\"-528.8\" font-family=\"Helvetica,sans-Serif\" font-size=\"14.00\" fill=\"#000000\">lug_boot &lt;= 1.5</text>\n<text text-anchor=\"middle\" x=\"2016.5\" y=\"-513.8\" font-family=\"Helvetica,sans-Serif\" font-size=\"14.00\" fill=\"#000000\">gini = 0.332</text>\n<text text-anchor=\"middle\" x=\"2016.5\" y=\"-498.8\" font-family=\"Helvetica,sans-Serif\" font-size=\"14.00\" fill=\"#000000\">samples = 19</text>\n<text text-anchor=\"middle\" x=\"2016.5\" y=\"-483.8\" font-family=\"Helvetica,sans-Serif\" font-size=\"14.00\" fill=\"#000000\">value = [4, 15, 0, 0]</text>\n<text text-anchor=\"middle\" x=\"2016.5\" y=\"-468.8\" font-family=\"Helvetica,sans-Serif\" font-size=\"14.00\" fill=\"#000000\">class = n</text>\n</g>\n<!-- 64&#45;&gt;65 -->\n<g id=\"edge65\" class=\"edge\">\n<title>64&#45;&gt;65</title>\n<path fill=\"none\" stroke=\"#000000\" d=\"M2067.8696,-579.8796C2062.07,-571.1434 2055.8941,-561.8404 2049.9092,-552.8253\"/>\n<polygon fill=\"#000000\" stroke=\"#000000\" points=\"2052.6951,-550.6935 2044.2483,-544.2981 2046.8632,-554.5652 2052.6951,-550.6935\"/>\n</g>\n<!-- 74 -->\n<g id=\"node75\" class=\"node\">\n<title>74</title>\n<path fill=\"#47e539\" stroke=\"#000000\" d=\"M2231,-536.5C2231,-536.5 2116,-536.5 2116,-536.5 2110,-536.5 2104,-530.5 2104,-524.5 2104,-524.5 2104,-480.5 2104,-480.5 2104,-474.5 2110,-468.5 2116,-468.5 2116,-468.5 2231,-468.5 2231,-468.5 2237,-468.5 2243,-474.5 2243,-480.5 2243,-480.5 2243,-524.5 2243,-524.5 2243,-530.5 2237,-536.5 2231,-536.5\"/>\n<text text-anchor=\"middle\" x=\"2173.5\" y=\"-521.3\" font-family=\"Helvetica,sans-Serif\" font-size=\"14.00\" fill=\"#000000\">gini = 0.0</text>\n<text text-anchor=\"middle\" x=\"2173.5\" y=\"-506.3\" font-family=\"Helvetica,sans-Serif\" font-size=\"14.00\" fill=\"#000000\">samples = 22</text>\n<text text-anchor=\"middle\" x=\"2173.5\" y=\"-491.3\" font-family=\"Helvetica,sans-Serif\" font-size=\"14.00\" fill=\"#000000\">value = [0, 22, 0, 0]</text>\n<text text-anchor=\"middle\" x=\"2173.5\" y=\"-476.3\" font-family=\"Helvetica,sans-Serif\" font-size=\"14.00\" fill=\"#000000\">class = n</text>\n</g>\n<!-- 64&#45;&gt;74 -->\n<g id=\"edge74\" class=\"edge\">\n<title>64&#45;&gt;74</title>\n<path fill=\"none\" stroke=\"#000000\" d=\"M2122.7806,-579.8796C2130.1323,-568.6636 2138.0964,-556.5131 2145.4874,-545.2372\"/>\n<polygon fill=\"#000000\" stroke=\"#000000\" points=\"2148.4531,-547.0972 2151.0079,-536.8149 2142.5986,-543.2598 2148.4531,-547.0972\"/>\n</g>\n<!-- 66 -->\n<g id=\"node67\" class=\"node\">\n<title>66</title>\n<path fill=\"#ffffff\" stroke=\"#000000\" d=\"M2064,-425C2064,-425 1957,-425 1957,-425 1951,-425 1945,-419 1945,-413 1945,-413 1945,-354 1945,-354 1945,-348 1951,-342 1957,-342 1957,-342 2064,-342 2064,-342 2070,-342 2076,-348 2076,-354 2076,-354 2076,-413 2076,-413 2076,-419 2070,-425 2064,-425\"/>\n<text text-anchor=\"middle\" x=\"2010.5\" y=\"-409.8\" font-family=\"Helvetica,sans-Serif\" font-size=\"14.00\" fill=\"#000000\">buying &lt;= 2.5</text>\n<text text-anchor=\"middle\" x=\"2010.5\" y=\"-394.8\" font-family=\"Helvetica,sans-Serif\" font-size=\"14.00\" fill=\"#000000\">gini = 0.5</text>\n<text text-anchor=\"middle\" x=\"2010.5\" y=\"-379.8\" font-family=\"Helvetica,sans-Serif\" font-size=\"14.00\" fill=\"#000000\">samples = 8</text>\n<text text-anchor=\"middle\" x=\"2010.5\" y=\"-364.8\" font-family=\"Helvetica,sans-Serif\" font-size=\"14.00\" fill=\"#000000\">value = [4, 4, 0, 0]</text>\n<text text-anchor=\"middle\" x=\"2010.5\" y=\"-349.8\" font-family=\"Helvetica,sans-Serif\" font-size=\"14.00\" fill=\"#000000\">class = I</text>\n</g>\n<!-- 65&#45;&gt;66 -->\n<g id=\"edge66\" class=\"edge\">\n<title>65&#45;&gt;66</title>\n<path fill=\"none\" stroke=\"#000000\" d=\"M2014.4015,-460.8796C2013.9883,-452.6838 2013.5499,-443.9891 2013.1219,-435.5013\"/>\n<polygon fill=\"#000000\" stroke=\"#000000\" points=\"2016.6067,-435.1091 2012.6075,-425.2981 2009.6156,-435.4617 2016.6067,-435.1091\"/>\n</g>\n<!-- 73 -->\n<g id=\"node74\" class=\"node\">\n<title>73</title>\n<path fill=\"#47e539\" stroke=\"#000000\" d=\"M2221,-417.5C2221,-417.5 2106,-417.5 2106,-417.5 2100,-417.5 2094,-411.5 2094,-405.5 2094,-405.5 2094,-361.5 2094,-361.5 2094,-355.5 2100,-349.5 2106,-349.5 2106,-349.5 2221,-349.5 2221,-349.5 2227,-349.5 2233,-355.5 2233,-361.5 2233,-361.5 2233,-405.5 2233,-405.5 2233,-411.5 2227,-417.5 2221,-417.5\"/>\n<text text-anchor=\"middle\" x=\"2163.5\" y=\"-402.3\" font-family=\"Helvetica,sans-Serif\" font-size=\"14.00\" fill=\"#000000\">gini = 0.0</text>\n<text text-anchor=\"middle\" x=\"2163.5\" y=\"-387.3\" font-family=\"Helvetica,sans-Serif\" font-size=\"14.00\" fill=\"#000000\">samples = 11</text>\n<text text-anchor=\"middle\" x=\"2163.5\" y=\"-372.3\" font-family=\"Helvetica,sans-Serif\" font-size=\"14.00\" fill=\"#000000\">value = [0, 11, 0, 0]</text>\n<text text-anchor=\"middle\" x=\"2163.5\" y=\"-357.3\" font-family=\"Helvetica,sans-Serif\" font-size=\"14.00\" fill=\"#000000\">class = n</text>\n</g>\n<!-- 65&#45;&gt;73 -->\n<g id=\"edge73\" class=\"edge\">\n<title>65&#45;&gt;73</title>\n<path fill=\"none\" stroke=\"#000000\" d=\"M2067.9135,-460.8796C2082.5835,-449.0038 2098.5477,-436.0804 2113.1533,-424.2568\"/>\n<polygon fill=\"#000000\" stroke=\"#000000\" points=\"2115.5407,-426.8273 2121.111,-417.8149 2111.1363,-421.3866 2115.5407,-426.8273\"/>\n</g>\n<!-- 67 -->\n<g id=\"node68\" class=\"node\">\n<title>67</title>\n<path fill=\"#e58139\" stroke=\"#000000\" d=\"M1990,-298.5C1990,-298.5 1883,-298.5 1883,-298.5 1877,-298.5 1871,-292.5 1871,-286.5 1871,-286.5 1871,-242.5 1871,-242.5 1871,-236.5 1877,-230.5 1883,-230.5 1883,-230.5 1990,-230.5 1990,-230.5 1996,-230.5 2002,-236.5 2002,-242.5 2002,-242.5 2002,-286.5 2002,-286.5 2002,-292.5 1996,-298.5 1990,-298.5\"/>\n<text text-anchor=\"middle\" x=\"1936.5\" y=\"-283.3\" font-family=\"Helvetica,sans-Serif\" font-size=\"14.00\" fill=\"#000000\">gini = 0.0</text>\n<text text-anchor=\"middle\" x=\"1936.5\" y=\"-268.3\" font-family=\"Helvetica,sans-Serif\" font-size=\"14.00\" fill=\"#000000\">samples = 3</text>\n<text text-anchor=\"middle\" x=\"1936.5\" y=\"-253.3\" font-family=\"Helvetica,sans-Serif\" font-size=\"14.00\" fill=\"#000000\">value = [3, 0, 0, 0]</text>\n<text text-anchor=\"middle\" x=\"1936.5\" y=\"-238.3\" font-family=\"Helvetica,sans-Serif\" font-size=\"14.00\" fill=\"#000000\">class = I</text>\n</g>\n<!-- 66&#45;&gt;67 -->\n<g id=\"edge67\" class=\"edge\">\n<title>66&#45;&gt;67</title>\n<path fill=\"none\" stroke=\"#000000\" d=\"M1984.6184,-341.8796C1977.7121,-330.7735 1970.2361,-318.7513 1963.2825,-307.5691\"/>\n<polygon fill=\"#000000\" stroke=\"#000000\" points=\"1966.0917,-305.4587 1957.8387,-298.8149 1960.1473,-309.1552 1966.0917,-305.4587\"/>\n</g>\n<!-- 68 -->\n<g id=\"node69\" class=\"node\">\n<title>68</title>\n<path fill=\"#75ec6a\" stroke=\"#000000\" d=\"M2139,-306C2139,-306 2032,-306 2032,-306 2026,-306 2020,-300 2020,-294 2020,-294 2020,-235 2020,-235 2020,-229 2026,-223 2032,-223 2032,-223 2139,-223 2139,-223 2145,-223 2151,-229 2151,-235 2151,-235 2151,-294 2151,-294 2151,-300 2145,-306 2139,-306\"/>\n<text text-anchor=\"middle\" x=\"2085.5\" y=\"-290.8\" font-family=\"Helvetica,sans-Serif\" font-size=\"14.00\" fill=\"#000000\">maint &lt;= 0.5</text>\n<text text-anchor=\"middle\" x=\"2085.5\" y=\"-275.8\" font-family=\"Helvetica,sans-Serif\" font-size=\"14.00\" fill=\"#000000\">gini = 0.32</text>\n<text text-anchor=\"middle\" x=\"2085.5\" y=\"-260.8\" font-family=\"Helvetica,sans-Serif\" font-size=\"14.00\" fill=\"#000000\">samples = 5</text>\n<text text-anchor=\"middle\" x=\"2085.5\" y=\"-245.8\" font-family=\"Helvetica,sans-Serif\" font-size=\"14.00\" fill=\"#000000\">value = [1, 4, 0, 0]</text>\n<text text-anchor=\"middle\" x=\"2085.5\" y=\"-230.8\" font-family=\"Helvetica,sans-Serif\" font-size=\"14.00\" fill=\"#000000\">class = n</text>\n</g>\n<!-- 66&#45;&gt;68 -->\n<g id=\"edge68\" class=\"edge\">\n<title>66&#45;&gt;68</title>\n<path fill=\"none\" stroke=\"#000000\" d=\"M2036.7314,-341.8796C2042.2373,-333.1434 2048.1006,-323.8404 2053.7824,-314.8253\"/>\n<polygon fill=\"#000000\" stroke=\"#000000\" points=\"2056.7857,-316.6242 2059.1567,-306.2981 2050.8637,-312.8919 2056.7857,-316.6242\"/>\n</g>\n<!-- 69 -->\n<g id=\"node70\" class=\"node\">\n<title>69</title>\n<path fill=\"#ffffff\" stroke=\"#000000\" d=\"M2065,-187C2065,-187 1958,-187 1958,-187 1952,-187 1946,-181 1946,-175 1946,-175 1946,-116 1946,-116 1946,-110 1952,-104 1958,-104 1958,-104 2065,-104 2065,-104 2071,-104 2077,-110 2077,-116 2077,-116 2077,-175 2077,-175 2077,-181 2071,-187 2065,-187\"/>\n<text text-anchor=\"middle\" x=\"2011.5\" y=\"-171.8\" font-family=\"Helvetica,sans-Serif\" font-size=\"14.00\" fill=\"#000000\">persons &lt;= 1.5</text>\n<text text-anchor=\"middle\" x=\"2011.5\" y=\"-156.8\" font-family=\"Helvetica,sans-Serif\" font-size=\"14.00\" fill=\"#000000\">gini = 0.5</text>\n<text text-anchor=\"middle\" x=\"2011.5\" y=\"-141.8\" font-family=\"Helvetica,sans-Serif\" font-size=\"14.00\" fill=\"#000000\">samples = 2</text>\n<text text-anchor=\"middle\" x=\"2011.5\" y=\"-126.8\" font-family=\"Helvetica,sans-Serif\" font-size=\"14.00\" fill=\"#000000\">value = [1, 1, 0, 0]</text>\n<text text-anchor=\"middle\" x=\"2011.5\" y=\"-111.8\" font-family=\"Helvetica,sans-Serif\" font-size=\"14.00\" fill=\"#000000\">class = I</text>\n</g>\n<!-- 68&#45;&gt;69 -->\n<g id=\"edge69\" class=\"edge\">\n<title>68&#45;&gt;69</title>\n<path fill=\"none\" stroke=\"#000000\" d=\"M2059.6184,-222.8796C2054.1858,-214.1434 2048.4008,-204.8404 2042.7947,-195.8253\"/>\n<polygon fill=\"#000000\" stroke=\"#000000\" points=\"2045.7451,-193.9418 2037.4921,-187.2981 2039.8007,-197.6383 2045.7451,-193.9418\"/>\n</g>\n<!-- 72 -->\n<g id=\"node73\" class=\"node\">\n<title>72</title>\n<path fill=\"#47e539\" stroke=\"#000000\" d=\"M2214,-179.5C2214,-179.5 2107,-179.5 2107,-179.5 2101,-179.5 2095,-173.5 2095,-167.5 2095,-167.5 2095,-123.5 2095,-123.5 2095,-117.5 2101,-111.5 2107,-111.5 2107,-111.5 2214,-111.5 2214,-111.5 2220,-111.5 2226,-117.5 2226,-123.5 2226,-123.5 2226,-167.5 2226,-167.5 2226,-173.5 2220,-179.5 2214,-179.5\"/>\n<text text-anchor=\"middle\" x=\"2160.5\" y=\"-164.3\" font-family=\"Helvetica,sans-Serif\" font-size=\"14.00\" fill=\"#000000\">gini = 0.0</text>\n<text text-anchor=\"middle\" x=\"2160.5\" y=\"-149.3\" font-family=\"Helvetica,sans-Serif\" font-size=\"14.00\" fill=\"#000000\">samples = 3</text>\n<text text-anchor=\"middle\" x=\"2160.5\" y=\"-134.3\" font-family=\"Helvetica,sans-Serif\" font-size=\"14.00\" fill=\"#000000\">value = [0, 3, 0, 0]</text>\n<text text-anchor=\"middle\" x=\"2160.5\" y=\"-119.3\" font-family=\"Helvetica,sans-Serif\" font-size=\"14.00\" fill=\"#000000\">class = n</text>\n</g>\n<!-- 68&#45;&gt;72 -->\n<g id=\"edge72\" class=\"edge\">\n<title>68&#45;&gt;72</title>\n<path fill=\"none\" stroke=\"#000000\" d=\"M2111.7314,-222.8796C2118.731,-211.7735 2126.308,-199.7513 2133.3556,-188.5691\"/>\n<polygon fill=\"#000000\" stroke=\"#000000\" points=\"2136.502,-190.1411 2138.8729,-179.8149 2130.58,-186.4087 2136.502,-190.1411\"/>\n</g>\n<!-- 70 -->\n<g id=\"node71\" class=\"node\">\n<title>70</title>\n<path fill=\"#e58139\" stroke=\"#000000\" d=\"M1990,-68C1990,-68 1883,-68 1883,-68 1877,-68 1871,-62 1871,-56 1871,-56 1871,-12 1871,-12 1871,-6 1877,0 1883,0 1883,0 1990,0 1990,0 1996,0 2002,-6 2002,-12 2002,-12 2002,-56 2002,-56 2002,-62 1996,-68 1990,-68\"/>\n<text text-anchor=\"middle\" x=\"1936.5\" y=\"-52.8\" font-family=\"Helvetica,sans-Serif\" font-size=\"14.00\" fill=\"#000000\">gini = 0.0</text>\n<text text-anchor=\"middle\" x=\"1936.5\" y=\"-37.8\" font-family=\"Helvetica,sans-Serif\" font-size=\"14.00\" fill=\"#000000\">samples = 1</text>\n<text text-anchor=\"middle\" x=\"1936.5\" y=\"-22.8\" font-family=\"Helvetica,sans-Serif\" font-size=\"14.00\" fill=\"#000000\">value = [1, 0, 0, 0]</text>\n<text text-anchor=\"middle\" x=\"1936.5\" y=\"-7.8\" font-family=\"Helvetica,sans-Serif\" font-size=\"14.00\" fill=\"#000000\">class = I</text>\n</g>\n<!-- 69&#45;&gt;70 -->\n<g id=\"edge70\" class=\"edge\">\n<title>69&#45;&gt;70</title>\n<path fill=\"none\" stroke=\"#000000\" d=\"M1983.5728,-103.9815C1977.5762,-95.0666 1971.2296,-85.6313 1965.2041,-76.6734\"/>\n<polygon fill=\"#000000\" stroke=\"#000000\" points=\"1968.0328,-74.6078 1959.5473,-68.2637 1962.2245,-78.5147 1968.0328,-74.6078\"/>\n</g>\n<!-- 71 -->\n<g id=\"node72\" class=\"node\">\n<title>71</title>\n<path fill=\"#47e539\" stroke=\"#000000\" d=\"M2139,-68C2139,-68 2032,-68 2032,-68 2026,-68 2020,-62 2020,-56 2020,-56 2020,-12 2020,-12 2020,-6 2026,0 2032,0 2032,0 2139,0 2139,0 2145,0 2151,-6 2151,-12 2151,-12 2151,-56 2151,-56 2151,-62 2145,-68 2139,-68\"/>\n<text text-anchor=\"middle\" x=\"2085.5\" y=\"-52.8\" font-family=\"Helvetica,sans-Serif\" font-size=\"14.00\" fill=\"#000000\">gini = 0.0</text>\n<text text-anchor=\"middle\" x=\"2085.5\" y=\"-37.8\" font-family=\"Helvetica,sans-Serif\" font-size=\"14.00\" fill=\"#000000\">samples = 1</text>\n<text text-anchor=\"middle\" x=\"2085.5\" y=\"-22.8\" font-family=\"Helvetica,sans-Serif\" font-size=\"14.00\" fill=\"#000000\">value = [0, 1, 0, 0]</text>\n<text text-anchor=\"middle\" x=\"2085.5\" y=\"-7.8\" font-family=\"Helvetica,sans-Serif\" font-size=\"14.00\" fill=\"#000000\">class = n</text>\n</g>\n<!-- 69&#45;&gt;71 -->\n<g id=\"edge71\" class=\"edge\">\n<title>69&#45;&gt;71</title>\n<path fill=\"none\" stroke=\"#000000\" d=\"M2039.0549,-103.9815C2044.9715,-95.0666 2051.2335,-85.6313 2057.1787,-76.6734\"/>\n<polygon fill=\"#000000\" stroke=\"#000000\" points=\"2060.1464,-78.5311 2062.76,-68.2637 2054.314,-74.6602 2060.1464,-78.5311\"/>\n</g>\n<!-- 76 -->\n<g id=\"node77\" class=\"node\">\n<title>76</title>\n<path fill=\"#47e539\" stroke=\"#000000\" d=\"M2388,-536.5C2388,-536.5 2273,-536.5 2273,-536.5 2267,-536.5 2261,-530.5 2261,-524.5 2261,-524.5 2261,-480.5 2261,-480.5 2261,-474.5 2267,-468.5 2273,-468.5 2273,-468.5 2388,-468.5 2388,-468.5 2394,-468.5 2400,-474.5 2400,-480.5 2400,-480.5 2400,-524.5 2400,-524.5 2400,-530.5 2394,-536.5 2388,-536.5\"/>\n<text text-anchor=\"middle\" x=\"2330.5\" y=\"-521.3\" font-family=\"Helvetica,sans-Serif\" font-size=\"14.00\" fill=\"#000000\">gini = 0.0</text>\n<text text-anchor=\"middle\" x=\"2330.5\" y=\"-506.3\" font-family=\"Helvetica,sans-Serif\" font-size=\"14.00\" fill=\"#000000\">samples = 21</text>\n<text text-anchor=\"middle\" x=\"2330.5\" y=\"-491.3\" font-family=\"Helvetica,sans-Serif\" font-size=\"14.00\" fill=\"#000000\">value = [0, 21, 0, 0]</text>\n<text text-anchor=\"middle\" x=\"2330.5\" y=\"-476.3\" font-family=\"Helvetica,sans-Serif\" font-size=\"14.00\" fill=\"#000000\">class = n</text>\n</g>\n<!-- 75&#45;&gt;76 -->\n<g id=\"edge76\" class=\"edge\">\n<title>75&#45;&gt;76</title>\n<path fill=\"none\" stroke=\"#000000\" d=\"M2330.5,-579.8796C2330.5,-569.2134 2330.5,-557.7021 2330.5,-546.9015\"/>\n<polygon fill=\"#000000\" stroke=\"#000000\" points=\"2334.0001,-546.8149 2330.5,-536.8149 2327.0001,-546.815 2334.0001,-546.8149\"/>\n</g>\n<!-- 77 -->\n<g id=\"node78\" class=\"node\">\n<title>77</title>\n<path fill=\"#b8f5b3\" stroke=\"#000000\" d=\"M2545,-544C2545,-544 2430,-544 2430,-544 2424,-544 2418,-538 2418,-532 2418,-532 2418,-473 2418,-473 2418,-467 2424,-461 2430,-461 2430,-461 2545,-461 2545,-461 2551,-461 2557,-467 2557,-473 2557,-473 2557,-532 2557,-532 2557,-538 2551,-544 2545,-544\"/>\n<text text-anchor=\"middle\" x=\"2487.5\" y=\"-528.8\" font-family=\"Helvetica,sans-Serif\" font-size=\"14.00\" fill=\"#000000\">maint &lt;= 0.5</text>\n<text text-anchor=\"middle\" x=\"2487.5\" y=\"-513.8\" font-family=\"Helvetica,sans-Serif\" font-size=\"14.00\" fill=\"#000000\">gini = 0.472</text>\n<text text-anchor=\"middle\" x=\"2487.5\" y=\"-498.8\" font-family=\"Helvetica,sans-Serif\" font-size=\"14.00\" fill=\"#000000\">samples = 21</text>\n<text text-anchor=\"middle\" x=\"2487.5\" y=\"-483.8\" font-family=\"Helvetica,sans-Serif\" font-size=\"14.00\" fill=\"#000000\">value = [0, 13, 8, 0]</text>\n<text text-anchor=\"middle\" x=\"2487.5\" y=\"-468.8\" font-family=\"Helvetica,sans-Serif\" font-size=\"14.00\" fill=\"#000000\">class = n</text>\n</g>\n<!-- 75&#45;&gt;77 -->\n<g id=\"edge77\" class=\"edge\">\n<title>75&#45;&gt;77</title>\n<path fill=\"none\" stroke=\"#000000\" d=\"M2385.411,-579.8796C2398.0794,-570.2774 2411.6515,-559.9903 2424.6295,-550.1534\"/>\n<polygon fill=\"#000000\" stroke=\"#000000\" points=\"2426.7648,-552.9268 2432.62,-544.0969 2422.5364,-547.3482 2426.7648,-552.9268\"/>\n</g>\n<!-- 78 -->\n<g id=\"node79\" class=\"node\">\n<title>78</title>\n<path fill=\"#47e539\" stroke=\"#000000\" d=\"M2392,-417.5C2392,-417.5 2277,-417.5 2277,-417.5 2271,-417.5 2265,-411.5 2265,-405.5 2265,-405.5 2265,-361.5 2265,-361.5 2265,-355.5 2271,-349.5 2277,-349.5 2277,-349.5 2392,-349.5 2392,-349.5 2398,-349.5 2404,-355.5 2404,-361.5 2404,-361.5 2404,-405.5 2404,-405.5 2404,-411.5 2398,-417.5 2392,-417.5\"/>\n<text text-anchor=\"middle\" x=\"2334.5\" y=\"-402.3\" font-family=\"Helvetica,sans-Serif\" font-size=\"14.00\" fill=\"#000000\">gini = 0.0</text>\n<text text-anchor=\"middle\" x=\"2334.5\" y=\"-387.3\" font-family=\"Helvetica,sans-Serif\" font-size=\"14.00\" fill=\"#000000\">samples = 10</text>\n<text text-anchor=\"middle\" x=\"2334.5\" y=\"-372.3\" font-family=\"Helvetica,sans-Serif\" font-size=\"14.00\" fill=\"#000000\">value = [0, 10, 0, 0]</text>\n<text text-anchor=\"middle\" x=\"2334.5\" y=\"-357.3\" font-family=\"Helvetica,sans-Serif\" font-size=\"14.00\" fill=\"#000000\">class = n</text>\n</g>\n<!-- 77&#45;&gt;78 -->\n<g id=\"edge78\" class=\"edge\">\n<title>77&#45;&gt;78</title>\n<path fill=\"none\" stroke=\"#000000\" d=\"M2433.988,-460.8796C2418.7192,-449.0038 2402.1034,-436.0804 2386.9016,-424.2568\"/>\n<polygon fill=\"#000000\" stroke=\"#000000\" points=\"2388.6616,-421.1916 2378.6192,-417.8149 2384.3639,-426.7171 2388.6616,-421.1916\"/>\n</g>\n<!-- 79 -->\n<g id=\"node80\" class=\"node\">\n<title>79</title>\n<path fill=\"#83c2ef\" stroke=\"#000000\" d=\"M2541,-425C2541,-425 2434,-425 2434,-425 2428,-425 2422,-419 2422,-413 2422,-413 2422,-354 2422,-354 2422,-348 2428,-342 2434,-342 2434,-342 2541,-342 2541,-342 2547,-342 2553,-348 2553,-354 2553,-354 2553,-413 2553,-413 2553,-419 2547,-425 2541,-425\"/>\n<text text-anchor=\"middle\" x=\"2487.5\" y=\"-409.8\" font-family=\"Helvetica,sans-Serif\" font-size=\"14.00\" fill=\"#000000\">lug_boot &lt;= 1.5</text>\n<text text-anchor=\"middle\" x=\"2487.5\" y=\"-394.8\" font-family=\"Helvetica,sans-Serif\" font-size=\"14.00\" fill=\"#000000\">gini = 0.397</text>\n<text text-anchor=\"middle\" x=\"2487.5\" y=\"-379.8\" font-family=\"Helvetica,sans-Serif\" font-size=\"14.00\" fill=\"#000000\">samples = 11</text>\n<text text-anchor=\"middle\" x=\"2487.5\" y=\"-364.8\" font-family=\"Helvetica,sans-Serif\" font-size=\"14.00\" fill=\"#000000\">value = [0, 3, 8, 0]</text>\n<text text-anchor=\"middle\" x=\"2487.5\" y=\"-349.8\" font-family=\"Helvetica,sans-Serif\" font-size=\"14.00\" fill=\"#000000\">class = d</text>\n</g>\n<!-- 77&#45;&gt;79 -->\n<g id=\"edge79\" class=\"edge\">\n<title>77&#45;&gt;79</title>\n<path fill=\"none\" stroke=\"#000000\" d=\"M2487.5,-460.8796C2487.5,-452.6838 2487.5,-443.9891 2487.5,-435.5013\"/>\n<polygon fill=\"#000000\" stroke=\"#000000\" points=\"2491.0001,-435.298 2487.5,-425.2981 2484.0001,-435.2981 2491.0001,-435.298\"/>\n</g>\n<!-- 80 -->\n<g id=\"node81\" class=\"node\">\n<title>80</title>\n<path fill=\"#c2f6bd\" stroke=\"#000000\" d=\"M2492,-306C2492,-306 2385,-306 2385,-306 2379,-306 2373,-300 2373,-294 2373,-294 2373,-235 2373,-235 2373,-229 2379,-223 2385,-223 2385,-223 2492,-223 2492,-223 2498,-223 2504,-229 2504,-235 2504,-235 2504,-294 2504,-294 2504,-300 2498,-306 2492,-306\"/>\n<text text-anchor=\"middle\" x=\"2438.5\" y=\"-290.8\" font-family=\"Helvetica,sans-Serif\" font-size=\"14.00\" fill=\"#000000\">doors &lt;= 1.5</text>\n<text text-anchor=\"middle\" x=\"2438.5\" y=\"-275.8\" font-family=\"Helvetica,sans-Serif\" font-size=\"14.00\" fill=\"#000000\">gini = 0.48</text>\n<text text-anchor=\"middle\" x=\"2438.5\" y=\"-260.8\" font-family=\"Helvetica,sans-Serif\" font-size=\"14.00\" fill=\"#000000\">samples = 5</text>\n<text text-anchor=\"middle\" x=\"2438.5\" y=\"-245.8\" font-family=\"Helvetica,sans-Serif\" font-size=\"14.00\" fill=\"#000000\">value = [0, 3, 2, 0]</text>\n<text text-anchor=\"middle\" x=\"2438.5\" y=\"-230.8\" font-family=\"Helvetica,sans-Serif\" font-size=\"14.00\" fill=\"#000000\">class = n</text>\n</g>\n<!-- 79&#45;&gt;80 -->\n<g id=\"edge80\" class=\"edge\">\n<title>79&#45;&gt;80</title>\n<path fill=\"none\" stroke=\"#000000\" d=\"M2470.3622,-341.8796C2466.8762,-333.4136 2463.171,-324.4153 2459.5669,-315.6626\"/>\n<polygon fill=\"#000000\" stroke=\"#000000\" points=\"2462.7549,-314.2122 2455.711,-306.2981 2456.2822,-316.8775 2462.7549,-314.2122\"/>\n</g>\n<!-- 83 -->\n<g id=\"node84\" class=\"node\">\n<title>83</title>\n<path fill=\"#399de5\" stroke=\"#000000\" d=\"M2641,-298.5C2641,-298.5 2534,-298.5 2534,-298.5 2528,-298.5 2522,-292.5 2522,-286.5 2522,-286.5 2522,-242.5 2522,-242.5 2522,-236.5 2528,-230.5 2534,-230.5 2534,-230.5 2641,-230.5 2641,-230.5 2647,-230.5 2653,-236.5 2653,-242.5 2653,-242.5 2653,-286.5 2653,-286.5 2653,-292.5 2647,-298.5 2641,-298.5\"/>\n<text text-anchor=\"middle\" x=\"2587.5\" y=\"-283.3\" font-family=\"Helvetica,sans-Serif\" font-size=\"14.00\" fill=\"#000000\">gini = 0.0</text>\n<text text-anchor=\"middle\" x=\"2587.5\" y=\"-268.3\" font-family=\"Helvetica,sans-Serif\" font-size=\"14.00\" fill=\"#000000\">samples = 6</text>\n<text text-anchor=\"middle\" x=\"2587.5\" y=\"-253.3\" font-family=\"Helvetica,sans-Serif\" font-size=\"14.00\" fill=\"#000000\">value = [0, 0, 6, 0]</text>\n<text text-anchor=\"middle\" x=\"2587.5\" y=\"-238.3\" font-family=\"Helvetica,sans-Serif\" font-size=\"14.00\" fill=\"#000000\">class = d</text>\n</g>\n<!-- 79&#45;&gt;83 -->\n<g id=\"edge83\" class=\"edge\">\n<title>79&#45;&gt;83</title>\n<path fill=\"none\" stroke=\"#000000\" d=\"M2522.4751,-341.8796C2532.0852,-330.4436 2542.5115,-318.0363 2552.1429,-306.575\"/>\n<polygon fill=\"#000000\" stroke=\"#000000\" points=\"2554.91,-308.7225 2558.6639,-298.8149 2549.5509,-304.219 2554.91,-308.7225\"/>\n</g>\n<!-- 81 -->\n<g id=\"node82\" class=\"node\">\n<title>81</title>\n<path fill=\"#47e539\" stroke=\"#000000\" d=\"M2468,-179.5C2468,-179.5 2361,-179.5 2361,-179.5 2355,-179.5 2349,-173.5 2349,-167.5 2349,-167.5 2349,-123.5 2349,-123.5 2349,-117.5 2355,-111.5 2361,-111.5 2361,-111.5 2468,-111.5 2468,-111.5 2474,-111.5 2480,-117.5 2480,-123.5 2480,-123.5 2480,-167.5 2480,-167.5 2480,-173.5 2474,-179.5 2468,-179.5\"/>\n<text text-anchor=\"middle\" x=\"2414.5\" y=\"-164.3\" font-family=\"Helvetica,sans-Serif\" font-size=\"14.00\" fill=\"#000000\">gini = 0.0</text>\n<text text-anchor=\"middle\" x=\"2414.5\" y=\"-149.3\" font-family=\"Helvetica,sans-Serif\" font-size=\"14.00\" fill=\"#000000\">samples = 3</text>\n<text text-anchor=\"middle\" x=\"2414.5\" y=\"-134.3\" font-family=\"Helvetica,sans-Serif\" font-size=\"14.00\" fill=\"#000000\">value = [0, 3, 0, 0]</text>\n<text text-anchor=\"middle\" x=\"2414.5\" y=\"-119.3\" font-family=\"Helvetica,sans-Serif\" font-size=\"14.00\" fill=\"#000000\">class = n</text>\n</g>\n<!-- 80&#45;&gt;81 -->\n<g id=\"edge81\" class=\"edge\">\n<title>80&#45;&gt;81</title>\n<path fill=\"none\" stroke=\"#000000\" d=\"M2430.106,-222.8796C2427.9548,-212.2134 2425.6332,-200.7021 2423.4549,-189.9015\"/>\n<polygon fill=\"#000000\" stroke=\"#000000\" points=\"2426.8287,-188.9256 2421.4207,-179.8149 2419.9668,-190.3095 2426.8287,-188.9256\"/>\n</g>\n<!-- 82 -->\n<g id=\"node83\" class=\"node\">\n<title>82</title>\n<path fill=\"#399de5\" stroke=\"#000000\" d=\"M2617,-179.5C2617,-179.5 2510,-179.5 2510,-179.5 2504,-179.5 2498,-173.5 2498,-167.5 2498,-167.5 2498,-123.5 2498,-123.5 2498,-117.5 2504,-111.5 2510,-111.5 2510,-111.5 2617,-111.5 2617,-111.5 2623,-111.5 2629,-117.5 2629,-123.5 2629,-123.5 2629,-167.5 2629,-167.5 2629,-173.5 2623,-179.5 2617,-179.5\"/>\n<text text-anchor=\"middle\" x=\"2563.5\" y=\"-164.3\" font-family=\"Helvetica,sans-Serif\" font-size=\"14.00\" fill=\"#000000\">gini = 0.0</text>\n<text text-anchor=\"middle\" x=\"2563.5\" y=\"-149.3\" font-family=\"Helvetica,sans-Serif\" font-size=\"14.00\" fill=\"#000000\">samples = 2</text>\n<text text-anchor=\"middle\" x=\"2563.5\" y=\"-134.3\" font-family=\"Helvetica,sans-Serif\" font-size=\"14.00\" fill=\"#000000\">value = [0, 0, 2, 0]</text>\n<text text-anchor=\"middle\" x=\"2563.5\" y=\"-119.3\" font-family=\"Helvetica,sans-Serif\" font-size=\"14.00\" fill=\"#000000\">class = d</text>\n</g>\n<!-- 80&#45;&gt;82 -->\n<g id=\"edge82\" class=\"edge\">\n<title>80&#45;&gt;82</title>\n<path fill=\"none\" stroke=\"#000000\" d=\"M2482.2189,-222.8796C2494.4625,-211.2237 2507.7661,-198.5587 2519.9971,-186.9148\"/>\n<polygon fill=\"#000000\" stroke=\"#000000\" points=\"2522.6254,-189.245 2527.4549,-179.8149 2517.7988,-184.1751 2522.6254,-189.245\"/>\n</g>\n<!-- 85 -->\n<g id=\"node86\" class=\"node\">\n<title>85</title>\n<path fill=\"#d7f9d4\" stroke=\"#000000\" d=\"M3064,-782C3064,-782 2941,-782 2941,-782 2935,-782 2929,-776 2929,-770 2929,-770 2929,-711 2929,-711 2929,-705 2935,-699 2941,-699 2941,-699 3064,-699 3064,-699 3070,-699 3076,-705 3076,-711 3076,-711 3076,-770 3076,-770 3076,-776 3070,-782 3064,-782\"/>\n<text text-anchor=\"middle\" x=\"3002.5\" y=\"-766.8\" font-family=\"Helvetica,sans-Serif\" font-size=\"14.00\" fill=\"#000000\">lug_boot &lt;= 0.5</text>\n<text text-anchor=\"middle\" x=\"3002.5\" y=\"-751.8\" font-family=\"Helvetica,sans-Serif\" font-size=\"14.00\" fill=\"#000000\">gini = 0.55</text>\n<text text-anchor=\"middle\" x=\"3002.5\" y=\"-736.8\" font-family=\"Helvetica,sans-Serif\" font-size=\"14.00\" fill=\"#000000\">samples = 62</text>\n<text text-anchor=\"middle\" x=\"3002.5\" y=\"-721.8\" font-family=\"Helvetica,sans-Serif\" font-size=\"14.00\" fill=\"#000000\">value = [4, 33, 0, 25]</text>\n<text text-anchor=\"middle\" x=\"3002.5\" y=\"-706.8\" font-family=\"Helvetica,sans-Serif\" font-size=\"14.00\" fill=\"#000000\">class = n</text>\n</g>\n<!-- 84&#45;&gt;85 -->\n<g id=\"edge85\" class=\"edge\">\n<title>84&#45;&gt;85</title>\n<path fill=\"none\" stroke=\"#000000\" d=\"M3002.5,-817.8796C3002.5,-809.6838 3002.5,-800.9891 3002.5,-792.5013\"/>\n<polygon fill=\"#000000\" stroke=\"#000000\" points=\"3006.0001,-792.298 3002.5,-782.2981 2999.0001,-792.2981 3006.0001,-792.298\"/>\n</g>\n<!-- 106 -->\n<g id=\"node107\" class=\"node\">\n<title>106</title>\n<path fill=\"#aad5f4\" stroke=\"#000000\" d=\"M3894,-782C3894,-782 3771,-782 3771,-782 3765,-782 3759,-776 3759,-770 3759,-770 3759,-711 3759,-711 3759,-705 3765,-699 3771,-699 3771,-699 3894,-699 3894,-699 3900,-699 3906,-705 3906,-711 3906,-711 3906,-770 3906,-770 3906,-776 3900,-782 3894,-782\"/>\n<text text-anchor=\"middle\" x=\"3832.5\" y=\"-766.8\" font-family=\"Helvetica,sans-Serif\" font-size=\"14.00\" fill=\"#000000\">lug_boot &lt;= 0.5</text>\n<text text-anchor=\"middle\" x=\"3832.5\" y=\"-751.8\" font-family=\"Helvetica,sans-Serif\" font-size=\"14.00\" fill=\"#000000\">gini = 0.573</text>\n<text text-anchor=\"middle\" x=\"3832.5\" y=\"-736.8\" font-family=\"Helvetica,sans-Serif\" font-size=\"14.00\" fill=\"#000000\">samples = 70</text>\n<text text-anchor=\"middle\" x=\"3832.5\" y=\"-721.8\" font-family=\"Helvetica,sans-Serif\" font-size=\"14.00\" fill=\"#000000\">value = [4, 6, 41, 19]</text>\n<text text-anchor=\"middle\" x=\"3832.5\" y=\"-706.8\" font-family=\"Helvetica,sans-Serif\" font-size=\"14.00\" fill=\"#000000\">class = d</text>\n</g>\n<!-- 84&#45;&gt;106 -->\n<g id=\"edge106\" class=\"edge\">\n<title>84&#45;&gt;106</title>\n<path fill=\"none\" stroke=\"#000000\" d=\"M3080.2113,-848.3583C3236.3683,-825.9695 3587.0537,-775.6905 3748.378,-752.5609\"/>\n<polygon fill=\"#000000\" stroke=\"#000000\" points=\"3749.3242,-755.9611 3758.7263,-751.0772 3748.3307,-749.0319 3749.3242,-755.9611\"/>\n</g>\n<!-- 86 -->\n<g id=\"node87\" class=\"node\">\n<title>86</title>\n<path fill=\"#6aea5f\" stroke=\"#000000\" d=\"M2979,-663C2979,-663 2864,-663 2864,-663 2858,-663 2852,-657 2852,-651 2852,-651 2852,-592 2852,-592 2852,-586 2858,-580 2864,-580 2864,-580 2979,-580 2979,-580 2985,-580 2991,-586 2991,-592 2991,-592 2991,-651 2991,-651 2991,-657 2985,-663 2979,-663\"/>\n<text text-anchor=\"middle\" x=\"2921.5\" y=\"-647.8\" font-family=\"Helvetica,sans-Serif\" font-size=\"14.00\" fill=\"#000000\">doors &lt;= 0.5</text>\n<text text-anchor=\"middle\" x=\"2921.5\" y=\"-632.8\" font-family=\"Helvetica,sans-Serif\" font-size=\"14.00\" fill=\"#000000\">gini = 0.269</text>\n<text text-anchor=\"middle\" x=\"2921.5\" y=\"-617.8\" font-family=\"Helvetica,sans-Serif\" font-size=\"14.00\" fill=\"#000000\">samples = 25</text>\n<text text-anchor=\"middle\" x=\"2921.5\" y=\"-602.8\" font-family=\"Helvetica,sans-Serif\" font-size=\"14.00\" fill=\"#000000\">value = [4, 21, 0, 0]</text>\n<text text-anchor=\"middle\" x=\"2921.5\" y=\"-587.8\" font-family=\"Helvetica,sans-Serif\" font-size=\"14.00\" fill=\"#000000\">class = n</text>\n</g>\n<!-- 85&#45;&gt;86 -->\n<g id=\"edge86\" class=\"edge\">\n<title>85&#45;&gt;86</title>\n<path fill=\"none\" stroke=\"#000000\" d=\"M2974.1701,-698.8796C2968.2237,-690.1434 2961.8914,-680.8404 2955.755,-671.8253\"/>\n<polygon fill=\"#000000\" stroke=\"#000000\" points=\"2958.4711,-669.5953 2949.9508,-663.2981 2952.6844,-673.5342 2958.4711,-669.5953\"/>\n</g>\n<!-- 91 -->\n<g id=\"node92\" class=\"node\">\n<title>91</title>\n<path fill=\"#ea98f1\" stroke=\"#000000\" d=\"M3144,-663C3144,-663 3021,-663 3021,-663 3015,-663 3009,-657 3009,-651 3009,-651 3009,-592 3009,-592 3009,-586 3015,-580 3021,-580 3021,-580 3144,-580 3144,-580 3150,-580 3156,-586 3156,-592 3156,-592 3156,-651 3156,-651 3156,-657 3150,-663 3144,-663\"/>\n<text text-anchor=\"middle\" x=\"3082.5\" y=\"-647.8\" font-family=\"Helvetica,sans-Serif\" font-size=\"14.00\" fill=\"#000000\">buying &lt;= 2.5</text>\n<text text-anchor=\"middle\" x=\"3082.5\" y=\"-632.8\" font-family=\"Helvetica,sans-Serif\" font-size=\"14.00\" fill=\"#000000\">gini = 0.438</text>\n<text text-anchor=\"middle\" x=\"3082.5\" y=\"-617.8\" font-family=\"Helvetica,sans-Serif\" font-size=\"14.00\" fill=\"#000000\">samples = 37</text>\n<text text-anchor=\"middle\" x=\"3082.5\" y=\"-602.8\" font-family=\"Helvetica,sans-Serif\" font-size=\"14.00\" fill=\"#000000\">value = [0, 12, 0, 25]</text>\n<text text-anchor=\"middle\" x=\"3082.5\" y=\"-587.8\" font-family=\"Helvetica,sans-Serif\" font-size=\"14.00\" fill=\"#000000\">class = e</text>\n</g>\n<!-- 85&#45;&gt;91 -->\n<g id=\"edge91\" class=\"edge\">\n<title>85&#45;&gt;91</title>\n<path fill=\"none\" stroke=\"#000000\" d=\"M3030.4801,-698.8796C3036.3531,-690.1434 3042.6073,-680.8404 3048.6679,-671.8253\"/>\n<polygon fill=\"#000000\" stroke=\"#000000\" points=\"3051.7259,-673.5498 3054.4005,-663.2981 3045.9166,-669.6444 3051.7259,-673.5498\"/>\n</g>\n<!-- 87 -->\n<g id=\"node88\" class=\"node\">\n<title>87</title>\n<path fill=\"#ffffff\" stroke=\"#000000\" d=\"M2823,-544C2823,-544 2716,-544 2716,-544 2710,-544 2704,-538 2704,-532 2704,-532 2704,-473 2704,-473 2704,-467 2710,-461 2716,-461 2716,-461 2823,-461 2823,-461 2829,-461 2835,-467 2835,-473 2835,-473 2835,-532 2835,-532 2835,-538 2829,-544 2823,-544\"/>\n<text text-anchor=\"middle\" x=\"2769.5\" y=\"-528.8\" font-family=\"Helvetica,sans-Serif\" font-size=\"14.00\" fill=\"#000000\">persons &lt;= 1.5</text>\n<text text-anchor=\"middle\" x=\"2769.5\" y=\"-513.8\" font-family=\"Helvetica,sans-Serif\" font-size=\"14.00\" fill=\"#000000\">gini = 0.5</text>\n<text text-anchor=\"middle\" x=\"2769.5\" y=\"-498.8\" font-family=\"Helvetica,sans-Serif\" font-size=\"14.00\" fill=\"#000000\">samples = 8</text>\n<text text-anchor=\"middle\" x=\"2769.5\" y=\"-483.8\" font-family=\"Helvetica,sans-Serif\" font-size=\"14.00\" fill=\"#000000\">value = [4, 4, 0, 0]</text>\n<text text-anchor=\"middle\" x=\"2769.5\" y=\"-468.8\" font-family=\"Helvetica,sans-Serif\" font-size=\"14.00\" fill=\"#000000\">class = I</text>\n</g>\n<!-- 86&#45;&gt;87 -->\n<g id=\"edge87\" class=\"edge\">\n<title>86&#45;&gt;87</title>\n<path fill=\"none\" stroke=\"#000000\" d=\"M2868.3378,-579.8796C2856.1885,-570.368 2843.1808,-560.1843 2830.724,-550.432\"/>\n<polygon fill=\"#000000\" stroke=\"#000000\" points=\"2832.6638,-547.5055 2822.6322,-544.0969 2828.3486,-553.0173 2832.6638,-547.5055\"/>\n</g>\n<!-- 90 -->\n<g id=\"node91\" class=\"node\">\n<title>90</title>\n<path fill=\"#47e539\" stroke=\"#000000\" d=\"M2980,-536.5C2980,-536.5 2865,-536.5 2865,-536.5 2859,-536.5 2853,-530.5 2853,-524.5 2853,-524.5 2853,-480.5 2853,-480.5 2853,-474.5 2859,-468.5 2865,-468.5 2865,-468.5 2980,-468.5 2980,-468.5 2986,-468.5 2992,-474.5 2992,-480.5 2992,-480.5 2992,-524.5 2992,-524.5 2992,-530.5 2986,-536.5 2980,-536.5\"/>\n<text text-anchor=\"middle\" x=\"2922.5\" y=\"-521.3\" font-family=\"Helvetica,sans-Serif\" font-size=\"14.00\" fill=\"#000000\">gini = 0.0</text>\n<text text-anchor=\"middle\" x=\"2922.5\" y=\"-506.3\" font-family=\"Helvetica,sans-Serif\" font-size=\"14.00\" fill=\"#000000\">samples = 17</text>\n<text text-anchor=\"middle\" x=\"2922.5\" y=\"-491.3\" font-family=\"Helvetica,sans-Serif\" font-size=\"14.00\" fill=\"#000000\">value = [0, 17, 0, 0]</text>\n<text text-anchor=\"middle\" x=\"2922.5\" y=\"-476.3\" font-family=\"Helvetica,sans-Serif\" font-size=\"14.00\" fill=\"#000000\">class = n</text>\n</g>\n<!-- 86&#45;&gt;90 -->\n<g id=\"edge90\" class=\"edge\">\n<title>86&#45;&gt;90</title>\n<path fill=\"none\" stroke=\"#000000\" d=\"M2921.8498,-579.8796C2921.9394,-569.2134 2922.0361,-557.7021 2922.1269,-546.9015\"/>\n<polygon fill=\"#000000\" stroke=\"#000000\" points=\"2925.6274,-546.844 2922.2116,-536.8149 2918.6276,-546.7851 2925.6274,-546.844\"/>\n</g>\n<!-- 88 -->\n<g id=\"node89\" class=\"node\">\n<title>88</title>\n<path fill=\"#47e539\" stroke=\"#000000\" d=\"M2690,-417.5C2690,-417.5 2583,-417.5 2583,-417.5 2577,-417.5 2571,-411.5 2571,-405.5 2571,-405.5 2571,-361.5 2571,-361.5 2571,-355.5 2577,-349.5 2583,-349.5 2583,-349.5 2690,-349.5 2690,-349.5 2696,-349.5 2702,-355.5 2702,-361.5 2702,-361.5 2702,-405.5 2702,-405.5 2702,-411.5 2696,-417.5 2690,-417.5\"/>\n<text text-anchor=\"middle\" x=\"2636.5\" y=\"-402.3\" font-family=\"Helvetica,sans-Serif\" font-size=\"14.00\" fill=\"#000000\">gini = 0.0</text>\n<text text-anchor=\"middle\" x=\"2636.5\" y=\"-387.3\" font-family=\"Helvetica,sans-Serif\" font-size=\"14.00\" fill=\"#000000\">samples = 4</text>\n<text text-anchor=\"middle\" x=\"2636.5\" y=\"-372.3\" font-family=\"Helvetica,sans-Serif\" font-size=\"14.00\" fill=\"#000000\">value = [0, 4, 0, 0]</text>\n<text text-anchor=\"middle\" x=\"2636.5\" y=\"-357.3\" font-family=\"Helvetica,sans-Serif\" font-size=\"14.00\" fill=\"#000000\">class = n</text>\n</g>\n<!-- 87&#45;&gt;88 -->\n<g id=\"edge88\" class=\"edge\">\n<title>87&#45;&gt;88</title>\n<path fill=\"none\" stroke=\"#000000\" d=\"M2722.9831,-460.8796C2709.833,-449.1138 2695.5337,-436.3197 2682.4191,-424.5855\"/>\n<polygon fill=\"#000000\" stroke=\"#000000\" points=\"2684.6382,-421.8746 2674.852,-417.8149 2679.9706,-427.0913 2684.6382,-421.8746\"/>\n</g>\n<!-- 89 -->\n<g id=\"node90\" class=\"node\">\n<title>89</title>\n<path fill=\"#e58139\" stroke=\"#000000\" d=\"M2839,-417.5C2839,-417.5 2732,-417.5 2732,-417.5 2726,-417.5 2720,-411.5 2720,-405.5 2720,-405.5 2720,-361.5 2720,-361.5 2720,-355.5 2726,-349.5 2732,-349.5 2732,-349.5 2839,-349.5 2839,-349.5 2845,-349.5 2851,-355.5 2851,-361.5 2851,-361.5 2851,-405.5 2851,-405.5 2851,-411.5 2845,-417.5 2839,-417.5\"/>\n<text text-anchor=\"middle\" x=\"2785.5\" y=\"-402.3\" font-family=\"Helvetica,sans-Serif\" font-size=\"14.00\" fill=\"#000000\">gini = 0.0</text>\n<text text-anchor=\"middle\" x=\"2785.5\" y=\"-387.3\" font-family=\"Helvetica,sans-Serif\" font-size=\"14.00\" fill=\"#000000\">samples = 4</text>\n<text text-anchor=\"middle\" x=\"2785.5\" y=\"-372.3\" font-family=\"Helvetica,sans-Serif\" font-size=\"14.00\" fill=\"#000000\">value = [4, 0, 0, 0]</text>\n<text text-anchor=\"middle\" x=\"2785.5\" y=\"-357.3\" font-family=\"Helvetica,sans-Serif\" font-size=\"14.00\" fill=\"#000000\">class = I</text>\n</g>\n<!-- 87&#45;&gt;89 -->\n<g id=\"edge89\" class=\"edge\">\n<title>87&#45;&gt;89</title>\n<path fill=\"none\" stroke=\"#000000\" d=\"M2775.096,-460.8796C2776.5301,-450.2134 2778.0779,-438.7021 2779.53,-427.9015\"/>\n<polygon fill=\"#000000\" stroke=\"#000000\" points=\"2783.0224,-428.1922 2780.8862,-417.8149 2776.0848,-427.2593 2783.0224,-428.1922\"/>\n</g>\n<!-- 92 -->\n<g id=\"node93\" class=\"node\">\n<title>92</title>\n<path fill=\"#dafad7\" stroke=\"#000000\" d=\"M3139,-544C3139,-544 3024,-544 3024,-544 3018,-544 3012,-538 3012,-532 3012,-532 3012,-473 3012,-473 3012,-467 3018,-461 3024,-461 3024,-461 3139,-461 3139,-461 3145,-461 3151,-467 3151,-473 3151,-473 3151,-532 3151,-532 3151,-538 3145,-544 3139,-544\"/>\n<text text-anchor=\"middle\" x=\"3081.5\" y=\"-528.8\" font-family=\"Helvetica,sans-Serif\" font-size=\"14.00\" fill=\"#000000\">maint &lt;= 2.5</text>\n<text text-anchor=\"middle\" x=\"3081.5\" y=\"-513.8\" font-family=\"Helvetica,sans-Serif\" font-size=\"14.00\" fill=\"#000000\">gini = 0.494</text>\n<text text-anchor=\"middle\" x=\"3081.5\" y=\"-498.8\" font-family=\"Helvetica,sans-Serif\" font-size=\"14.00\" fill=\"#000000\">samples = 18</text>\n<text text-anchor=\"middle\" x=\"3081.5\" y=\"-483.8\" font-family=\"Helvetica,sans-Serif\" font-size=\"14.00\" fill=\"#000000\">value = [0, 10, 0, 8]</text>\n<text text-anchor=\"middle\" x=\"3081.5\" y=\"-468.8\" font-family=\"Helvetica,sans-Serif\" font-size=\"14.00\" fill=\"#000000\">class = n</text>\n</g>\n<!-- 91&#45;&gt;92 -->\n<g id=\"edge92\" class=\"edge\">\n<title>91&#45;&gt;92</title>\n<path fill=\"none\" stroke=\"#000000\" d=\"M3082.1502,-579.8796C3082.0814,-571.6838 3082.0083,-562.9891 3081.937,-554.5013\"/>\n<polygon fill=\"#000000\" stroke=\"#000000\" points=\"3085.4352,-554.2683 3081.8512,-544.2981 3078.4355,-554.3272 3085.4352,-554.2683\"/>\n</g>\n<!-- 99 -->\n<g id=\"node100\" class=\"node\">\n<title>99</title>\n<path fill=\"#dc50e8\" stroke=\"#000000\" d=\"M3296,-544C3296,-544 3181,-544 3181,-544 3175,-544 3169,-538 3169,-532 3169,-532 3169,-473 3169,-473 3169,-467 3175,-461 3181,-461 3181,-461 3296,-461 3296,-461 3302,-461 3308,-467 3308,-473 3308,-473 3308,-532 3308,-532 3308,-538 3302,-544 3296,-544\"/>\n<text text-anchor=\"middle\" x=\"3238.5\" y=\"-528.8\" font-family=\"Helvetica,sans-Serif\" font-size=\"14.00\" fill=\"#000000\">doors &lt;= 1.5</text>\n<text text-anchor=\"middle\" x=\"3238.5\" y=\"-513.8\" font-family=\"Helvetica,sans-Serif\" font-size=\"14.00\" fill=\"#000000\">gini = 0.188</text>\n<text text-anchor=\"middle\" x=\"3238.5\" y=\"-498.8\" font-family=\"Helvetica,sans-Serif\" font-size=\"14.00\" fill=\"#000000\">samples = 19</text>\n<text text-anchor=\"middle\" x=\"3238.5\" y=\"-483.8\" font-family=\"Helvetica,sans-Serif\" font-size=\"14.00\" fill=\"#000000\">value = [0, 2, 0, 17]</text>\n<text text-anchor=\"middle\" x=\"3238.5\" y=\"-468.8\" font-family=\"Helvetica,sans-Serif\" font-size=\"14.00\" fill=\"#000000\">class = e</text>\n</g>\n<!-- 91&#45;&gt;99 -->\n<g id=\"edge99\" class=\"edge\">\n<title>91&#45;&gt;99</title>\n<path fill=\"none\" stroke=\"#000000\" d=\"M3137.0612,-579.8796C3149.5302,-570.368 3162.8802,-560.1843 3175.6648,-550.432\"/>\n<polygon fill=\"#000000\" stroke=\"#000000\" points=\"3178.1415,-552.9448 3183.9696,-544.0969 3173.896,-547.3792 3178.1415,-552.9448\"/>\n</g>\n<!-- 93 -->\n<g id=\"node94\" class=\"node\">\n<title>93</title>\n<path fill=\"#47e539\" stroke=\"#000000\" d=\"M2988,-417.5C2988,-417.5 2881,-417.5 2881,-417.5 2875,-417.5 2869,-411.5 2869,-405.5 2869,-405.5 2869,-361.5 2869,-361.5 2869,-355.5 2875,-349.5 2881,-349.5 2881,-349.5 2988,-349.5 2988,-349.5 2994,-349.5 3000,-355.5 3000,-361.5 3000,-361.5 3000,-405.5 3000,-405.5 3000,-411.5 2994,-417.5 2988,-417.5\"/>\n<text text-anchor=\"middle\" x=\"2934.5\" y=\"-402.3\" font-family=\"Helvetica,sans-Serif\" font-size=\"14.00\" fill=\"#000000\">gini = 0.0</text>\n<text text-anchor=\"middle\" x=\"2934.5\" y=\"-387.3\" font-family=\"Helvetica,sans-Serif\" font-size=\"14.00\" fill=\"#000000\">samples = 9</text>\n<text text-anchor=\"middle\" x=\"2934.5\" y=\"-372.3\" font-family=\"Helvetica,sans-Serif\" font-size=\"14.00\" fill=\"#000000\">value = [0, 9, 0, 0]</text>\n<text text-anchor=\"middle\" x=\"2934.5\" y=\"-357.3\" font-family=\"Helvetica,sans-Serif\" font-size=\"14.00\" fill=\"#000000\">class = n</text>\n</g>\n<!-- 92&#45;&gt;93 -->\n<g id=\"edge93\" class=\"edge\">\n<title>92&#45;&gt;93</title>\n<path fill=\"none\" stroke=\"#000000\" d=\"M3030.0865,-460.8796C3015.4165,-449.0038 2999.4523,-436.0804 2984.8467,-424.2568\"/>\n<polygon fill=\"#000000\" stroke=\"#000000\" points=\"2986.8637,-421.3866 2976.889,-417.8149 2982.4593,-426.8273 2986.8637,-421.3866\"/>\n</g>\n<!-- 94 -->\n<g id=\"node95\" class=\"node\">\n<title>94</title>\n<path fill=\"#dc52e8\" stroke=\"#000000\" d=\"M3137,-425C3137,-425 3030,-425 3030,-425 3024,-425 3018,-419 3018,-413 3018,-413 3018,-354 3018,-354 3018,-348 3024,-342 3030,-342 3030,-342 3137,-342 3137,-342 3143,-342 3149,-348 3149,-354 3149,-354 3149,-413 3149,-413 3149,-419 3143,-425 3137,-425\"/>\n<text text-anchor=\"middle\" x=\"3083.5\" y=\"-409.8\" font-family=\"Helvetica,sans-Serif\" font-size=\"14.00\" fill=\"#000000\">doors &lt;= 0.5</text>\n<text text-anchor=\"middle\" x=\"3083.5\" y=\"-394.8\" font-family=\"Helvetica,sans-Serif\" font-size=\"14.00\" fill=\"#000000\">gini = 0.198</text>\n<text text-anchor=\"middle\" x=\"3083.5\" y=\"-379.8\" font-family=\"Helvetica,sans-Serif\" font-size=\"14.00\" fill=\"#000000\">samples = 9</text>\n<text text-anchor=\"middle\" x=\"3083.5\" y=\"-364.8\" font-family=\"Helvetica,sans-Serif\" font-size=\"14.00\" fill=\"#000000\">value = [0, 1, 0, 8]</text>\n<text text-anchor=\"middle\" x=\"3083.5\" y=\"-349.8\" font-family=\"Helvetica,sans-Serif\" font-size=\"14.00\" fill=\"#000000\">class = e</text>\n</g>\n<!-- 92&#45;&gt;94 -->\n<g id=\"edge94\" class=\"edge\">\n<title>92&#45;&gt;94</title>\n<path fill=\"none\" stroke=\"#000000\" d=\"M3082.1995,-460.8796C3082.3372,-452.6838 3082.4834,-443.9891 3082.626,-435.5013\"/>\n<polygon fill=\"#000000\" stroke=\"#000000\" points=\"3086.1289,-435.3555 3082.7975,-425.2981 3079.1299,-435.2378 3086.1289,-435.3555\"/>\n</g>\n<!-- 95 -->\n<g id=\"node96\" class=\"node\">\n<title>95</title>\n<path fill=\"#ffffff\" stroke=\"#000000\" d=\"M2988,-306C2988,-306 2881,-306 2881,-306 2875,-306 2869,-300 2869,-294 2869,-294 2869,-235 2869,-235 2869,-229 2875,-223 2881,-223 2881,-223 2988,-223 2988,-223 2994,-223 3000,-229 3000,-235 3000,-235 3000,-294 3000,-294 3000,-300 2994,-306 2988,-306\"/>\n<text text-anchor=\"middle\" x=\"2934.5\" y=\"-290.8\" font-family=\"Helvetica,sans-Serif\" font-size=\"14.00\" fill=\"#000000\">lug_boot &lt;= 1.5</text>\n<text text-anchor=\"middle\" x=\"2934.5\" y=\"-275.8\" font-family=\"Helvetica,sans-Serif\" font-size=\"14.00\" fill=\"#000000\">gini = 0.5</text>\n<text text-anchor=\"middle\" x=\"2934.5\" y=\"-260.8\" font-family=\"Helvetica,sans-Serif\" font-size=\"14.00\" fill=\"#000000\">samples = 2</text>\n<text text-anchor=\"middle\" x=\"2934.5\" y=\"-245.8\" font-family=\"Helvetica,sans-Serif\" font-size=\"14.00\" fill=\"#000000\">value = [0, 1, 0, 1]</text>\n<text text-anchor=\"middle\" x=\"2934.5\" y=\"-230.8\" font-family=\"Helvetica,sans-Serif\" font-size=\"14.00\" fill=\"#000000\">class = n</text>\n</g>\n<!-- 94&#45;&gt;95 -->\n<g id=\"edge95\" class=\"edge\">\n<title>94&#45;&gt;95</title>\n<path fill=\"none\" stroke=\"#000000\" d=\"M3031.387,-341.8796C3019.4775,-332.368 3006.7266,-322.1843 2994.5156,-312.432\"/>\n<polygon fill=\"#000000\" stroke=\"#000000\" points=\"2996.5816,-309.6027 2986.5835,-306.0969 2992.2132,-315.0724 2996.5816,-309.6027\"/>\n</g>\n<!-- 98 -->\n<g id=\"node99\" class=\"node\">\n<title>98</title>\n<path fill=\"#d739e5\" stroke=\"#000000\" d=\"M3137,-298.5C3137,-298.5 3030,-298.5 3030,-298.5 3024,-298.5 3018,-292.5 3018,-286.5 3018,-286.5 3018,-242.5 3018,-242.5 3018,-236.5 3024,-230.5 3030,-230.5 3030,-230.5 3137,-230.5 3137,-230.5 3143,-230.5 3149,-236.5 3149,-242.5 3149,-242.5 3149,-286.5 3149,-286.5 3149,-292.5 3143,-298.5 3137,-298.5\"/>\n<text text-anchor=\"middle\" x=\"3083.5\" y=\"-283.3\" font-family=\"Helvetica,sans-Serif\" font-size=\"14.00\" fill=\"#000000\">gini = 0.0</text>\n<text text-anchor=\"middle\" x=\"3083.5\" y=\"-268.3\" font-family=\"Helvetica,sans-Serif\" font-size=\"14.00\" fill=\"#000000\">samples = 7</text>\n<text text-anchor=\"middle\" x=\"3083.5\" y=\"-253.3\" font-family=\"Helvetica,sans-Serif\" font-size=\"14.00\" fill=\"#000000\">value = [0, 0, 0, 7]</text>\n<text text-anchor=\"middle\" x=\"3083.5\" y=\"-238.3\" font-family=\"Helvetica,sans-Serif\" font-size=\"14.00\" fill=\"#000000\">class = e</text>\n</g>\n<!-- 94&#45;&gt;98 -->\n<g id=\"edge98\" class=\"edge\">\n<title>94&#45;&gt;98</title>\n<path fill=\"none\" stroke=\"#000000\" d=\"M3083.5,-341.8796C3083.5,-331.2134 3083.5,-319.7021 3083.5,-308.9015\"/>\n<polygon fill=\"#000000\" stroke=\"#000000\" points=\"3087.0001,-308.8149 3083.5,-298.8149 3080.0001,-308.815 3087.0001,-308.8149\"/>\n</g>\n<!-- 96 -->\n<g id=\"node97\" class=\"node\">\n<title>96</title>\n<path fill=\"#47e539\" stroke=\"#000000\" d=\"M2913,-179.5C2913,-179.5 2806,-179.5 2806,-179.5 2800,-179.5 2794,-173.5 2794,-167.5 2794,-167.5 2794,-123.5 2794,-123.5 2794,-117.5 2800,-111.5 2806,-111.5 2806,-111.5 2913,-111.5 2913,-111.5 2919,-111.5 2925,-117.5 2925,-123.5 2925,-123.5 2925,-167.5 2925,-167.5 2925,-173.5 2919,-179.5 2913,-179.5\"/>\n<text text-anchor=\"middle\" x=\"2859.5\" y=\"-164.3\" font-family=\"Helvetica,sans-Serif\" font-size=\"14.00\" fill=\"#000000\">gini = 0.0</text>\n<text text-anchor=\"middle\" x=\"2859.5\" y=\"-149.3\" font-family=\"Helvetica,sans-Serif\" font-size=\"14.00\" fill=\"#000000\">samples = 1</text>\n<text text-anchor=\"middle\" x=\"2859.5\" y=\"-134.3\" font-family=\"Helvetica,sans-Serif\" font-size=\"14.00\" fill=\"#000000\">value = [0, 1, 0, 0]</text>\n<text text-anchor=\"middle\" x=\"2859.5\" y=\"-119.3\" font-family=\"Helvetica,sans-Serif\" font-size=\"14.00\" fill=\"#000000\">class = n</text>\n</g>\n<!-- 95&#45;&gt;96 -->\n<g id=\"edge96\" class=\"edge\">\n<title>95&#45;&gt;96</title>\n<path fill=\"none\" stroke=\"#000000\" d=\"M2908.2686,-222.8796C2901.269,-211.7735 2893.692,-199.7513 2886.6444,-188.5691\"/>\n<polygon fill=\"#000000\" stroke=\"#000000\" points=\"2889.42,-186.4087 2881.1271,-179.8149 2883.498,-190.1411 2889.42,-186.4087\"/>\n</g>\n<!-- 97 -->\n<g id=\"node98\" class=\"node\">\n<title>97</title>\n<path fill=\"#d739e5\" stroke=\"#000000\" d=\"M3062,-179.5C3062,-179.5 2955,-179.5 2955,-179.5 2949,-179.5 2943,-173.5 2943,-167.5 2943,-167.5 2943,-123.5 2943,-123.5 2943,-117.5 2949,-111.5 2955,-111.5 2955,-111.5 3062,-111.5 3062,-111.5 3068,-111.5 3074,-117.5 3074,-123.5 3074,-123.5 3074,-167.5 3074,-167.5 3074,-173.5 3068,-179.5 3062,-179.5\"/>\n<text text-anchor=\"middle\" x=\"3008.5\" y=\"-164.3\" font-family=\"Helvetica,sans-Serif\" font-size=\"14.00\" fill=\"#000000\">gini = 0.0</text>\n<text text-anchor=\"middle\" x=\"3008.5\" y=\"-149.3\" font-family=\"Helvetica,sans-Serif\" font-size=\"14.00\" fill=\"#000000\">samples = 1</text>\n<text text-anchor=\"middle\" x=\"3008.5\" y=\"-134.3\" font-family=\"Helvetica,sans-Serif\" font-size=\"14.00\" fill=\"#000000\">value = [0, 0, 0, 1]</text>\n<text text-anchor=\"middle\" x=\"3008.5\" y=\"-119.3\" font-family=\"Helvetica,sans-Serif\" font-size=\"14.00\" fill=\"#000000\">class = e</text>\n</g>\n<!-- 95&#45;&gt;97 -->\n<g id=\"edge97\" class=\"edge\">\n<title>95&#45;&gt;97</title>\n<path fill=\"none\" stroke=\"#000000\" d=\"M2960.3816,-222.8796C2967.2879,-211.7735 2974.7639,-199.7513 2981.7175,-188.5691\"/>\n<polygon fill=\"#000000\" stroke=\"#000000\" points=\"2984.8527,-190.1552 2987.1613,-179.8149 2978.9083,-186.4587 2984.8527,-190.1552\"/>\n</g>\n<!-- 100 -->\n<g id=\"node101\" class=\"node\">\n<title>100</title>\n<path fill=\"#e47bee\" stroke=\"#000000\" d=\"M3290,-425C3290,-425 3183,-425 3183,-425 3177,-425 3171,-419 3171,-413 3171,-413 3171,-354 3171,-354 3171,-348 3177,-342 3183,-342 3183,-342 3290,-342 3290,-342 3296,-342 3302,-348 3302,-354 3302,-354 3302,-413 3302,-413 3302,-419 3296,-425 3290,-425\"/>\n<text text-anchor=\"middle\" x=\"3236.5\" y=\"-409.8\" font-family=\"Helvetica,sans-Serif\" font-size=\"14.00\" fill=\"#000000\">lug_boot &lt;= 1.5</text>\n<text text-anchor=\"middle\" x=\"3236.5\" y=\"-394.8\" font-family=\"Helvetica,sans-Serif\" font-size=\"14.00\" fill=\"#000000\">gini = 0.375</text>\n<text text-anchor=\"middle\" x=\"3236.5\" y=\"-379.8\" font-family=\"Helvetica,sans-Serif\" font-size=\"14.00\" fill=\"#000000\">samples = 8</text>\n<text text-anchor=\"middle\" x=\"3236.5\" y=\"-364.8\" font-family=\"Helvetica,sans-Serif\" font-size=\"14.00\" fill=\"#000000\">value = [0, 2, 0, 6]</text>\n<text text-anchor=\"middle\" x=\"3236.5\" y=\"-349.8\" font-family=\"Helvetica,sans-Serif\" font-size=\"14.00\" fill=\"#000000\">class = e</text>\n</g>\n<!-- 99&#45;&gt;100 -->\n<g id=\"edge100\" class=\"edge\">\n<title>99&#45;&gt;100</title>\n<path fill=\"none\" stroke=\"#000000\" d=\"M3237.8005,-460.8796C3237.6628,-452.6838 3237.5166,-443.9891 3237.374,-435.5013\"/>\n<polygon fill=\"#000000\" stroke=\"#000000\" points=\"3240.8701,-435.2378 3237.2025,-425.2981 3233.8711,-435.3555 3240.8701,-435.2378\"/>\n</g>\n<!-- 105 -->\n<g id=\"node106\" class=\"node\">\n<title>105</title>\n<path fill=\"#d739e5\" stroke=\"#000000\" d=\"M3447,-417.5C3447,-417.5 3332,-417.5 3332,-417.5 3326,-417.5 3320,-411.5 3320,-405.5 3320,-405.5 3320,-361.5 3320,-361.5 3320,-355.5 3326,-349.5 3332,-349.5 3332,-349.5 3447,-349.5 3447,-349.5 3453,-349.5 3459,-355.5 3459,-361.5 3459,-361.5 3459,-405.5 3459,-405.5 3459,-411.5 3453,-417.5 3447,-417.5\"/>\n<text text-anchor=\"middle\" x=\"3389.5\" y=\"-402.3\" font-family=\"Helvetica,sans-Serif\" font-size=\"14.00\" fill=\"#000000\">gini = 0.0</text>\n<text text-anchor=\"middle\" x=\"3389.5\" y=\"-387.3\" font-family=\"Helvetica,sans-Serif\" font-size=\"14.00\" fill=\"#000000\">samples = 11</text>\n<text text-anchor=\"middle\" x=\"3389.5\" y=\"-372.3\" font-family=\"Helvetica,sans-Serif\" font-size=\"14.00\" fill=\"#000000\">value = [0, 0, 0, 11]</text>\n<text text-anchor=\"middle\" x=\"3389.5\" y=\"-357.3\" font-family=\"Helvetica,sans-Serif\" font-size=\"14.00\" fill=\"#000000\">class = e</text>\n</g>\n<!-- 99&#45;&gt;105 -->\n<g id=\"edge105\" class=\"edge\">\n<title>99&#45;&gt;105</title>\n<path fill=\"none\" stroke=\"#000000\" d=\"M3291.3125,-460.8796C3306.3817,-449.0038 3322.7803,-436.0804 3337.7834,-424.2568\"/>\n<polygon fill=\"#000000\" stroke=\"#000000\" points=\"3340.2698,-426.7536 3345.9575,-417.8149 3335.9369,-421.2557 3340.2698,-426.7536\"/>\n</g>\n<!-- 101 -->\n<g id=\"node102\" class=\"node\">\n<title>101</title>\n<path fill=\"#ffffff\" stroke=\"#000000\" d=\"M3286,-306C3286,-306 3179,-306 3179,-306 3173,-306 3167,-300 3167,-294 3167,-294 3167,-235 3167,-235 3167,-229 3173,-223 3179,-223 3179,-223 3286,-223 3286,-223 3292,-223 3298,-229 3298,-235 3298,-235 3298,-294 3298,-294 3298,-300 3292,-306 3286,-306\"/>\n<text text-anchor=\"middle\" x=\"3232.5\" y=\"-290.8\" font-family=\"Helvetica,sans-Serif\" font-size=\"14.00\" fill=\"#000000\">persons &lt;= 1.5</text>\n<text text-anchor=\"middle\" x=\"3232.5\" y=\"-275.8\" font-family=\"Helvetica,sans-Serif\" font-size=\"14.00\" fill=\"#000000\">gini = 0.5</text>\n<text text-anchor=\"middle\" x=\"3232.5\" y=\"-260.8\" font-family=\"Helvetica,sans-Serif\" font-size=\"14.00\" fill=\"#000000\">samples = 4</text>\n<text text-anchor=\"middle\" x=\"3232.5\" y=\"-245.8\" font-family=\"Helvetica,sans-Serif\" font-size=\"14.00\" fill=\"#000000\">value = [0, 2, 0, 2]</text>\n<text text-anchor=\"middle\" x=\"3232.5\" y=\"-230.8\" font-family=\"Helvetica,sans-Serif\" font-size=\"14.00\" fill=\"#000000\">class = n</text>\n</g>\n<!-- 100&#45;&gt;101 -->\n<g id=\"edge101\" class=\"edge\">\n<title>100&#45;&gt;101</title>\n<path fill=\"none\" stroke=\"#000000\" d=\"M3235.101,-341.8796C3234.8255,-333.6838 3234.5332,-324.9891 3234.2479,-316.5013\"/>\n<polygon fill=\"#000000\" stroke=\"#000000\" points=\"3237.739,-316.1748 3233.905,-306.2981 3230.743,-316.41 3237.739,-316.1748\"/>\n</g>\n<!-- 104 -->\n<g id=\"node105\" class=\"node\">\n<title>104</title>\n<path fill=\"#d739e5\" stroke=\"#000000\" d=\"M3435,-298.5C3435,-298.5 3328,-298.5 3328,-298.5 3322,-298.5 3316,-292.5 3316,-286.5 3316,-286.5 3316,-242.5 3316,-242.5 3316,-236.5 3322,-230.5 3328,-230.5 3328,-230.5 3435,-230.5 3435,-230.5 3441,-230.5 3447,-236.5 3447,-242.5 3447,-242.5 3447,-286.5 3447,-286.5 3447,-292.5 3441,-298.5 3435,-298.5\"/>\n<text text-anchor=\"middle\" x=\"3381.5\" y=\"-283.3\" font-family=\"Helvetica,sans-Serif\" font-size=\"14.00\" fill=\"#000000\">gini = 0.0</text>\n<text text-anchor=\"middle\" x=\"3381.5\" y=\"-268.3\" font-family=\"Helvetica,sans-Serif\" font-size=\"14.00\" fill=\"#000000\">samples = 4</text>\n<text text-anchor=\"middle\" x=\"3381.5\" y=\"-253.3\" font-family=\"Helvetica,sans-Serif\" font-size=\"14.00\" fill=\"#000000\">value = [0, 0, 0, 4]</text>\n<text text-anchor=\"middle\" x=\"3381.5\" y=\"-238.3\" font-family=\"Helvetica,sans-Serif\" font-size=\"14.00\" fill=\"#000000\">class = e</text>\n</g>\n<!-- 100&#45;&gt;104 -->\n<g id=\"edge104\" class=\"edge\">\n<title>100&#45;&gt;104</title>\n<path fill=\"none\" stroke=\"#000000\" d=\"M3287.214,-341.8796C3301.6844,-330.0038 3317.4314,-317.0804 3331.8383,-305.2568\"/>\n<polygon fill=\"#000000\" stroke=\"#000000\" points=\"3334.178,-307.8645 3339.6877,-298.8149 3329.7372,-302.4534 3334.178,-307.8645\"/>\n</g>\n<!-- 102 -->\n<g id=\"node103\" class=\"node\">\n<title>102</title>\n<path fill=\"#47e539\" stroke=\"#000000\" d=\"M3249,-179.5C3249,-179.5 3142,-179.5 3142,-179.5 3136,-179.5 3130,-173.5 3130,-167.5 3130,-167.5 3130,-123.5 3130,-123.5 3130,-117.5 3136,-111.5 3142,-111.5 3142,-111.5 3249,-111.5 3249,-111.5 3255,-111.5 3261,-117.5 3261,-123.5 3261,-123.5 3261,-167.5 3261,-167.5 3261,-173.5 3255,-179.5 3249,-179.5\"/>\n<text text-anchor=\"middle\" x=\"3195.5\" y=\"-164.3\" font-family=\"Helvetica,sans-Serif\" font-size=\"14.00\" fill=\"#000000\">gini = 0.0</text>\n<text text-anchor=\"middle\" x=\"3195.5\" y=\"-149.3\" font-family=\"Helvetica,sans-Serif\" font-size=\"14.00\" fill=\"#000000\">samples = 2</text>\n<text text-anchor=\"middle\" x=\"3195.5\" y=\"-134.3\" font-family=\"Helvetica,sans-Serif\" font-size=\"14.00\" fill=\"#000000\">value = [0, 2, 0, 0]</text>\n<text text-anchor=\"middle\" x=\"3195.5\" y=\"-119.3\" font-family=\"Helvetica,sans-Serif\" font-size=\"14.00\" fill=\"#000000\">class = n</text>\n</g>\n<!-- 101&#45;&gt;102 -->\n<g id=\"edge102\" class=\"edge\">\n<title>101&#45;&gt;102</title>\n<path fill=\"none\" stroke=\"#000000\" d=\"M3219.5592,-222.8796C3216.2086,-212.1034 3212.5899,-200.4647 3209.2017,-189.5677\"/>\n<polygon fill=\"#000000\" stroke=\"#000000\" points=\"3212.4806,-188.3248 3206.1693,-179.8149 3205.7963,-190.4032 3212.4806,-188.3248\"/>\n</g>\n<!-- 103 -->\n<g id=\"node104\" class=\"node\">\n<title>103</title>\n<path fill=\"#d739e5\" stroke=\"#000000\" d=\"M3398,-179.5C3398,-179.5 3291,-179.5 3291,-179.5 3285,-179.5 3279,-173.5 3279,-167.5 3279,-167.5 3279,-123.5 3279,-123.5 3279,-117.5 3285,-111.5 3291,-111.5 3291,-111.5 3398,-111.5 3398,-111.5 3404,-111.5 3410,-117.5 3410,-123.5 3410,-123.5 3410,-167.5 3410,-167.5 3410,-173.5 3404,-179.5 3398,-179.5\"/>\n<text text-anchor=\"middle\" x=\"3344.5\" y=\"-164.3\" font-family=\"Helvetica,sans-Serif\" font-size=\"14.00\" fill=\"#000000\">gini = 0.0</text>\n<text text-anchor=\"middle\" x=\"3344.5\" y=\"-149.3\" font-family=\"Helvetica,sans-Serif\" font-size=\"14.00\" fill=\"#000000\">samples = 2</text>\n<text text-anchor=\"middle\" x=\"3344.5\" y=\"-134.3\" font-family=\"Helvetica,sans-Serif\" font-size=\"14.00\" fill=\"#000000\">value = [0, 0, 0, 2]</text>\n<text text-anchor=\"middle\" x=\"3344.5\" y=\"-119.3\" font-family=\"Helvetica,sans-Serif\" font-size=\"14.00\" fill=\"#000000\">class = e</text>\n</g>\n<!-- 101&#45;&gt;103 -->\n<g id=\"edge103\" class=\"edge\">\n<title>101&#45;&gt;103</title>\n<path fill=\"none\" stroke=\"#000000\" d=\"M3271.6722,-222.8796C3282.5389,-211.3337 3294.3376,-198.7976 3305.2109,-187.2446\"/>\n<polygon fill=\"#000000\" stroke=\"#000000\" points=\"3307.8986,-189.4958 3312.2036,-179.8149 3302.8012,-184.6982 3307.8986,-189.4958\"/>\n</g>\n<!-- 107 -->\n<g id=\"node108\" class=\"node\">\n<title>107</title>\n<path fill=\"#e991f1\" stroke=\"#000000\" d=\"M3890,-663C3890,-663 3775,-663 3775,-663 3769,-663 3763,-657 3763,-651 3763,-651 3763,-592 3763,-592 3763,-586 3769,-580 3775,-580 3775,-580 3890,-580 3890,-580 3896,-580 3902,-586 3902,-592 3902,-592 3902,-651 3902,-651 3902,-657 3896,-663 3890,-663\"/>\n<text text-anchor=\"middle\" x=\"3832.5\" y=\"-647.8\" font-family=\"Helvetica,sans-Serif\" font-size=\"14.00\" fill=\"#000000\">doors &lt;= 0.5</text>\n<text text-anchor=\"middle\" x=\"3832.5\" y=\"-632.8\" font-family=\"Helvetica,sans-Serif\" font-size=\"14.00\" fill=\"#000000\">gini = 0.529</text>\n<text text-anchor=\"middle\" x=\"3832.5\" y=\"-617.8\" font-family=\"Helvetica,sans-Serif\" font-size=\"14.00\" fill=\"#000000\">samples = 22</text>\n<text text-anchor=\"middle\" x=\"3832.5\" y=\"-602.8\" font-family=\"Helvetica,sans-Serif\" font-size=\"14.00\" fill=\"#000000\">value = [4, 4, 0, 14]</text>\n<text text-anchor=\"middle\" x=\"3832.5\" y=\"-587.8\" font-family=\"Helvetica,sans-Serif\" font-size=\"14.00\" fill=\"#000000\">class = e</text>\n</g>\n<!-- 106&#45;&gt;107 -->\n<g id=\"edge107\" class=\"edge\">\n<title>106&#45;&gt;107</title>\n<path fill=\"none\" stroke=\"#000000\" d=\"M3832.5,-698.8796C3832.5,-690.6838 3832.5,-681.9891 3832.5,-673.5013\"/>\n<polygon fill=\"#000000\" stroke=\"#000000\" points=\"3836.0001,-673.298 3832.5,-663.2981 3829.0001,-673.2981 3836.0001,-673.298\"/>\n</g>\n<!-- 118 -->\n<g id=\"node119\" class=\"node\">\n<title>118</title>\n<path fill=\"#59ade9\" stroke=\"#000000\" d=\"M4296,-663C4296,-663 4181,-663 4181,-663 4175,-663 4169,-657 4169,-651 4169,-651 4169,-592 4169,-592 4169,-586 4175,-580 4181,-580 4181,-580 4296,-580 4296,-580 4302,-580 4308,-586 4308,-592 4308,-592 4308,-651 4308,-651 4308,-657 4302,-663 4296,-663\"/>\n<text text-anchor=\"middle\" x=\"4238.5\" y=\"-647.8\" font-family=\"Helvetica,sans-Serif\" font-size=\"14.00\" fill=\"#000000\">lug_boot &lt;= 1.5</text>\n<text text-anchor=\"middle\" x=\"4238.5\" y=\"-632.8\" font-family=\"Helvetica,sans-Serif\" font-size=\"14.00\" fill=\"#000000\">gini = 0.258</text>\n<text text-anchor=\"middle\" x=\"4238.5\" y=\"-617.8\" font-family=\"Helvetica,sans-Serif\" font-size=\"14.00\" fill=\"#000000\">samples = 48</text>\n<text text-anchor=\"middle\" x=\"4238.5\" y=\"-602.8\" font-family=\"Helvetica,sans-Serif\" font-size=\"14.00\" fill=\"#000000\">value = [0, 2, 41, 5]</text>\n<text text-anchor=\"middle\" x=\"4238.5\" y=\"-587.8\" font-family=\"Helvetica,sans-Serif\" font-size=\"14.00\" fill=\"#000000\">class = d</text>\n</g>\n<!-- 106&#45;&gt;118 -->\n<g id=\"edge118\" class=\"edge\">\n<title>106&#45;&gt;118</title>\n<path fill=\"none\" stroke=\"#000000\" d=\"M3906.0235,-718.95C3977.5361,-697.9894 4085.8411,-666.2449 4159.2441,-644.7302\"/>\n<polygon fill=\"#000000\" stroke=\"#000000\" points=\"4160.3017,-648.0675 4168.9135,-641.896 4158.3327,-641.3501 4160.3017,-648.0675\"/>\n</g>\n<!-- 108 -->\n<g id=\"node109\" class=\"node\">\n<title>108</title>\n<path fill=\"#efb388\" stroke=\"#000000\" d=\"M3810,-544C3810,-544 3703,-544 3703,-544 3697,-544 3691,-538 3691,-532 3691,-532 3691,-473 3691,-473 3691,-467 3697,-461 3703,-461 3703,-461 3810,-461 3810,-461 3816,-461 3822,-467 3822,-473 3822,-473 3822,-532 3822,-532 3822,-538 3816,-544 3810,-544\"/>\n<text text-anchor=\"middle\" x=\"3756.5\" y=\"-528.8\" font-family=\"Helvetica,sans-Serif\" font-size=\"14.00\" fill=\"#000000\">persons &lt;= 1.5</text>\n<text text-anchor=\"middle\" x=\"3756.5\" y=\"-513.8\" font-family=\"Helvetica,sans-Serif\" font-size=\"14.00\" fill=\"#000000\">gini = 0.5</text>\n<text text-anchor=\"middle\" x=\"3756.5\" y=\"-498.8\" font-family=\"Helvetica,sans-Serif\" font-size=\"14.00\" fill=\"#000000\">samples = 6</text>\n<text text-anchor=\"middle\" x=\"3756.5\" y=\"-483.8\" font-family=\"Helvetica,sans-Serif\" font-size=\"14.00\" fill=\"#000000\">value = [4, 1, 0, 1]</text>\n<text text-anchor=\"middle\" x=\"3756.5\" y=\"-468.8\" font-family=\"Helvetica,sans-Serif\" font-size=\"14.00\" fill=\"#000000\">class = I</text>\n</g>\n<!-- 107&#45;&gt;108 -->\n<g id=\"edge108\" class=\"edge\">\n<title>107&#45;&gt;108</title>\n<path fill=\"none\" stroke=\"#000000\" d=\"M3805.9189,-579.8796C3800.3395,-571.1434 3794.3981,-561.8404 3788.6405,-552.8253\"/>\n<polygon fill=\"#000000\" stroke=\"#000000\" points=\"3791.5269,-550.8421 3783.1946,-544.2981 3785.6274,-554.6098 3791.5269,-550.8421\"/>\n</g>\n<!-- 113 -->\n<g id=\"node114\" class=\"node\">\n<title>113</title>\n<path fill=\"#e067eb\" stroke=\"#000000\" d=\"M3967,-544C3967,-544 3852,-544 3852,-544 3846,-544 3840,-538 3840,-532 3840,-532 3840,-473 3840,-473 3840,-467 3846,-461 3852,-461 3852,-461 3967,-461 3967,-461 3973,-461 3979,-467 3979,-473 3979,-473 3979,-532 3979,-532 3979,-538 3973,-544 3967,-544\"/>\n<text text-anchor=\"middle\" x=\"3909.5\" y=\"-528.8\" font-family=\"Helvetica,sans-Serif\" font-size=\"14.00\" fill=\"#000000\">buying &lt;= 2.5</text>\n<text text-anchor=\"middle\" x=\"3909.5\" y=\"-513.8\" font-family=\"Helvetica,sans-Serif\" font-size=\"14.00\" fill=\"#000000\">gini = 0.305</text>\n<text text-anchor=\"middle\" x=\"3909.5\" y=\"-498.8\" font-family=\"Helvetica,sans-Serif\" font-size=\"14.00\" fill=\"#000000\">samples = 16</text>\n<text text-anchor=\"middle\" x=\"3909.5\" y=\"-483.8\" font-family=\"Helvetica,sans-Serif\" font-size=\"14.00\" fill=\"#000000\">value = [0, 3, 0, 13]</text>\n<text text-anchor=\"middle\" x=\"3909.5\" y=\"-468.8\" font-family=\"Helvetica,sans-Serif\" font-size=\"14.00\" fill=\"#000000\">class = e</text>\n</g>\n<!-- 107&#45;&gt;113 -->\n<g id=\"edge113\" class=\"edge\">\n<title>107&#45;&gt;113</title>\n<path fill=\"none\" stroke=\"#000000\" d=\"M3859.4309,-579.8796C3865.0837,-571.1434 3871.1033,-561.8404 3876.9366,-552.8253\"/>\n<polygon fill=\"#000000\" stroke=\"#000000\" points=\"3879.9601,-554.5952 3882.4542,-544.2981 3874.0831,-550.7924 3879.9601,-554.5952\"/>\n</g>\n<!-- 109 -->\n<g id=\"node110\" class=\"node\">\n<title>109</title>\n<path fill=\"#ffffff\" stroke=\"#000000\" d=\"M3662,-425C3662,-425 3555,-425 3555,-425 3549,-425 3543,-419 3543,-413 3543,-413 3543,-354 3543,-354 3543,-348 3549,-342 3555,-342 3555,-342 3662,-342 3662,-342 3668,-342 3674,-348 3674,-354 3674,-354 3674,-413 3674,-413 3674,-419 3668,-425 3662,-425\"/>\n<text text-anchor=\"middle\" x=\"3608.5\" y=\"-409.8\" font-family=\"Helvetica,sans-Serif\" font-size=\"14.00\" fill=\"#000000\">buying &lt;= 2.5</text>\n<text text-anchor=\"middle\" x=\"3608.5\" y=\"-394.8\" font-family=\"Helvetica,sans-Serif\" font-size=\"14.00\" fill=\"#000000\">gini = 0.5</text>\n<text text-anchor=\"middle\" x=\"3608.5\" y=\"-379.8\" font-family=\"Helvetica,sans-Serif\" font-size=\"14.00\" fill=\"#000000\">samples = 2</text>\n<text text-anchor=\"middle\" x=\"3608.5\" y=\"-364.8\" font-family=\"Helvetica,sans-Serif\" font-size=\"14.00\" fill=\"#000000\">value = [0, 1, 0, 1]</text>\n<text text-anchor=\"middle\" x=\"3608.5\" y=\"-349.8\" font-family=\"Helvetica,sans-Serif\" font-size=\"14.00\" fill=\"#000000\">class = n</text>\n</g>\n<!-- 108&#45;&gt;109 -->\n<g id=\"edge109\" class=\"edge\">\n<title>108&#45;&gt;109</title>\n<path fill=\"none\" stroke=\"#000000\" d=\"M3704.7368,-460.8796C3692.9072,-451.368 3680.2419,-441.1843 3668.1129,-431.432\"/>\n<polygon fill=\"#000000\" stroke=\"#000000\" points=\"3670.2204,-428.6355 3660.234,-425.0969 3665.8341,-434.0908 3670.2204,-428.6355\"/>\n</g>\n<!-- 112 -->\n<g id=\"node113\" class=\"node\">\n<title>112</title>\n<path fill=\"#e58139\" stroke=\"#000000\" d=\"M3811,-417.5C3811,-417.5 3704,-417.5 3704,-417.5 3698,-417.5 3692,-411.5 3692,-405.5 3692,-405.5 3692,-361.5 3692,-361.5 3692,-355.5 3698,-349.5 3704,-349.5 3704,-349.5 3811,-349.5 3811,-349.5 3817,-349.5 3823,-355.5 3823,-361.5 3823,-361.5 3823,-405.5 3823,-405.5 3823,-411.5 3817,-417.5 3811,-417.5\"/>\n<text text-anchor=\"middle\" x=\"3757.5\" y=\"-402.3\" font-family=\"Helvetica,sans-Serif\" font-size=\"14.00\" fill=\"#000000\">gini = 0.0</text>\n<text text-anchor=\"middle\" x=\"3757.5\" y=\"-387.3\" font-family=\"Helvetica,sans-Serif\" font-size=\"14.00\" fill=\"#000000\">samples = 4</text>\n<text text-anchor=\"middle\" x=\"3757.5\" y=\"-372.3\" font-family=\"Helvetica,sans-Serif\" font-size=\"14.00\" fill=\"#000000\">value = [4, 0, 0, 0]</text>\n<text text-anchor=\"middle\" x=\"3757.5\" y=\"-357.3\" font-family=\"Helvetica,sans-Serif\" font-size=\"14.00\" fill=\"#000000\">class = I</text>\n</g>\n<!-- 108&#45;&gt;112 -->\n<g id=\"edge112\" class=\"edge\">\n<title>108&#45;&gt;112</title>\n<path fill=\"none\" stroke=\"#000000\" d=\"M3756.8498,-460.8796C3756.9394,-450.2134 3757.0361,-438.7021 3757.1269,-427.9015\"/>\n<polygon fill=\"#000000\" stroke=\"#000000\" points=\"3760.6274,-427.844 3757.2116,-417.8149 3753.6276,-427.7851 3760.6274,-427.844\"/>\n</g>\n<!-- 110 -->\n<g id=\"node111\" class=\"node\">\n<title>110</title>\n<path fill=\"#47e539\" stroke=\"#000000\" d=\"M3584,-298.5C3584,-298.5 3477,-298.5 3477,-298.5 3471,-298.5 3465,-292.5 3465,-286.5 3465,-286.5 3465,-242.5 3465,-242.5 3465,-236.5 3471,-230.5 3477,-230.5 3477,-230.5 3584,-230.5 3584,-230.5 3590,-230.5 3596,-236.5 3596,-242.5 3596,-242.5 3596,-286.5 3596,-286.5 3596,-292.5 3590,-298.5 3584,-298.5\"/>\n<text text-anchor=\"middle\" x=\"3530.5\" y=\"-283.3\" font-family=\"Helvetica,sans-Serif\" font-size=\"14.00\" fill=\"#000000\">gini = 0.0</text>\n<text text-anchor=\"middle\" x=\"3530.5\" y=\"-268.3\" font-family=\"Helvetica,sans-Serif\" font-size=\"14.00\" fill=\"#000000\">samples = 1</text>\n<text text-anchor=\"middle\" x=\"3530.5\" y=\"-253.3\" font-family=\"Helvetica,sans-Serif\" font-size=\"14.00\" fill=\"#000000\">value = [0, 1, 0, 0]</text>\n<text text-anchor=\"middle\" x=\"3530.5\" y=\"-238.3\" font-family=\"Helvetica,sans-Serif\" font-size=\"14.00\" fill=\"#000000\">class = n</text>\n</g>\n<!-- 109&#45;&gt;110 -->\n<g id=\"edge110\" class=\"edge\">\n<title>109&#45;&gt;110</title>\n<path fill=\"none\" stroke=\"#000000\" d=\"M3581.2194,-341.8796C3573.8677,-330.6636 3565.9036,-318.5131 3558.5126,-307.2372\"/>\n<polygon fill=\"#000000\" stroke=\"#000000\" points=\"3561.4014,-305.2598 3552.9921,-298.8149 3555.5469,-309.0972 3561.4014,-305.2598\"/>\n</g>\n<!-- 111 -->\n<g id=\"node112\" class=\"node\">\n<title>111</title>\n<path fill=\"#d739e5\" stroke=\"#000000\" d=\"M3733,-298.5C3733,-298.5 3626,-298.5 3626,-298.5 3620,-298.5 3614,-292.5 3614,-286.5 3614,-286.5 3614,-242.5 3614,-242.5 3614,-236.5 3620,-230.5 3626,-230.5 3626,-230.5 3733,-230.5 3733,-230.5 3739,-230.5 3745,-236.5 3745,-242.5 3745,-242.5 3745,-286.5 3745,-286.5 3745,-292.5 3739,-298.5 3733,-298.5\"/>\n<text text-anchor=\"middle\" x=\"3679.5\" y=\"-283.3\" font-family=\"Helvetica,sans-Serif\" font-size=\"14.00\" fill=\"#000000\">gini = 0.0</text>\n<text text-anchor=\"middle\" x=\"3679.5\" y=\"-268.3\" font-family=\"Helvetica,sans-Serif\" font-size=\"14.00\" fill=\"#000000\">samples = 1</text>\n<text text-anchor=\"middle\" x=\"3679.5\" y=\"-253.3\" font-family=\"Helvetica,sans-Serif\" font-size=\"14.00\" fill=\"#000000\">value = [0, 0, 0, 1]</text>\n<text text-anchor=\"middle\" x=\"3679.5\" y=\"-238.3\" font-family=\"Helvetica,sans-Serif\" font-size=\"14.00\" fill=\"#000000\">class = e</text>\n</g>\n<!-- 109&#45;&gt;111 -->\n<g id=\"edge111\" class=\"edge\">\n<title>109&#45;&gt;111</title>\n<path fill=\"none\" stroke=\"#000000\" d=\"M3633.3324,-341.8796C3639.9587,-330.7735 3647.1316,-318.7513 3653.8033,-307.5691\"/>\n<polygon fill=\"#000000\" stroke=\"#000000\" points=\"3656.9083,-309.1959 3659.0264,-298.8149 3650.8969,-305.6093 3656.9083,-309.1959\"/>\n</g>\n<!-- 114 -->\n<g id=\"node115\" class=\"node\">\n<title>114</title>\n<path fill=\"#f5cef8\" stroke=\"#000000\" d=\"M3962,-425C3962,-425 3855,-425 3855,-425 3849,-425 3843,-419 3843,-413 3843,-413 3843,-354 3843,-354 3843,-348 3849,-342 3855,-342 3855,-342 3962,-342 3962,-342 3968,-342 3974,-348 3974,-354 3974,-354 3974,-413 3974,-413 3974,-419 3968,-425 3962,-425\"/>\n<text text-anchor=\"middle\" x=\"3908.5\" y=\"-409.8\" font-family=\"Helvetica,sans-Serif\" font-size=\"14.00\" fill=\"#000000\">maint &lt;= 2.5</text>\n<text text-anchor=\"middle\" x=\"3908.5\" y=\"-394.8\" font-family=\"Helvetica,sans-Serif\" font-size=\"14.00\" fill=\"#000000\">gini = 0.49</text>\n<text text-anchor=\"middle\" x=\"3908.5\" y=\"-379.8\" font-family=\"Helvetica,sans-Serif\" font-size=\"14.00\" fill=\"#000000\">samples = 7</text>\n<text text-anchor=\"middle\" x=\"3908.5\" y=\"-364.8\" font-family=\"Helvetica,sans-Serif\" font-size=\"14.00\" fill=\"#000000\">value = [0, 3, 0, 4]</text>\n<text text-anchor=\"middle\" x=\"3908.5\" y=\"-349.8\" font-family=\"Helvetica,sans-Serif\" font-size=\"14.00\" fill=\"#000000\">class = e</text>\n</g>\n<!-- 113&#45;&gt;114 -->\n<g id=\"edge114\" class=\"edge\">\n<title>113&#45;&gt;114</title>\n<path fill=\"none\" stroke=\"#000000\" d=\"M3909.1502,-460.8796C3909.0814,-452.6838 3909.0083,-443.9891 3908.937,-435.5013\"/>\n<polygon fill=\"#000000\" stroke=\"#000000\" points=\"3912.4352,-435.2683 3908.8512,-425.2981 3905.4355,-435.3272 3912.4352,-435.2683\"/>\n</g>\n<!-- 117 -->\n<g id=\"node118\" class=\"node\">\n<title>117</title>\n<path fill=\"#d739e5\" stroke=\"#000000\" d=\"M4111,-417.5C4111,-417.5 4004,-417.5 4004,-417.5 3998,-417.5 3992,-411.5 3992,-405.5 3992,-405.5 3992,-361.5 3992,-361.5 3992,-355.5 3998,-349.5 4004,-349.5 4004,-349.5 4111,-349.5 4111,-349.5 4117,-349.5 4123,-355.5 4123,-361.5 4123,-361.5 4123,-405.5 4123,-405.5 4123,-411.5 4117,-417.5 4111,-417.5\"/>\n<text text-anchor=\"middle\" x=\"4057.5\" y=\"-402.3\" font-family=\"Helvetica,sans-Serif\" font-size=\"14.00\" fill=\"#000000\">gini = 0.0</text>\n<text text-anchor=\"middle\" x=\"4057.5\" y=\"-387.3\" font-family=\"Helvetica,sans-Serif\" font-size=\"14.00\" fill=\"#000000\">samples = 9</text>\n<text text-anchor=\"middle\" x=\"4057.5\" y=\"-372.3\" font-family=\"Helvetica,sans-Serif\" font-size=\"14.00\" fill=\"#000000\">value = [0, 0, 0, 9]</text>\n<text text-anchor=\"middle\" x=\"4057.5\" y=\"-357.3\" font-family=\"Helvetica,sans-Serif\" font-size=\"14.00\" fill=\"#000000\">class = e</text>\n</g>\n<!-- 113&#45;&gt;117 -->\n<g id=\"edge117\" class=\"edge\">\n<title>113&#45;&gt;117</title>\n<path fill=\"none\" stroke=\"#000000\" d=\"M3961.2632,-460.8796C3976.0331,-449.0038 3992.1059,-436.0804 4006.8108,-424.2568\"/>\n<polygon fill=\"#000000\" stroke=\"#000000\" points=\"4009.2225,-426.8088 4014.8226,-417.8149 4004.8361,-421.3535 4009.2225,-426.8088\"/>\n</g>\n<!-- 115 -->\n<g id=\"node116\" class=\"node\">\n<title>115</title>\n<path fill=\"#47e539\" stroke=\"#000000\" d=\"M3882,-298.5C3882,-298.5 3775,-298.5 3775,-298.5 3769,-298.5 3763,-292.5 3763,-286.5 3763,-286.5 3763,-242.5 3763,-242.5 3763,-236.5 3769,-230.5 3775,-230.5 3775,-230.5 3882,-230.5 3882,-230.5 3888,-230.5 3894,-236.5 3894,-242.5 3894,-242.5 3894,-286.5 3894,-286.5 3894,-292.5 3888,-298.5 3882,-298.5\"/>\n<text text-anchor=\"middle\" x=\"3828.5\" y=\"-283.3\" font-family=\"Helvetica,sans-Serif\" font-size=\"14.00\" fill=\"#000000\">gini = 0.0</text>\n<text text-anchor=\"middle\" x=\"3828.5\" y=\"-268.3\" font-family=\"Helvetica,sans-Serif\" font-size=\"14.00\" fill=\"#000000\">samples = 3</text>\n<text text-anchor=\"middle\" x=\"3828.5\" y=\"-253.3\" font-family=\"Helvetica,sans-Serif\" font-size=\"14.00\" fill=\"#000000\">value = [0, 3, 0, 0]</text>\n<text text-anchor=\"middle\" x=\"3828.5\" y=\"-238.3\" font-family=\"Helvetica,sans-Serif\" font-size=\"14.00\" fill=\"#000000\">class = n</text>\n</g>\n<!-- 114&#45;&gt;115 -->\n<g id=\"edge115\" class=\"edge\">\n<title>114&#45;&gt;115</title>\n<path fill=\"none\" stroke=\"#000000\" d=\"M3880.5199,-341.8796C3872.9797,-330.6636 3864.8113,-318.5131 3857.2309,-307.2372\"/>\n<polygon fill=\"#000000\" stroke=\"#000000\" points=\"3860.0527,-305.1612 3851.5689,-298.8149 3854.2434,-309.0667 3860.0527,-305.1612\"/>\n</g>\n<!-- 116 -->\n<g id=\"node117\" class=\"node\">\n<title>116</title>\n<path fill=\"#d739e5\" stroke=\"#000000\" d=\"M4031,-298.5C4031,-298.5 3924,-298.5 3924,-298.5 3918,-298.5 3912,-292.5 3912,-286.5 3912,-286.5 3912,-242.5 3912,-242.5 3912,-236.5 3918,-230.5 3924,-230.5 3924,-230.5 4031,-230.5 4031,-230.5 4037,-230.5 4043,-236.5 4043,-242.5 4043,-242.5 4043,-286.5 4043,-286.5 4043,-292.5 4037,-298.5 4031,-298.5\"/>\n<text text-anchor=\"middle\" x=\"3977.5\" y=\"-283.3\" font-family=\"Helvetica,sans-Serif\" font-size=\"14.00\" fill=\"#000000\">gini = 0.0</text>\n<text text-anchor=\"middle\" x=\"3977.5\" y=\"-268.3\" font-family=\"Helvetica,sans-Serif\" font-size=\"14.00\" fill=\"#000000\">samples = 4</text>\n<text text-anchor=\"middle\" x=\"3977.5\" y=\"-253.3\" font-family=\"Helvetica,sans-Serif\" font-size=\"14.00\" fill=\"#000000\">value = [0, 0, 0, 4]</text>\n<text text-anchor=\"middle\" x=\"3977.5\" y=\"-238.3\" font-family=\"Helvetica,sans-Serif\" font-size=\"14.00\" fill=\"#000000\">class = e</text>\n</g>\n<!-- 114&#45;&gt;116 -->\n<g id=\"edge116\" class=\"edge\">\n<title>114&#45;&gt;116</title>\n<path fill=\"none\" stroke=\"#000000\" d=\"M3932.6329,-341.8796C3939.0725,-330.7735 3946.0434,-318.7513 3952.5271,-307.5691\"/>\n<polygon fill=\"#000000\" stroke=\"#000000\" points=\"3955.6148,-309.2215 3957.6031,-298.8149 3949.5591,-305.7102 3955.6148,-309.2215\"/>\n</g>\n<!-- 119 -->\n<g id=\"node120\" class=\"node\">\n<title>119</title>\n<path fill=\"#86c3ef\" stroke=\"#000000\" d=\"M4296,-544C4296,-544 4181,-544 4181,-544 4175,-544 4169,-538 4169,-532 4169,-532 4169,-473 4169,-473 4169,-467 4175,-461 4181,-461 4181,-461 4296,-461 4296,-461 4302,-461 4308,-467 4308,-473 4308,-473 4308,-532 4308,-532 4308,-538 4302,-544 4296,-544\"/>\n<text text-anchor=\"middle\" x=\"4238.5\" y=\"-528.8\" font-family=\"Helvetica,sans-Serif\" font-size=\"14.00\" fill=\"#000000\">doors &lt;= 0.5</text>\n<text text-anchor=\"middle\" x=\"4238.5\" y=\"-513.8\" font-family=\"Helvetica,sans-Serif\" font-size=\"14.00\" fill=\"#000000\">gini = 0.461</text>\n<text text-anchor=\"middle\" x=\"4238.5\" y=\"-498.8\" font-family=\"Helvetica,sans-Serif\" font-size=\"14.00\" fill=\"#000000\">samples = 23</text>\n<text text-anchor=\"middle\" x=\"4238.5\" y=\"-483.8\" font-family=\"Helvetica,sans-Serif\" font-size=\"14.00\" fill=\"#000000\">value = [0, 2, 16, 5]</text>\n<text text-anchor=\"middle\" x=\"4238.5\" y=\"-468.8\" font-family=\"Helvetica,sans-Serif\" font-size=\"14.00\" fill=\"#000000\">class = d</text>\n</g>\n<!-- 118&#45;&gt;119 -->\n<g id=\"edge119\" class=\"edge\">\n<title>118&#45;&gt;119</title>\n<path fill=\"none\" stroke=\"#000000\" d=\"M4238.5,-579.8796C4238.5,-571.6838 4238.5,-562.9891 4238.5,-554.5013\"/>\n<polygon fill=\"#000000\" stroke=\"#000000\" points=\"4242.0001,-554.298 4238.5,-544.2981 4235.0001,-554.2981 4242.0001,-554.298\"/>\n</g>\n<!-- 130 -->\n<g id=\"node131\" class=\"node\">\n<title>130</title>\n<path fill=\"#399de5\" stroke=\"#000000\" d=\"M4453,-536.5C4453,-536.5 4338,-536.5 4338,-536.5 4332,-536.5 4326,-530.5 4326,-524.5 4326,-524.5 4326,-480.5 4326,-480.5 4326,-474.5 4332,-468.5 4338,-468.5 4338,-468.5 4453,-468.5 4453,-468.5 4459,-468.5 4465,-474.5 4465,-480.5 4465,-480.5 4465,-524.5 4465,-524.5 4465,-530.5 4459,-536.5 4453,-536.5\"/>\n<text text-anchor=\"middle\" x=\"4395.5\" y=\"-521.3\" font-family=\"Helvetica,sans-Serif\" font-size=\"14.00\" fill=\"#000000\">gini = 0.0</text>\n<text text-anchor=\"middle\" x=\"4395.5\" y=\"-506.3\" font-family=\"Helvetica,sans-Serif\" font-size=\"14.00\" fill=\"#000000\">samples = 25</text>\n<text text-anchor=\"middle\" x=\"4395.5\" y=\"-491.3\" font-family=\"Helvetica,sans-Serif\" font-size=\"14.00\" fill=\"#000000\">value = [0, 0, 25, 0]</text>\n<text text-anchor=\"middle\" x=\"4395.5\" y=\"-476.3\" font-family=\"Helvetica,sans-Serif\" font-size=\"14.00\" fill=\"#000000\">class = d</text>\n</g>\n<!-- 118&#45;&gt;130 -->\n<g id=\"edge130\" class=\"edge\">\n<title>118&#45;&gt;130</title>\n<path fill=\"none\" stroke=\"#000000\" d=\"M4293.411,-579.8796C4309.2994,-567.8368 4326.6091,-554.7167 4342.3857,-542.7586\"/>\n<polygon fill=\"#000000\" stroke=\"#000000\" points=\"4344.6253,-545.4529 4350.4805,-536.623 4340.3969,-539.8743 4344.6253,-545.4529\"/>\n</g>\n<!-- 120 -->\n<g id=\"node121\" class=\"node\">\n<title>120</title>\n<path fill=\"#f2bdf6\" stroke=\"#000000\" d=\"M4292,-425C4292,-425 4185,-425 4185,-425 4179,-425 4173,-419 4173,-413 4173,-413 4173,-354 4173,-354 4173,-348 4179,-342 4185,-342 4185,-342 4292,-342 4292,-342 4298,-342 4304,-348 4304,-354 4304,-354 4304,-413 4304,-413 4304,-419 4298,-425 4292,-425\"/>\n<text text-anchor=\"middle\" x=\"4238.5\" y=\"-409.8\" font-family=\"Helvetica,sans-Serif\" font-size=\"14.00\" fill=\"#000000\">buying &lt;= 2.5</text>\n<text text-anchor=\"middle\" x=\"4238.5\" y=\"-394.8\" font-family=\"Helvetica,sans-Serif\" font-size=\"14.00\" fill=\"#000000\">gini = 0.48</text>\n<text text-anchor=\"middle\" x=\"4238.5\" y=\"-379.8\" font-family=\"Helvetica,sans-Serif\" font-size=\"14.00\" fill=\"#000000\">samples = 5</text>\n<text text-anchor=\"middle\" x=\"4238.5\" y=\"-364.8\" font-family=\"Helvetica,sans-Serif\" font-size=\"14.00\" fill=\"#000000\">value = [0, 2, 0, 3]</text>\n<text text-anchor=\"middle\" x=\"4238.5\" y=\"-349.8\" font-family=\"Helvetica,sans-Serif\" font-size=\"14.00\" fill=\"#000000\">class = e</text>\n</g>\n<!-- 119&#45;&gt;120 -->\n<g id=\"edge120\" class=\"edge\">\n<title>119&#45;&gt;120</title>\n<path fill=\"none\" stroke=\"#000000\" d=\"M4238.5,-460.8796C4238.5,-452.6838 4238.5,-443.9891 4238.5,-435.5013\"/>\n<polygon fill=\"#000000\" stroke=\"#000000\" points=\"4242.0001,-435.298 4238.5,-425.2981 4235.0001,-435.2981 4242.0001,-435.298\"/>\n</g>\n<!-- 125 -->\n<g id=\"node126\" class=\"node\">\n<title>125</title>\n<path fill=\"#52a9e8\" stroke=\"#000000\" d=\"M4482,-425C4482,-425 4367,-425 4367,-425 4361,-425 4355,-419 4355,-413 4355,-413 4355,-354 4355,-354 4355,-348 4361,-342 4367,-342 4367,-342 4482,-342 4482,-342 4488,-342 4494,-348 4494,-354 4494,-354 4494,-413 4494,-413 4494,-419 4488,-425 4482,-425\"/>\n<text text-anchor=\"middle\" x=\"4424.5\" y=\"-409.8\" font-family=\"Helvetica,sans-Serif\" font-size=\"14.00\" fill=\"#000000\">doors &lt;= 1.5</text>\n<text text-anchor=\"middle\" x=\"4424.5\" y=\"-394.8\" font-family=\"Helvetica,sans-Serif\" font-size=\"14.00\" fill=\"#000000\">gini = 0.198</text>\n<text text-anchor=\"middle\" x=\"4424.5\" y=\"-379.8\" font-family=\"Helvetica,sans-Serif\" font-size=\"14.00\" fill=\"#000000\">samples = 18</text>\n<text text-anchor=\"middle\" x=\"4424.5\" y=\"-364.8\" font-family=\"Helvetica,sans-Serif\" font-size=\"14.00\" fill=\"#000000\">value = [0, 0, 16, 2]</text>\n<text text-anchor=\"middle\" x=\"4424.5\" y=\"-349.8\" font-family=\"Helvetica,sans-Serif\" font-size=\"14.00\" fill=\"#000000\">class = d</text>\n</g>\n<!-- 119&#45;&gt;125 -->\n<g id=\"edge125\" class=\"edge\">\n<title>119&#45;&gt;125</title>\n<path fill=\"none\" stroke=\"#000000\" d=\"M4303.5538,-460.8796C4318.8454,-451.0962 4335.2484,-440.6019 4350.886,-430.5971\"/>\n<polygon fill=\"#000000\" stroke=\"#000000\" points=\"4352.9457,-433.4345 4359.483,-425.0969 4349.1732,-427.538 4352.9457,-433.4345\"/>\n</g>\n<!-- 121 -->\n<g id=\"node122\" class=\"node\">\n<title>121</title>\n<path fill=\"#a3f29c\" stroke=\"#000000\" d=\"M4180,-306C4180,-306 4073,-306 4073,-306 4067,-306 4061,-300 4061,-294 4061,-294 4061,-235 4061,-235 4061,-229 4067,-223 4073,-223 4073,-223 4180,-223 4180,-223 4186,-223 4192,-229 4192,-235 4192,-235 4192,-294 4192,-294 4192,-300 4186,-306 4180,-306\"/>\n<text text-anchor=\"middle\" x=\"4126.5\" y=\"-290.8\" font-family=\"Helvetica,sans-Serif\" font-size=\"14.00\" fill=\"#000000\">maint &lt;= 2.5</text>\n<text text-anchor=\"middle\" x=\"4126.5\" y=\"-275.8\" font-family=\"Helvetica,sans-Serif\" font-size=\"14.00\" fill=\"#000000\">gini = 0.444</text>\n<text text-anchor=\"middle\" x=\"4126.5\" y=\"-260.8\" font-family=\"Helvetica,sans-Serif\" font-size=\"14.00\" fill=\"#000000\">samples = 3</text>\n<text text-anchor=\"middle\" x=\"4126.5\" y=\"-245.8\" font-family=\"Helvetica,sans-Serif\" font-size=\"14.00\" fill=\"#000000\">value = [0, 2, 0, 1]</text>\n<text text-anchor=\"middle\" x=\"4126.5\" y=\"-230.8\" font-family=\"Helvetica,sans-Serif\" font-size=\"14.00\" fill=\"#000000\">class = n</text>\n</g>\n<!-- 120&#45;&gt;121 -->\n<g id=\"edge121\" class=\"edge\">\n<title>120&#45;&gt;121</title>\n<path fill=\"none\" stroke=\"#000000\" d=\"M4199.3278,-341.8796C4190.7665,-332.7832 4181.6268,-323.0722 4172.8168,-313.7116\"/>\n<polygon fill=\"#000000\" stroke=\"#000000\" points=\"4175.2417,-311.1813 4165.8394,-306.2981 4170.1443,-315.9789 4175.2417,-311.1813\"/>\n</g>\n<!-- 124 -->\n<g id=\"node125\" class=\"node\">\n<title>124</title>\n<path fill=\"#d739e5\" stroke=\"#000000\" d=\"M4329,-298.5C4329,-298.5 4222,-298.5 4222,-298.5 4216,-298.5 4210,-292.5 4210,-286.5 4210,-286.5 4210,-242.5 4210,-242.5 4210,-236.5 4216,-230.5 4222,-230.5 4222,-230.5 4329,-230.5 4329,-230.5 4335,-230.5 4341,-236.5 4341,-242.5 4341,-242.5 4341,-286.5 4341,-286.5 4341,-292.5 4335,-298.5 4329,-298.5\"/>\n<text text-anchor=\"middle\" x=\"4275.5\" y=\"-283.3\" font-family=\"Helvetica,sans-Serif\" font-size=\"14.00\" fill=\"#000000\">gini = 0.0</text>\n<text text-anchor=\"middle\" x=\"4275.5\" y=\"-268.3\" font-family=\"Helvetica,sans-Serif\" font-size=\"14.00\" fill=\"#000000\">samples = 2</text>\n<text text-anchor=\"middle\" x=\"4275.5\" y=\"-253.3\" font-family=\"Helvetica,sans-Serif\" font-size=\"14.00\" fill=\"#000000\">value = [0, 0, 0, 2]</text>\n<text text-anchor=\"middle\" x=\"4275.5\" y=\"-238.3\" font-family=\"Helvetica,sans-Serif\" font-size=\"14.00\" fill=\"#000000\">class = e</text>\n</g>\n<!-- 120&#45;&gt;124 -->\n<g id=\"edge124\" class=\"edge\">\n<title>120&#45;&gt;124</title>\n<path fill=\"none\" stroke=\"#000000\" d=\"M4251.4408,-341.8796C4254.7914,-331.1034 4258.4101,-319.4647 4261.7983,-308.5677\"/>\n<polygon fill=\"#000000\" stroke=\"#000000\" points=\"4265.2037,-309.4032 4264.8307,-298.8149 4258.5194,-307.3248 4265.2037,-309.4032\"/>\n</g>\n<!-- 122 -->\n<g id=\"node123\" class=\"node\">\n<title>122</title>\n<path fill=\"#47e539\" stroke=\"#000000\" d=\"M4105,-179.5C4105,-179.5 3998,-179.5 3998,-179.5 3992,-179.5 3986,-173.5 3986,-167.5 3986,-167.5 3986,-123.5 3986,-123.5 3986,-117.5 3992,-111.5 3998,-111.5 3998,-111.5 4105,-111.5 4105,-111.5 4111,-111.5 4117,-117.5 4117,-123.5 4117,-123.5 4117,-167.5 4117,-167.5 4117,-173.5 4111,-179.5 4105,-179.5\"/>\n<text text-anchor=\"middle\" x=\"4051.5\" y=\"-164.3\" font-family=\"Helvetica,sans-Serif\" font-size=\"14.00\" fill=\"#000000\">gini = 0.0</text>\n<text text-anchor=\"middle\" x=\"4051.5\" y=\"-149.3\" font-family=\"Helvetica,sans-Serif\" font-size=\"14.00\" fill=\"#000000\">samples = 2</text>\n<text text-anchor=\"middle\" x=\"4051.5\" y=\"-134.3\" font-family=\"Helvetica,sans-Serif\" font-size=\"14.00\" fill=\"#000000\">value = [0, 2, 0, 0]</text>\n<text text-anchor=\"middle\" x=\"4051.5\" y=\"-119.3\" font-family=\"Helvetica,sans-Serif\" font-size=\"14.00\" fill=\"#000000\">class = n</text>\n</g>\n<!-- 121&#45;&gt;122 -->\n<g id=\"edge122\" class=\"edge\">\n<title>121&#45;&gt;122</title>\n<path fill=\"none\" stroke=\"#000000\" d=\"M4100.2686,-222.8796C4093.269,-211.7735 4085.692,-199.7513 4078.6444,-188.5691\"/>\n<polygon fill=\"#000000\" stroke=\"#000000\" points=\"4081.42,-186.4087 4073.1271,-179.8149 4075.498,-190.1411 4081.42,-186.4087\"/>\n</g>\n<!-- 123 -->\n<g id=\"node124\" class=\"node\">\n<title>123</title>\n<path fill=\"#d739e5\" stroke=\"#000000\" d=\"M4254,-179.5C4254,-179.5 4147,-179.5 4147,-179.5 4141,-179.5 4135,-173.5 4135,-167.5 4135,-167.5 4135,-123.5 4135,-123.5 4135,-117.5 4141,-111.5 4147,-111.5 4147,-111.5 4254,-111.5 4254,-111.5 4260,-111.5 4266,-117.5 4266,-123.5 4266,-123.5 4266,-167.5 4266,-167.5 4266,-173.5 4260,-179.5 4254,-179.5\"/>\n<text text-anchor=\"middle\" x=\"4200.5\" y=\"-164.3\" font-family=\"Helvetica,sans-Serif\" font-size=\"14.00\" fill=\"#000000\">gini = 0.0</text>\n<text text-anchor=\"middle\" x=\"4200.5\" y=\"-149.3\" font-family=\"Helvetica,sans-Serif\" font-size=\"14.00\" fill=\"#000000\">samples = 1</text>\n<text text-anchor=\"middle\" x=\"4200.5\" y=\"-134.3\" font-family=\"Helvetica,sans-Serif\" font-size=\"14.00\" fill=\"#000000\">value = [0, 0, 0, 1]</text>\n<text text-anchor=\"middle\" x=\"4200.5\" y=\"-119.3\" font-family=\"Helvetica,sans-Serif\" font-size=\"14.00\" fill=\"#000000\">class = e</text>\n</g>\n<!-- 121&#45;&gt;123 -->\n<g id=\"edge123\" class=\"edge\">\n<title>121&#45;&gt;123</title>\n<path fill=\"none\" stroke=\"#000000\" d=\"M4152.3816,-222.8796C4159.2879,-211.7735 4166.7639,-199.7513 4173.7175,-188.5691\"/>\n<polygon fill=\"#000000\" stroke=\"#000000\" points=\"4176.8527,-190.1552 4179.1613,-179.8149 4170.9083,-186.4587 4176.8527,-190.1552\"/>\n</g>\n<!-- 126 -->\n<g id=\"node127\" class=\"node\">\n<title>126</title>\n<path fill=\"#9ccef2\" stroke=\"#000000\" d=\"M4478,-306C4478,-306 4371,-306 4371,-306 4365,-306 4359,-300 4359,-294 4359,-294 4359,-235 4359,-235 4359,-229 4365,-223 4371,-223 4371,-223 4478,-223 4478,-223 4484,-223 4490,-229 4490,-235 4490,-235 4490,-294 4490,-294 4490,-300 4484,-306 4478,-306\"/>\n<text text-anchor=\"middle\" x=\"4424.5\" y=\"-290.8\" font-family=\"Helvetica,sans-Serif\" font-size=\"14.00\" fill=\"#000000\">persons &lt;= 1.5</text>\n<text text-anchor=\"middle\" x=\"4424.5\" y=\"-275.8\" font-family=\"Helvetica,sans-Serif\" font-size=\"14.00\" fill=\"#000000\">gini = 0.444</text>\n<text text-anchor=\"middle\" x=\"4424.5\" y=\"-260.8\" font-family=\"Helvetica,sans-Serif\" font-size=\"14.00\" fill=\"#000000\">samples = 6</text>\n<text text-anchor=\"middle\" x=\"4424.5\" y=\"-245.8\" font-family=\"Helvetica,sans-Serif\" font-size=\"14.00\" fill=\"#000000\">value = [0, 0, 4, 2]</text>\n<text text-anchor=\"middle\" x=\"4424.5\" y=\"-230.8\" font-family=\"Helvetica,sans-Serif\" font-size=\"14.00\" fill=\"#000000\">class = d</text>\n</g>\n<!-- 125&#45;&gt;126 -->\n<g id=\"edge126\" class=\"edge\">\n<title>125&#45;&gt;126</title>\n<path fill=\"none\" stroke=\"#000000\" d=\"M4424.5,-341.8796C4424.5,-333.6838 4424.5,-324.9891 4424.5,-316.5013\"/>\n<polygon fill=\"#000000\" stroke=\"#000000\" points=\"4428.0001,-316.298 4424.5,-306.2981 4421.0001,-316.2981 4428.0001,-316.298\"/>\n</g>\n<!-- 129 -->\n<g id=\"node130\" class=\"node\">\n<title>129</title>\n<path fill=\"#399de5\" stroke=\"#000000\" d=\"M4635,-298.5C4635,-298.5 4520,-298.5 4520,-298.5 4514,-298.5 4508,-292.5 4508,-286.5 4508,-286.5 4508,-242.5 4508,-242.5 4508,-236.5 4514,-230.5 4520,-230.5 4520,-230.5 4635,-230.5 4635,-230.5 4641,-230.5 4647,-236.5 4647,-242.5 4647,-242.5 4647,-286.5 4647,-286.5 4647,-292.5 4641,-298.5 4635,-298.5\"/>\n<text text-anchor=\"middle\" x=\"4577.5\" y=\"-283.3\" font-family=\"Helvetica,sans-Serif\" font-size=\"14.00\" fill=\"#000000\">gini = 0.0</text>\n<text text-anchor=\"middle\" x=\"4577.5\" y=\"-268.3\" font-family=\"Helvetica,sans-Serif\" font-size=\"14.00\" fill=\"#000000\">samples = 12</text>\n<text text-anchor=\"middle\" x=\"4577.5\" y=\"-253.3\" font-family=\"Helvetica,sans-Serif\" font-size=\"14.00\" fill=\"#000000\">value = [0, 0, 12, 0]</text>\n<text text-anchor=\"middle\" x=\"4577.5\" y=\"-238.3\" font-family=\"Helvetica,sans-Serif\" font-size=\"14.00\" fill=\"#000000\">class = d</text>\n</g>\n<!-- 125&#45;&gt;129 -->\n<g id=\"edge129\" class=\"edge\">\n<title>125&#45;&gt;129</title>\n<path fill=\"none\" stroke=\"#000000\" d=\"M4478.012,-341.8796C4493.2808,-330.0038 4509.8966,-317.0804 4525.0984,-305.2568\"/>\n<polygon fill=\"#000000\" stroke=\"#000000\" points=\"4527.6361,-307.7171 4533.3808,-298.8149 4523.3384,-302.1916 4527.6361,-307.7171\"/>\n</g>\n<!-- 127 -->\n<g id=\"node128\" class=\"node\">\n<title>127</title>\n<path fill=\"#d739e5\" stroke=\"#000000\" d=\"M4403,-179.5C4403,-179.5 4296,-179.5 4296,-179.5 4290,-179.5 4284,-173.5 4284,-167.5 4284,-167.5 4284,-123.5 4284,-123.5 4284,-117.5 4290,-111.5 4296,-111.5 4296,-111.5 4403,-111.5 4403,-111.5 4409,-111.5 4415,-117.5 4415,-123.5 4415,-123.5 4415,-167.5 4415,-167.5 4415,-173.5 4409,-179.5 4403,-179.5\"/>\n<text text-anchor=\"middle\" x=\"4349.5\" y=\"-164.3\" font-family=\"Helvetica,sans-Serif\" font-size=\"14.00\" fill=\"#000000\">gini = 0.0</text>\n<text text-anchor=\"middle\" x=\"4349.5\" y=\"-149.3\" font-family=\"Helvetica,sans-Serif\" font-size=\"14.00\" fill=\"#000000\">samples = 2</text>\n<text text-anchor=\"middle\" x=\"4349.5\" y=\"-134.3\" font-family=\"Helvetica,sans-Serif\" font-size=\"14.00\" fill=\"#000000\">value = [0, 0, 0, 2]</text>\n<text text-anchor=\"middle\" x=\"4349.5\" y=\"-119.3\" font-family=\"Helvetica,sans-Serif\" font-size=\"14.00\" fill=\"#000000\">class = e</text>\n</g>\n<!-- 126&#45;&gt;127 -->\n<g id=\"edge127\" class=\"edge\">\n<title>126&#45;&gt;127</title>\n<path fill=\"none\" stroke=\"#000000\" d=\"M4398.2686,-222.8796C4391.269,-211.7735 4383.692,-199.7513 4376.6444,-188.5691\"/>\n<polygon fill=\"#000000\" stroke=\"#000000\" points=\"4379.42,-186.4087 4371.1271,-179.8149 4373.498,-190.1411 4379.42,-186.4087\"/>\n</g>\n<!-- 128 -->\n<g id=\"node129\" class=\"node\">\n<title>128</title>\n<path fill=\"#399de5\" stroke=\"#000000\" d=\"M4552,-179.5C4552,-179.5 4445,-179.5 4445,-179.5 4439,-179.5 4433,-173.5 4433,-167.5 4433,-167.5 4433,-123.5 4433,-123.5 4433,-117.5 4439,-111.5 4445,-111.5 4445,-111.5 4552,-111.5 4552,-111.5 4558,-111.5 4564,-117.5 4564,-123.5 4564,-123.5 4564,-167.5 4564,-167.5 4564,-173.5 4558,-179.5 4552,-179.5\"/>\n<text text-anchor=\"middle\" x=\"4498.5\" y=\"-164.3\" font-family=\"Helvetica,sans-Serif\" font-size=\"14.00\" fill=\"#000000\">gini = 0.0</text>\n<text text-anchor=\"middle\" x=\"4498.5\" y=\"-149.3\" font-family=\"Helvetica,sans-Serif\" font-size=\"14.00\" fill=\"#000000\">samples = 4</text>\n<text text-anchor=\"middle\" x=\"4498.5\" y=\"-134.3\" font-family=\"Helvetica,sans-Serif\" font-size=\"14.00\" fill=\"#000000\">value = [0, 0, 4, 0]</text>\n<text text-anchor=\"middle\" x=\"4498.5\" y=\"-119.3\" font-family=\"Helvetica,sans-Serif\" font-size=\"14.00\" fill=\"#000000\">class = d</text>\n</g>\n<!-- 126&#45;&gt;128 -->\n<g id=\"edge128\" class=\"edge\">\n<title>126&#45;&gt;128</title>\n<path fill=\"none\" stroke=\"#000000\" d=\"M4450.3816,-222.8796C4457.2879,-211.7735 4464.7639,-199.7513 4471.7175,-188.5691\"/>\n<polygon fill=\"#000000\" stroke=\"#000000\" points=\"4474.8527,-190.1552 4477.1613,-179.8149 4468.9083,-186.4587 4474.8527,-190.1552\"/>\n</g>\n</g>\n</svg>\n"
          },
          "metadata": {
            "tags": []
          },
          "execution_count": 80
        }
      ]
    },
    {
      "cell_type": "code",
      "metadata": {
        "id": "pHxaVam6iy84"
      },
      "source": [
        ""
      ],
      "execution_count": null,
      "outputs": []
    }
  ]
}